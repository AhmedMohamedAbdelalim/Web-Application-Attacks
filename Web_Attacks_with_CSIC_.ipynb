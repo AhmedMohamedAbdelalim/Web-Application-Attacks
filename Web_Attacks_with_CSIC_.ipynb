{
  "cells": [
    {
      "cell_type": "markdown",
      "metadata": {
        "id": "view-in-github",
        "colab_type": "text"
      },
      "source": [
        "<a href=\"https://colab.research.google.com/github/AhmedMohamedAbdelalim/Web-Application-Attacks/blob/main/Web_Attacks_with_CSIC_.ipynb\" target=\"_parent\"><img src=\"https://colab.research.google.com/assets/colab-badge.svg\" alt=\"Open In Colab\"/></a>"
      ]
    },
    {
      "cell_type": "code",
      "execution_count": 1,
      "metadata": {
        "colab": {
          "base_uri": "https://localhost:8080/"
        },
        "id": "85JgCzaGDVik",
        "outputId": "c237f388-60bc-4ba8-a741-1d683e32baca"
      },
      "outputs": [
        {
          "output_type": "stream",
          "name": "stdout",
          "text": [
            "Requirement already satisfied: gdown in /usr/local/lib/python3.11/dist-packages (5.2.0)\n",
            "Requirement already satisfied: beautifulsoup4 in /usr/local/lib/python3.11/dist-packages (from gdown) (4.13.4)\n",
            "Requirement already satisfied: filelock in /usr/local/lib/python3.11/dist-packages (from gdown) (3.18.0)\n",
            "Requirement already satisfied: requests[socks] in /usr/local/lib/python3.11/dist-packages (from gdown) (2.32.3)\n",
            "Requirement already satisfied: tqdm in /usr/local/lib/python3.11/dist-packages (from gdown) (4.67.1)\n",
            "Requirement already satisfied: soupsieve>1.2 in /usr/local/lib/python3.11/dist-packages (from beautifulsoup4->gdown) (2.7)\n",
            "Requirement already satisfied: typing-extensions>=4.0.0 in /usr/local/lib/python3.11/dist-packages (from beautifulsoup4->gdown) (4.13.2)\n",
            "Requirement already satisfied: charset-normalizer<4,>=2 in /usr/local/lib/python3.11/dist-packages (from requests[socks]->gdown) (3.4.2)\n",
            "Requirement already satisfied: idna<4,>=2.5 in /usr/local/lib/python3.11/dist-packages (from requests[socks]->gdown) (3.10)\n",
            "Requirement already satisfied: urllib3<3,>=1.21.1 in /usr/local/lib/python3.11/dist-packages (from requests[socks]->gdown) (2.4.0)\n",
            "Requirement already satisfied: certifi>=2017.4.17 in /usr/local/lib/python3.11/dist-packages (from requests[socks]->gdown) (2025.4.26)\n",
            "Requirement already satisfied: PySocks!=1.5.7,>=1.5.6 in /usr/local/lib/python3.11/dist-packages (from requests[socks]->gdown) (1.7.1)\n"
          ]
        }
      ],
      "source": [
        "# @title Install\n",
        "!pip install -U gdown\n",
        "import gdown\n"
      ]
    },
    {
      "cell_type": "code",
      "execution_count": 2,
      "metadata": {
        "colab": {
          "base_uri": "https://localhost:8080/",
          "height": 573
        },
        "id": "ZNUtToxyEGxQ",
        "outputId": "549328db-393c-4968-9742-06778825ddba"
      },
      "outputs": [
        {
          "output_type": "stream",
          "name": "stderr",
          "text": [
            "Downloading...\n",
            "From: https://drive.google.com/uc?id=1YVxjEXKbL8Eyq7BVhHCJmgokMaVMTjJ-\n",
            "To: /content/csic_database.csv\n",
            "100%|██████████| 29.5M/29.5M [00:00<00:00, 60.2MB/s]\n"
          ]
        },
        {
          "output_type": "execute_result",
          "data": {
            "text/plain": [
              "  Unnamed: 0 Method                                         User-Agent  \\\n",
              "0     Normal    GET  Mozilla/5.0 (compatible; Konqueror/3.5; Linux)...   \n",
              "1     Normal    GET  Mozilla/5.0 (compatible; Konqueror/3.5; Linux)...   \n",
              "2     Normal   POST  Mozilla/5.0 (compatible; Konqueror/3.5; Linux)...   \n",
              "3     Normal    GET  Mozilla/5.0 (compatible; Konqueror/3.5; Linux)...   \n",
              "4     Normal   POST  Mozilla/5.0 (compatible; Konqueror/3.5; Linux)...   \n",
              "\n",
              "     Pragma Cache-Control                                             Accept  \\\n",
              "0  no-cache      no-cache  text/xml,application/xml,application/xhtml+xml...   \n",
              "1  no-cache      no-cache  text/xml,application/xml,application/xhtml+xml...   \n",
              "2  no-cache      no-cache  text/xml,application/xml,application/xhtml+xml...   \n",
              "3  no-cache      no-cache  text/xml,application/xml,application/xhtml+xml...   \n",
              "4  no-cache      no-cache  text/xml,application/xml,application/xhtml+xml...   \n",
              "\n",
              "                    Accept-encoding               Accept-charset language  \\\n",
              "0  x-gzip, x-deflate, gzip, deflate  utf-8, utf-8;q=0.5, *;q=0.5       en   \n",
              "1  x-gzip, x-deflate, gzip, deflate  utf-8, utf-8;q=0.5, *;q=0.5       en   \n",
              "2  x-gzip, x-deflate, gzip, deflate  utf-8, utf-8;q=0.5, *;q=0.5       en   \n",
              "3  x-gzip, x-deflate, gzip, deflate  utf-8, utf-8;q=0.5, *;q=0.5       en   \n",
              "4  x-gzip, x-deflate, gzip, deflate  utf-8, utf-8;q=0.5, *;q=0.5       en   \n",
              "\n",
              "             host                                       cookie  \\\n",
              "0  localhost:8080  JSESSIONID=1F767F17239C9B670A39E9B10C3825F4   \n",
              "1  localhost:8080  JSESSIONID=81761ACA043B0E6014CA42A4BCD06AB5   \n",
              "2  localhost:8080  JSESSIONID=933185092E0B668B90676E0A2B0767AF   \n",
              "3  localhost:8080  JSESSIONID=8FA18BA82C5336D03D3A8AFA3E68CBB0   \n",
              "4  localhost:8080  JSESSIONID=7104E6C68A6BCF1423DAE990CE49FEE2   \n",
              "\n",
              "                        content-type         connection              lenght  \\\n",
              "0                                NaN              close                 NaN   \n",
              "1                                NaN              close                 NaN   \n",
              "2  application/x-www-form-urlencoded  Connection: close  Content-Length: 68   \n",
              "3                                NaN              close                 NaN   \n",
              "4  application/x-www-form-urlencoded  Connection: close  Content-Length: 63   \n",
              "\n",
              "                                             content  classification  \\\n",
              "0                                                NaN               0   \n",
              "1                                                NaN               0   \n",
              "2  id=3&nombre=Vino+Rioja&precio=100&cantidad=55&...               0   \n",
              "3                                                NaN               0   \n",
              "4  modo=entrar&login=choong&pwd=d1se3ci%F3n&remem...               0   \n",
              "\n",
              "                                                 URL  \n",
              "0   http://localhost:8080/tienda1/index.jsp HTTP/1.1  \n",
              "1  http://localhost:8080/tienda1/publico/anadir.j...  \n",
              "2  http://localhost:8080/tienda1/publico/anadir.j...  \n",
              "3  http://localhost:8080/tienda1/publico/autentic...  \n",
              "4  http://localhost:8080/tienda1/publico/autentic...  "
            ],
            "text/html": [
              "\n",
              "  <div id=\"df-66862a89-96a9-400b-afc4-be30fc1c2f39\" class=\"colab-df-container\">\n",
              "    <div>\n",
              "<style scoped>\n",
              "    .dataframe tbody tr th:only-of-type {\n",
              "        vertical-align: middle;\n",
              "    }\n",
              "\n",
              "    .dataframe tbody tr th {\n",
              "        vertical-align: top;\n",
              "    }\n",
              "\n",
              "    .dataframe thead th {\n",
              "        text-align: right;\n",
              "    }\n",
              "</style>\n",
              "<table border=\"1\" class=\"dataframe\">\n",
              "  <thead>\n",
              "    <tr style=\"text-align: right;\">\n",
              "      <th></th>\n",
              "      <th>Unnamed: 0</th>\n",
              "      <th>Method</th>\n",
              "      <th>User-Agent</th>\n",
              "      <th>Pragma</th>\n",
              "      <th>Cache-Control</th>\n",
              "      <th>Accept</th>\n",
              "      <th>Accept-encoding</th>\n",
              "      <th>Accept-charset</th>\n",
              "      <th>language</th>\n",
              "      <th>host</th>\n",
              "      <th>cookie</th>\n",
              "      <th>content-type</th>\n",
              "      <th>connection</th>\n",
              "      <th>lenght</th>\n",
              "      <th>content</th>\n",
              "      <th>classification</th>\n",
              "      <th>URL</th>\n",
              "    </tr>\n",
              "  </thead>\n",
              "  <tbody>\n",
              "    <tr>\n",
              "      <th>0</th>\n",
              "      <td>Normal</td>\n",
              "      <td>GET</td>\n",
              "      <td>Mozilla/5.0 (compatible; Konqueror/3.5; Linux)...</td>\n",
              "      <td>no-cache</td>\n",
              "      <td>no-cache</td>\n",
              "      <td>text/xml,application/xml,application/xhtml+xml...</td>\n",
              "      <td>x-gzip, x-deflate, gzip, deflate</td>\n",
              "      <td>utf-8, utf-8;q=0.5, *;q=0.5</td>\n",
              "      <td>en</td>\n",
              "      <td>localhost:8080</td>\n",
              "      <td>JSESSIONID=1F767F17239C9B670A39E9B10C3825F4</td>\n",
              "      <td>NaN</td>\n",
              "      <td>close</td>\n",
              "      <td>NaN</td>\n",
              "      <td>NaN</td>\n",
              "      <td>0</td>\n",
              "      <td>http://localhost:8080/tienda1/index.jsp HTTP/1.1</td>\n",
              "    </tr>\n",
              "    <tr>\n",
              "      <th>1</th>\n",
              "      <td>Normal</td>\n",
              "      <td>GET</td>\n",
              "      <td>Mozilla/5.0 (compatible; Konqueror/3.5; Linux)...</td>\n",
              "      <td>no-cache</td>\n",
              "      <td>no-cache</td>\n",
              "      <td>text/xml,application/xml,application/xhtml+xml...</td>\n",
              "      <td>x-gzip, x-deflate, gzip, deflate</td>\n",
              "      <td>utf-8, utf-8;q=0.5, *;q=0.5</td>\n",
              "      <td>en</td>\n",
              "      <td>localhost:8080</td>\n",
              "      <td>JSESSIONID=81761ACA043B0E6014CA42A4BCD06AB5</td>\n",
              "      <td>NaN</td>\n",
              "      <td>close</td>\n",
              "      <td>NaN</td>\n",
              "      <td>NaN</td>\n",
              "      <td>0</td>\n",
              "      <td>http://localhost:8080/tienda1/publico/anadir.j...</td>\n",
              "    </tr>\n",
              "    <tr>\n",
              "      <th>2</th>\n",
              "      <td>Normal</td>\n",
              "      <td>POST</td>\n",
              "      <td>Mozilla/5.0 (compatible; Konqueror/3.5; Linux)...</td>\n",
              "      <td>no-cache</td>\n",
              "      <td>no-cache</td>\n",
              "      <td>text/xml,application/xml,application/xhtml+xml...</td>\n",
              "      <td>x-gzip, x-deflate, gzip, deflate</td>\n",
              "      <td>utf-8, utf-8;q=0.5, *;q=0.5</td>\n",
              "      <td>en</td>\n",
              "      <td>localhost:8080</td>\n",
              "      <td>JSESSIONID=933185092E0B668B90676E0A2B0767AF</td>\n",
              "      <td>application/x-www-form-urlencoded</td>\n",
              "      <td>Connection: close</td>\n",
              "      <td>Content-Length: 68</td>\n",
              "      <td>id=3&amp;nombre=Vino+Rioja&amp;precio=100&amp;cantidad=55&amp;...</td>\n",
              "      <td>0</td>\n",
              "      <td>http://localhost:8080/tienda1/publico/anadir.j...</td>\n",
              "    </tr>\n",
              "    <tr>\n",
              "      <th>3</th>\n",
              "      <td>Normal</td>\n",
              "      <td>GET</td>\n",
              "      <td>Mozilla/5.0 (compatible; Konqueror/3.5; Linux)...</td>\n",
              "      <td>no-cache</td>\n",
              "      <td>no-cache</td>\n",
              "      <td>text/xml,application/xml,application/xhtml+xml...</td>\n",
              "      <td>x-gzip, x-deflate, gzip, deflate</td>\n",
              "      <td>utf-8, utf-8;q=0.5, *;q=0.5</td>\n",
              "      <td>en</td>\n",
              "      <td>localhost:8080</td>\n",
              "      <td>JSESSIONID=8FA18BA82C5336D03D3A8AFA3E68CBB0</td>\n",
              "      <td>NaN</td>\n",
              "      <td>close</td>\n",
              "      <td>NaN</td>\n",
              "      <td>NaN</td>\n",
              "      <td>0</td>\n",
              "      <td>http://localhost:8080/tienda1/publico/autentic...</td>\n",
              "    </tr>\n",
              "    <tr>\n",
              "      <th>4</th>\n",
              "      <td>Normal</td>\n",
              "      <td>POST</td>\n",
              "      <td>Mozilla/5.0 (compatible; Konqueror/3.5; Linux)...</td>\n",
              "      <td>no-cache</td>\n",
              "      <td>no-cache</td>\n",
              "      <td>text/xml,application/xml,application/xhtml+xml...</td>\n",
              "      <td>x-gzip, x-deflate, gzip, deflate</td>\n",
              "      <td>utf-8, utf-8;q=0.5, *;q=0.5</td>\n",
              "      <td>en</td>\n",
              "      <td>localhost:8080</td>\n",
              "      <td>JSESSIONID=7104E6C68A6BCF1423DAE990CE49FEE2</td>\n",
              "      <td>application/x-www-form-urlencoded</td>\n",
              "      <td>Connection: close</td>\n",
              "      <td>Content-Length: 63</td>\n",
              "      <td>modo=entrar&amp;login=choong&amp;pwd=d1se3ci%F3n&amp;remem...</td>\n",
              "      <td>0</td>\n",
              "      <td>http://localhost:8080/tienda1/publico/autentic...</td>\n",
              "    </tr>\n",
              "  </tbody>\n",
              "</table>\n",
              "</div>\n",
              "    <div class=\"colab-df-buttons\">\n",
              "\n",
              "  <div class=\"colab-df-container\">\n",
              "    <button class=\"colab-df-convert\" onclick=\"convertToInteractive('df-66862a89-96a9-400b-afc4-be30fc1c2f39')\"\n",
              "            title=\"Convert this dataframe to an interactive table.\"\n",
              "            style=\"display:none;\">\n",
              "\n",
              "  <svg xmlns=\"http://www.w3.org/2000/svg\" height=\"24px\" viewBox=\"0 -960 960 960\">\n",
              "    <path d=\"M120-120v-720h720v720H120Zm60-500h600v-160H180v160Zm220 220h160v-160H400v160Zm0 220h160v-160H400v160ZM180-400h160v-160H180v160Zm440 0h160v-160H620v160ZM180-180h160v-160H180v160Zm440 0h160v-160H620v160Z\"/>\n",
              "  </svg>\n",
              "    </button>\n",
              "\n",
              "  <style>\n",
              "    .colab-df-container {\n",
              "      display:flex;\n",
              "      gap: 12px;\n",
              "    }\n",
              "\n",
              "    .colab-df-convert {\n",
              "      background-color: #E8F0FE;\n",
              "      border: none;\n",
              "      border-radius: 50%;\n",
              "      cursor: pointer;\n",
              "      display: none;\n",
              "      fill: #1967D2;\n",
              "      height: 32px;\n",
              "      padding: 0 0 0 0;\n",
              "      width: 32px;\n",
              "    }\n",
              "\n",
              "    .colab-df-convert:hover {\n",
              "      background-color: #E2EBFA;\n",
              "      box-shadow: 0px 1px 2px rgba(60, 64, 67, 0.3), 0px 1px 3px 1px rgba(60, 64, 67, 0.15);\n",
              "      fill: #174EA6;\n",
              "    }\n",
              "\n",
              "    .colab-df-buttons div {\n",
              "      margin-bottom: 4px;\n",
              "    }\n",
              "\n",
              "    [theme=dark] .colab-df-convert {\n",
              "      background-color: #3B4455;\n",
              "      fill: #D2E3FC;\n",
              "    }\n",
              "\n",
              "    [theme=dark] .colab-df-convert:hover {\n",
              "      background-color: #434B5C;\n",
              "      box-shadow: 0px 1px 3px 1px rgba(0, 0, 0, 0.15);\n",
              "      filter: drop-shadow(0px 1px 2px rgba(0, 0, 0, 0.3));\n",
              "      fill: #FFFFFF;\n",
              "    }\n",
              "  </style>\n",
              "\n",
              "    <script>\n",
              "      const buttonEl =\n",
              "        document.querySelector('#df-66862a89-96a9-400b-afc4-be30fc1c2f39 button.colab-df-convert');\n",
              "      buttonEl.style.display =\n",
              "        google.colab.kernel.accessAllowed ? 'block' : 'none';\n",
              "\n",
              "      async function convertToInteractive(key) {\n",
              "        const element = document.querySelector('#df-66862a89-96a9-400b-afc4-be30fc1c2f39');\n",
              "        const dataTable =\n",
              "          await google.colab.kernel.invokeFunction('convertToInteractive',\n",
              "                                                    [key], {});\n",
              "        if (!dataTable) return;\n",
              "\n",
              "        const docLinkHtml = 'Like what you see? Visit the ' +\n",
              "          '<a target=\"_blank\" href=https://colab.research.google.com/notebooks/data_table.ipynb>data table notebook</a>'\n",
              "          + ' to learn more about interactive tables.';\n",
              "        element.innerHTML = '';\n",
              "        dataTable['output_type'] = 'display_data';\n",
              "        await google.colab.output.renderOutput(dataTable, element);\n",
              "        const docLink = document.createElement('div');\n",
              "        docLink.innerHTML = docLinkHtml;\n",
              "        element.appendChild(docLink);\n",
              "      }\n",
              "    </script>\n",
              "  </div>\n",
              "\n",
              "\n",
              "    <div id=\"df-3ea0a29b-23e8-4649-821b-8c871dc2241c\">\n",
              "      <button class=\"colab-df-quickchart\" onclick=\"quickchart('df-3ea0a29b-23e8-4649-821b-8c871dc2241c')\"\n",
              "                title=\"Suggest charts\"\n",
              "                style=\"display:none;\">\n",
              "\n",
              "<svg xmlns=\"http://www.w3.org/2000/svg\" height=\"24px\"viewBox=\"0 0 24 24\"\n",
              "     width=\"24px\">\n",
              "    <g>\n",
              "        <path d=\"M19 3H5c-1.1 0-2 .9-2 2v14c0 1.1.9 2 2 2h14c1.1 0 2-.9 2-2V5c0-1.1-.9-2-2-2zM9 17H7v-7h2v7zm4 0h-2V7h2v10zm4 0h-2v-4h2v4z\"/>\n",
              "    </g>\n",
              "</svg>\n",
              "      </button>\n",
              "\n",
              "<style>\n",
              "  .colab-df-quickchart {\n",
              "      --bg-color: #E8F0FE;\n",
              "      --fill-color: #1967D2;\n",
              "      --hover-bg-color: #E2EBFA;\n",
              "      --hover-fill-color: #174EA6;\n",
              "      --disabled-fill-color: #AAA;\n",
              "      --disabled-bg-color: #DDD;\n",
              "  }\n",
              "\n",
              "  [theme=dark] .colab-df-quickchart {\n",
              "      --bg-color: #3B4455;\n",
              "      --fill-color: #D2E3FC;\n",
              "      --hover-bg-color: #434B5C;\n",
              "      --hover-fill-color: #FFFFFF;\n",
              "      --disabled-bg-color: #3B4455;\n",
              "      --disabled-fill-color: #666;\n",
              "  }\n",
              "\n",
              "  .colab-df-quickchart {\n",
              "    background-color: var(--bg-color);\n",
              "    border: none;\n",
              "    border-radius: 50%;\n",
              "    cursor: pointer;\n",
              "    display: none;\n",
              "    fill: var(--fill-color);\n",
              "    height: 32px;\n",
              "    padding: 0;\n",
              "    width: 32px;\n",
              "  }\n",
              "\n",
              "  .colab-df-quickchart:hover {\n",
              "    background-color: var(--hover-bg-color);\n",
              "    box-shadow: 0 1px 2px rgba(60, 64, 67, 0.3), 0 1px 3px 1px rgba(60, 64, 67, 0.15);\n",
              "    fill: var(--button-hover-fill-color);\n",
              "  }\n",
              "\n",
              "  .colab-df-quickchart-complete:disabled,\n",
              "  .colab-df-quickchart-complete:disabled:hover {\n",
              "    background-color: var(--disabled-bg-color);\n",
              "    fill: var(--disabled-fill-color);\n",
              "    box-shadow: none;\n",
              "  }\n",
              "\n",
              "  .colab-df-spinner {\n",
              "    border: 2px solid var(--fill-color);\n",
              "    border-color: transparent;\n",
              "    border-bottom-color: var(--fill-color);\n",
              "    animation:\n",
              "      spin 1s steps(1) infinite;\n",
              "  }\n",
              "\n",
              "  @keyframes spin {\n",
              "    0% {\n",
              "      border-color: transparent;\n",
              "      border-bottom-color: var(--fill-color);\n",
              "      border-left-color: var(--fill-color);\n",
              "    }\n",
              "    20% {\n",
              "      border-color: transparent;\n",
              "      border-left-color: var(--fill-color);\n",
              "      border-top-color: var(--fill-color);\n",
              "    }\n",
              "    30% {\n",
              "      border-color: transparent;\n",
              "      border-left-color: var(--fill-color);\n",
              "      border-top-color: var(--fill-color);\n",
              "      border-right-color: var(--fill-color);\n",
              "    }\n",
              "    40% {\n",
              "      border-color: transparent;\n",
              "      border-right-color: var(--fill-color);\n",
              "      border-top-color: var(--fill-color);\n",
              "    }\n",
              "    60% {\n",
              "      border-color: transparent;\n",
              "      border-right-color: var(--fill-color);\n",
              "    }\n",
              "    80% {\n",
              "      border-color: transparent;\n",
              "      border-right-color: var(--fill-color);\n",
              "      border-bottom-color: var(--fill-color);\n",
              "    }\n",
              "    90% {\n",
              "      border-color: transparent;\n",
              "      border-bottom-color: var(--fill-color);\n",
              "    }\n",
              "  }\n",
              "</style>\n",
              "\n",
              "      <script>\n",
              "        async function quickchart(key) {\n",
              "          const quickchartButtonEl =\n",
              "            document.querySelector('#' + key + ' button');\n",
              "          quickchartButtonEl.disabled = true;  // To prevent multiple clicks.\n",
              "          quickchartButtonEl.classList.add('colab-df-spinner');\n",
              "          try {\n",
              "            const charts = await google.colab.kernel.invokeFunction(\n",
              "                'suggestCharts', [key], {});\n",
              "          } catch (error) {\n",
              "            console.error('Error during call to suggestCharts:', error);\n",
              "          }\n",
              "          quickchartButtonEl.classList.remove('colab-df-spinner');\n",
              "          quickchartButtonEl.classList.add('colab-df-quickchart-complete');\n",
              "        }\n",
              "        (() => {\n",
              "          let quickchartButtonEl =\n",
              "            document.querySelector('#df-3ea0a29b-23e8-4649-821b-8c871dc2241c button');\n",
              "          quickchartButtonEl.style.display =\n",
              "            google.colab.kernel.accessAllowed ? 'block' : 'none';\n",
              "        })();\n",
              "      </script>\n",
              "    </div>\n",
              "\n",
              "    </div>\n",
              "  </div>\n"
            ],
            "application/vnd.google.colaboratory.intrinsic+json": {
              "type": "dataframe",
              "variable_name": "dataset_data",
              "summary": "{\n  \"name\": \"dataset_data\",\n  \"rows\": 61065,\n  \"fields\": [\n    {\n      \"column\": \"Unnamed: 0\",\n      \"properties\": {\n        \"dtype\": \"category\",\n        \"num_unique_values\": 2,\n        \"samples\": [\n          \"Anomalous\",\n          \"Normal\"\n        ],\n        \"semantic_type\": \"\",\n        \"description\": \"\"\n      }\n    },\n    {\n      \"column\": \"Method\",\n      \"properties\": {\n        \"dtype\": \"category\",\n        \"num_unique_values\": 3,\n        \"samples\": [\n          \"GET\",\n          \"POST\"\n        ],\n        \"semantic_type\": \"\",\n        \"description\": \"\"\n      }\n    },\n    {\n      \"column\": \"User-Agent\",\n      \"properties\": {\n        \"dtype\": \"category\",\n        \"num_unique_values\": 1,\n        \"samples\": [\n          \"Mozilla/5.0 (compatible; Konqueror/3.5; Linux) KHTML/3.5.8 (like Gecko)\"\n        ],\n        \"semantic_type\": \"\",\n        \"description\": \"\"\n      }\n    },\n    {\n      \"column\": \"Pragma\",\n      \"properties\": {\n        \"dtype\": \"category\",\n        \"num_unique_values\": 1,\n        \"samples\": [\n          \"no-cache\"\n        ],\n        \"semantic_type\": \"\",\n        \"description\": \"\"\n      }\n    },\n    {\n      \"column\": \"Cache-Control\",\n      \"properties\": {\n        \"dtype\": \"category\",\n        \"num_unique_values\": 1,\n        \"samples\": [\n          \"no-cache\"\n        ],\n        \"semantic_type\": \"\",\n        \"description\": \"\"\n      }\n    },\n    {\n      \"column\": \"Accept\",\n      \"properties\": {\n        \"dtype\": \"category\",\n        \"num_unique_values\": 1,\n        \"samples\": [\n          \"text/xml,application/xml,application/xhtml+xml,text/html;q=0.9,text/plain;q=0.8,image/png,*/*;q=0.5\"\n        ],\n        \"semantic_type\": \"\",\n        \"description\": \"\"\n      }\n    },\n    {\n      \"column\": \"Accept-encoding\",\n      \"properties\": {\n        \"dtype\": \"category\",\n        \"num_unique_values\": 1,\n        \"samples\": [\n          \"x-gzip, x-deflate, gzip, deflate\"\n        ],\n        \"semantic_type\": \"\",\n        \"description\": \"\"\n      }\n    },\n    {\n      \"column\": \"Accept-charset\",\n      \"properties\": {\n        \"dtype\": \"category\",\n        \"num_unique_values\": 1,\n        \"samples\": [\n          \"utf-8, utf-8;q=0.5, *;q=0.5\"\n        ],\n        \"semantic_type\": \"\",\n        \"description\": \"\"\n      }\n    },\n    {\n      \"column\": \"language\",\n      \"properties\": {\n        \"dtype\": \"category\",\n        \"num_unique_values\": 1,\n        \"samples\": [\n          \"en\"\n        ],\n        \"semantic_type\": \"\",\n        \"description\": \"\"\n      }\n    },\n    {\n      \"column\": \"host\",\n      \"properties\": {\n        \"dtype\": \"category\",\n        \"num_unique_values\": 2,\n        \"samples\": [\n          \"localhost:9090\"\n        ],\n        \"semantic_type\": \"\",\n        \"description\": \"\"\n      }\n    },\n    {\n      \"column\": \"cookie\",\n      \"properties\": {\n        \"dtype\": \"string\",\n        \"num_unique_values\": 61065,\n        \"samples\": [\n          \"JSESSIONID=7BEB6978E4E7BBC61800BC2E658AF422\"\n        ],\n        \"semantic_type\": \"\",\n        \"description\": \"\"\n      }\n    },\n    {\n      \"column\": \"content-type\",\n      \"properties\": {\n        \"dtype\": \"category\",\n        \"num_unique_values\": 1,\n        \"samples\": [\n          \"application/x-www-form-urlencoded\"\n        ],\n        \"semantic_type\": \"\",\n        \"description\": \"\"\n      }\n    },\n    {\n      \"column\": \"connection\",\n      \"properties\": {\n        \"dtype\": \"category\",\n        \"num_unique_values\": 2,\n        \"samples\": [\n          \"Connection: close\"\n        ],\n        \"semantic_type\": \"\",\n        \"description\": \"\"\n      }\n    },\n    {\n      \"column\": \"lenght\",\n      \"properties\": {\n        \"dtype\": \"category\",\n        \"num_unique_values\": 382,\n        \"samples\": [\n          \"Content-Length: 628\"\n        ],\n        \"semantic_type\": \"\",\n        \"description\": \"\"\n      }\n    },\n    {\n      \"column\": \"content\",\n      \"properties\": {\n        \"dtype\": \"category\",\n        \"num_unique_values\": 12091,\n        \"samples\": [\n          \"modo=registro&login=raddalgo&password=enz4riz7r&nombre=Romana&apellidos=Tornos&email=wooland%40indagacion.td&dni=01498780P&direccion=C%2F+Trujillo+155+4%3FG&ciudad=Villafrech%F3s&cp=09763&provincia=Zaragoza&ntc=5719365905876928&B1=Registrar\"\n        ],\n        \"semantic_type\": \"\",\n        \"description\": \"\"\n      }\n    },\n    {\n      \"column\": \"classification\",\n      \"properties\": {\n        \"dtype\": \"number\",\n        \"std\": 0,\n        \"min\": 0,\n        \"max\": 1,\n        \"num_unique_values\": 2,\n        \"samples\": [\n          1\n        ],\n        \"semantic_type\": \"\",\n        \"description\": \"\"\n      }\n    },\n    {\n      \"column\": \"URL\",\n      \"properties\": {\n        \"dtype\": \"category\",\n        \"num_unique_values\": 13498,\n        \"samples\": [\n          \"http://localhost:8080/tienda1/miembros/editar.jsp?modo=registro&login=salgado&password=de4737UR6a&nombre=Roc%EDo+del+Valle&apellidos=Cendreros&email=basta%4024htranslations.edu&dni=22655130S&direccion=C%2F+Sant+Antoni+Maria+Claret%2C+173+&ciudad=Fornelos+de+Montes&cp=46970&provincia=Huelva&ntc=1281450288895094&B1=Registrar HTTP/1.1\"\n        ],\n        \"semantic_type\": \"\",\n        \"description\": \"\"\n      }\n    }\n  ]\n}"
            }
          },
          "metadata": {},
          "execution_count": 2
        }
      ],
      "source": [
        "\n",
        "file_id = '1YVxjEXKbL8Eyq7BVhHCJmgokMaVMTjJ-'\n",
        "url = f'https://drive.google.com/uc?id={file_id}'\n",
        "output = 'csic_database.csv'\n",
        "\n",
        "gdown.download(url, output, quiet=False)\n",
        "\n",
        "import pandas as pd\n",
        "dataset_data = pd.read_csv('csic_database.csv')\n",
        "dataset_data.head()\n"
      ]
    },
    {
      "cell_type": "code",
      "execution_count": 3,
      "metadata": {
        "id": "jmtiWR3jDwIf"
      },
      "outputs": [],
      "source": [
        "import numpy as np\n",
        "import pandas as pd\n",
        "import seaborn as sns\n",
        "import os\n",
        "import re\n",
        "import matplotlib.pyplot as plt\n",
        "from sklearn.feature_extraction.text import TfidfVectorizer\n",
        "from sklearn.preprocessing import StandardScaler\n",
        "import joblib\n",
        "from imblearn.over_sampling import SMOTE\n",
        "from sklearn.model_selection import train_test_split\n",
        "from sklearn.metrics import accuracy_score, precision_score, recall_score, f1_score, roc_auc_score, roc_curve, confusion_matrix, log_loss\n",
        "#For Random Forest\n",
        "from sklearn.ensemble import RandomForestClassifier\n",
        "from sklearn.model_selection import GridSearchCV\n",
        "# For Naive Bayes\n",
        "from sklearn.naive_bayes import MultinomialNB\n",
        "from sklearn.preprocessing import MinMaxScaler\n",
        "from sklearn.naive_bayes import GaussianNB\n",
        "#For Decision Tree\n",
        "from sklearn.tree import DecisionTreeClassifier\n",
        "#For KNN\n",
        "from sklearn.neighbors import KNeighborsClassifier\n",
        "#For SVM\n",
        "from sklearn.svm import SVC\n",
        "from sklearn.svm import LinearSVC\n",
        "from sklearn.calibration import CalibratedClassifierCV\n",
        "#For XGBoot\n",
        "from xgboost import XGBClassifier\n",
        "\n",
        "import time\n",
        "import pickle\n"
      ]
    },
    {
      "cell_type": "markdown",
      "metadata": {
        "id": "19JQlFwkDwsx"
      },
      "source": [
        "# 1. DATASET UNDERSTANDING"
      ]
    },
    {
      "cell_type": "code",
      "execution_count": 4,
      "metadata": {
        "colab": {
          "base_uri": "https://localhost:8080/"
        },
        "id": "FakQOA43DcJT",
        "outputId": "9b549511-1a15-43b6-dd77-95aaec44ba1e"
      },
      "outputs": [
        {
          "output_type": "stream",
          "name": "stdout",
          "text": [
            "\n",
            " CSIC General Information:\n",
            "<class 'pandas.core.frame.DataFrame'>\n",
            "RangeIndex: 61065 entries, 0 to 61064\n",
            "Data columns (total 17 columns):\n",
            " #   Column           Non-Null Count  Dtype \n",
            "---  ------           --------------  ----- \n",
            " 0   Unnamed: 0       61065 non-null  object\n",
            " 1   Method           61065 non-null  object\n",
            " 2   User-Agent       61065 non-null  object\n",
            " 3   Pragma           61065 non-null  object\n",
            " 4   Cache-Control    61065 non-null  object\n",
            " 5   Accept           60668 non-null  object\n",
            " 6   Accept-encoding  61065 non-null  object\n",
            " 7   Accept-charset   61065 non-null  object\n",
            " 8   language         61065 non-null  object\n",
            " 9   host             61065 non-null  object\n",
            " 10  cookie           61065 non-null  object\n",
            " 11  content-type     17977 non-null  object\n",
            " 12  connection       61065 non-null  object\n",
            " 13  lenght           17977 non-null  object\n",
            " 14  content          17977 non-null  object\n",
            " 15  classification   61065 non-null  int64 \n",
            " 16  URL              61065 non-null  object\n",
            "dtypes: int64(1), object(16)\n",
            "memory usage: 7.9+ MB\n",
            "None\n",
            "\n",
            "\n",
            "Sample number: 61065\n",
            "Feature number: 17\n",
            "\n",
            "\n",
            "Columns: Index(['Unnamed: 0', 'Method', 'User-Agent', 'Pragma', 'Cache-Control',\n",
            "       'Accept', 'Accept-encoding', 'Accept-charset', 'language', 'host',\n",
            "       'cookie', 'content-type', 'connection', 'lenght', 'content',\n",
            "       'classification', 'URL'],\n",
            "      dtype='object')\n"
          ]
        }
      ],
      "source": [
        "print(\"\\n CSIC General Information:\")\n",
        "print(dataset_data.info())\n",
        "\n",
        "# Read number of samples and number of features\n",
        "n_features=dataset_data.shape[1]\n",
        "n_samples =dataset_data.shape[0]\n",
        "print(\"\\n\")\n",
        "print(\"Sample number:\", n_samples)\n",
        "print(\"Feature number:\", n_features)\n",
        "\n",
        "# Check column names (Column Title)\n",
        "print(\"\\n\")\n",
        "print(\"Columns:\",dataset_data.columns)"
      ]
    },
    {
      "cell_type": "code",
      "execution_count": 5,
      "metadata": {
        "colab": {
          "base_uri": "https://localhost:8080/"
        },
        "id": "U0aO2cEjDcLa",
        "outputId": "7ff61918-2663-4803-8aef-27069643d57c"
      },
      "outputs": [
        {
          "output_type": "stream",
          "name": "stdout",
          "text": [
            "The first 5 samples of the Dataset: \n",
            "   Unnamed: 0 Method                                         User-Agent  \\\n",
            "0     Normal    GET  Mozilla/5.0 (compatible; Konqueror/3.5; Linux)...   \n",
            "1     Normal    GET  Mozilla/5.0 (compatible; Konqueror/3.5; Linux)...   \n",
            "2     Normal   POST  Mozilla/5.0 (compatible; Konqueror/3.5; Linux)...   \n",
            "3     Normal    GET  Mozilla/5.0 (compatible; Konqueror/3.5; Linux)...   \n",
            "4     Normal   POST  Mozilla/5.0 (compatible; Konqueror/3.5; Linux)...   \n",
            "\n",
            "     Pragma Cache-Control                                             Accept  \\\n",
            "0  no-cache      no-cache  text/xml,application/xml,application/xhtml+xml...   \n",
            "1  no-cache      no-cache  text/xml,application/xml,application/xhtml+xml...   \n",
            "2  no-cache      no-cache  text/xml,application/xml,application/xhtml+xml...   \n",
            "3  no-cache      no-cache  text/xml,application/xml,application/xhtml+xml...   \n",
            "4  no-cache      no-cache  text/xml,application/xml,application/xhtml+xml...   \n",
            "\n",
            "                    Accept-encoding               Accept-charset language  \\\n",
            "0  x-gzip, x-deflate, gzip, deflate  utf-8, utf-8;q=0.5, *;q=0.5       en   \n",
            "1  x-gzip, x-deflate, gzip, deflate  utf-8, utf-8;q=0.5, *;q=0.5       en   \n",
            "2  x-gzip, x-deflate, gzip, deflate  utf-8, utf-8;q=0.5, *;q=0.5       en   \n",
            "3  x-gzip, x-deflate, gzip, deflate  utf-8, utf-8;q=0.5, *;q=0.5       en   \n",
            "4  x-gzip, x-deflate, gzip, deflate  utf-8, utf-8;q=0.5, *;q=0.5       en   \n",
            "\n",
            "             host                                       cookie  \\\n",
            "0  localhost:8080  JSESSIONID=1F767F17239C9B670A39E9B10C3825F4   \n",
            "1  localhost:8080  JSESSIONID=81761ACA043B0E6014CA42A4BCD06AB5   \n",
            "2  localhost:8080  JSESSIONID=933185092E0B668B90676E0A2B0767AF   \n",
            "3  localhost:8080  JSESSIONID=8FA18BA82C5336D03D3A8AFA3E68CBB0   \n",
            "4  localhost:8080  JSESSIONID=7104E6C68A6BCF1423DAE990CE49FEE2   \n",
            "\n",
            "                        content-type         connection              lenght  \\\n",
            "0                                NaN              close                 NaN   \n",
            "1                                NaN              close                 NaN   \n",
            "2  application/x-www-form-urlencoded  Connection: close  Content-Length: 68   \n",
            "3                                NaN              close                 NaN   \n",
            "4  application/x-www-form-urlencoded  Connection: close  Content-Length: 63   \n",
            "\n",
            "                                             content  classification  \\\n",
            "0                                                NaN               0   \n",
            "1                                                NaN               0   \n",
            "2  id=3&nombre=Vino+Rioja&precio=100&cantidad=55&...               0   \n",
            "3                                                NaN               0   \n",
            "4  modo=entrar&login=choong&pwd=d1se3ci%F3n&remem...               0   \n",
            "\n",
            "                                                 URL  \n",
            "0   http://localhost:8080/tienda1/index.jsp HTTP/1.1  \n",
            "1  http://localhost:8080/tienda1/publico/anadir.j...  \n",
            "2  http://localhost:8080/tienda1/publico/anadir.j...  \n",
            "3  http://localhost:8080/tienda1/publico/autentic...  \n",
            "4  http://localhost:8080/tienda1/publico/autentic...  \n",
            "\n",
            "\n",
            "The last 5 samples of the Dataset: \n",
            "       Unnamed: 0 Method                                         User-Agent  \\\n",
            "61060  Anomalous    GET  Mozilla/5.0 (compatible; Konqueror/3.5; Linux)...   \n",
            "61061  Anomalous   POST  Mozilla/5.0 (compatible; Konqueror/3.5; Linux)...   \n",
            "61062  Anomalous    GET  Mozilla/5.0 (compatible; Konqueror/3.5; Linux)...   \n",
            "61063  Anomalous    GET  Mozilla/5.0 (compatible; Konqueror/3.5; Linux)...   \n",
            "61064  Anomalous    GET  Mozilla/5.0 (compatible; Konqueror/3.5; Linux)...   \n",
            "\n",
            "         Pragma Cache-Control  \\\n",
            "61060  no-cache      no-cache   \n",
            "61061  no-cache      no-cache   \n",
            "61062  no-cache      no-cache   \n",
            "61063  no-cache      no-cache   \n",
            "61064  no-cache      no-cache   \n",
            "\n",
            "                                                  Accept  \\\n",
            "61060  text/xml,application/xml,application/xhtml+xml...   \n",
            "61061  text/xml,application/xml,application/xhtml+xml...   \n",
            "61062  text/xml,application/xml,application/xhtml+xml...   \n",
            "61063  text/xml,application/xml,application/xhtml+xml...   \n",
            "61064  text/xml,application/xml,application/xhtml+xml...   \n",
            "\n",
            "                        Accept-encoding               Accept-charset language  \\\n",
            "61060  x-gzip, x-deflate, gzip, deflate  utf-8, utf-8;q=0.5, *;q=0.5       en   \n",
            "61061  x-gzip, x-deflate, gzip, deflate  utf-8, utf-8;q=0.5, *;q=0.5       en   \n",
            "61062  x-gzip, x-deflate, gzip, deflate  utf-8, utf-8;q=0.5, *;q=0.5       en   \n",
            "61063  x-gzip, x-deflate, gzip, deflate  utf-8, utf-8;q=0.5, *;q=0.5       en   \n",
            "61064  x-gzip, x-deflate, gzip, deflate  utf-8, utf-8;q=0.5, *;q=0.5       en   \n",
            "\n",
            "                 host                                       cookie  \\\n",
            "61060  localhost:8080  JSESSIONID=62216ADBBD9B91E17CA9AFEDCCC36275   \n",
            "61061  localhost:8080  JSESSIONID=2317F5C0B1B7FAD18EB425E98DB102A3   \n",
            "61062  localhost:8080  JSESSIONID=7F0BA54A88B849EF752006D388E15CDD   \n",
            "61063  localhost:8080  JSESSIONID=FB018FFB06011CFABD60D8E8AD58CA21   \n",
            "61064  localhost:8080  JSESSIONID=3CC12010CDA952F123240EBAD79B55CC   \n",
            "\n",
            "                            content-type         connection  \\\n",
            "61060                                NaN              close   \n",
            "61061  application/x-www-form-urlencoded  Connection: close   \n",
            "61062                                NaN              close   \n",
            "61063                                NaN              close   \n",
            "61064                                NaN              close   \n",
            "\n",
            "                    lenght                                            content  \\\n",
            "61060                  NaN                                                NaN   \n",
            "61061  Content-Length: 255  modo=registro&login=beaumont&password=quEratIt...   \n",
            "61062                  NaN                                                NaN   \n",
            "61063                  NaN                                                NaN   \n",
            "61064                  NaN                                                NaN   \n",
            "\n",
            "       classification                                                URL  \n",
            "61060               1  http://localhost:8080/tienda1/miembros/editar....  \n",
            "61061               1  http://localhost:8080/tienda1/miembros/editar....  \n",
            "61062               1  http://localhost:8080/tienda1/miembros/editar....  \n",
            "61063               1  http://localhost:8080/tienda1/imagenes/3.gif/ ...  \n",
            "61064               1  http://localhost:8080/tienda1/imagenes/nuestra...  \n"
          ]
        }
      ],
      "source": [
        "# The first and last 5 samples of the Dataset\n",
        "print(\"The first 5 samples of the Dataset: \\n\",dataset_data.head())\n",
        "print(\"\\n\")\n",
        "print(\"The last 5 samples of the Dataset: \\n\",dataset_data.tail())\n"
      ]
    },
    {
      "cell_type": "markdown",
      "metadata": {
        "id": "zaiE6Iy2FTvn"
      },
      "source": [
        "## 1.2. Dataset Visuallization\n",
        "Check the balance of the data by the first column ('Unnamed: 0')"
      ]
    },
    {
      "cell_type": "code",
      "execution_count": 6,
      "metadata": {
        "colab": {
          "base_uri": "https://localhost:8080/",
          "height": 744
        },
        "id": "IVcVW8DBDcO4",
        "outputId": "23423721-a1c3-4b58-a10a-1bc1751936d7"
      },
      "outputs": [
        {
          "output_type": "stream",
          "name": "stdout",
          "text": [
            "\n",
            "\n",
            "Sample number by Normal and Anomalous: \n",
            "   Unnamed: 0  count\n",
            "0     Normal  36000\n",
            "1  Anomalous  25065\n",
            "\n",
            "\n",
            "Label distribution of CSIC:\n",
            "classification\n",
            "0    0.589536\n",
            "1    0.410464\n",
            "Name: proportion, dtype: float64\n",
            "\n",
            "\n",
            "Data visuallization:\n"
          ]
        },
        {
          "output_type": "execute_result",
          "data": {
            "text/plain": [
              "<Axes: xlabel='Unnamed: 0', ylabel='count'>"
            ]
          },
          "metadata": {},
          "execution_count": 6
        },
        {
          "output_type": "display_data",
          "data": {
            "text/plain": [
              "<Figure size 640x480 with 1 Axes>"
            ],
            "image/png": "[encoded data removed]"
          },
          "metadata": {}
        }
      ],
      "source": [
        "# Count the number of records by: Normal and Anomalous\n",
        "print(\"\\n\")\n",
        "print(\"Sample number by Normal and Anomalous: \\n\",dataset_data['Unnamed: 0'].value_counts().reset_index(name='count').rename(columns={'index': 'type'}))\n",
        "# Label distribution ratio\n",
        "print(\"\\n\")\n",
        "print(\"Label distribution of CSIC:\")\n",
        "print(dataset_data['classification'].value_counts(normalize=True))\n",
        "# Data visuallization\n",
        "print(\"\\n\")\n",
        "print(\"Data visuallization:\")\n",
        "sns.set_style('darkgrid')\n",
        "sns.countplot(data=dataset_data, x='Unnamed: 0')"
      ]
    },
    {
      "cell_type": "markdown",
      "metadata": {
        "id": "VNKIjEVSF48O"
      },
      "source": [
        "## 1.3. Rename column 'Unnamed:0' to label and check for Null values"
      ]
    },
    {
      "cell_type": "code",
      "execution_count": 7,
      "metadata": {
        "colab": {
          "base_uri": "https://localhost:8080/"
        },
        "id": "dAiQLwsbDcQz",
        "outputId": "02a77534-6683-4062-c14a-6baf991071c0"
      },
      "outputs": [
        {
          "output_type": "stream",
          "name": "stdout",
          "text": [
            "label                  0\n",
            "Method                 0\n",
            "User-Agent             0\n",
            "Pragma                 0\n",
            "Cache-Control          0\n",
            "Accept               397\n",
            "Accept-encoding        0\n",
            "Accept-charset         0\n",
            "language               0\n",
            "host                   0\n",
            "cookie                 0\n",
            "content-type       43088\n",
            "connection             0\n",
            "lenght             43088\n",
            "content            43088\n",
            "classification         0\n",
            "URL                    0\n",
            "dtype: int64\n"
          ]
        }
      ],
      "source": [
        "# Rename 'Unnamed:0' to 'label'\n",
        "dataset_data = dataset_data.rename(columns={'Unnamed: 0': 'label'})\n",
        "print(dataset_data.isnull().sum())"
      ]
    },
    {
      "cell_type": "markdown",
      "metadata": {
        "id": "EzrKIP57HycZ"
      },
      "source": [
        "# 2. DATA PRE-PROCESSING\n",
        "## 2.1. Clean Data\n",
        "**Objective**: Remove or process invalid patterns/columns, missing values, or redundancies to ensure clean data."
      ]
    },
    {
      "cell_type": "code",
      "execution_count": 8,
      "metadata": {
        "colab": {
          "base_uri": "https://localhost:8080/"
        },
        "id": "8ureTbmHDcUo",
        "outputId": "fe3df9bd-4087-4bf2-fb3f-a13b2331db68"
      },
      "outputs": [
        {
          "output_type": "stream",
          "name": "stdout",
          "text": [
            "0\n"
          ]
        }
      ],
      "source": [
        "# ------ Process NaN Data----------\n",
        "# Accept column, replace NaN with the most common value (mode) of the column\n",
        "dataset_data['Accept'] = dataset_data['Accept'].fillna(dataset_data['Accept'].mode()[0])\n",
        "print(dataset_data['Accept'].isnull().sum())"
      ]
    },
    {
      "cell_type": "code",
      "execution_count": 9,
      "metadata": {
        "colab": {
          "base_uri": "https://localhost:8080/"
        },
        "id": "oMB10TmqKI8y",
        "outputId": "974f0e29-70ba-463c-f1da-9dd586ac5b02"
      },
      "outputs": [
        {
          "output_type": "stream",
          "name": "stdout",
          "text": [
            "label              0\n",
            "Method             0\n",
            "User-Agent         0\n",
            "Pragma             0\n",
            "Cache-Control      0\n",
            "Accept             0\n",
            "Accept-encoding    0\n",
            "Accept-charset     0\n",
            "language           0\n",
            "host               0\n",
            "cookie             0\n",
            "content-type       0\n",
            "connection         0\n",
            "lenght             0\n",
            "content            0\n",
            "classification     0\n",
            "URL                0\n",
            "is_post            0\n",
            "dtype: int64\n"
          ]
        }
      ],
      "source": [
        "# Handle columns: content-type, lenght, content\n",
        "# Replace NaN with \"None\" for content-type and content, 0 for lenght to keep context information.\n",
        "# Create new column is_post (1 if POST, 0 if GET) to record the request type.\n",
        "dataset_data['content-type'] = dataset_data['content-type'].fillna('None')\n",
        "dataset_data['lenght'] = dataset_data['lenght'].fillna('0')\n",
        "dataset_data['content'] = dataset_data['content'].fillna('None')\n",
        "dataset_data['is_post'] = dataset_data['Method'].apply(lambda x: 1 if x == 'POST' else 0)\n",
        "\n",
        "# Re-Check\n",
        "print(dataset_data.isnull().sum())"
      ]
    },
    {
      "cell_type": "code",
      "execution_count": 10,
      "metadata": {
        "colab": {
          "base_uri": "https://localhost:8080/"
        },
        "id": "CTmbXlQ0KI-8",
        "outputId": "2866629d-6274-48b2-fe6f-e631f2c60783"
      },
      "outputs": [
        {
          "output_type": "stream",
          "name": "stdout",
          "text": [
            "\n",
            "\n",
            "Column's names: Index(['Method', 'User-Agent', 'Pragma', 'Cache-Control', 'Accept',\n",
            "       'Accept-encoding', 'Accept-charset', 'language', 'host', 'cookie',\n",
            "       'content-type', 'connection', 'lenght', 'content', 'classification',\n",
            "       'URL', 'is_post'],\n",
            "      dtype='object')\n"
          ]
        }
      ],
      "source": [
        "#----------- Remove unnecessary columns ------------\n",
        "# Unnamed column: 0 (changed to label) as just descriptive label (Normal/Anomalous),\n",
        "# duplicates with classification column. Can be removed to reduce noise.\n",
        "dataset_data = dataset_data.drop(columns=['label'], errors='ignore')\n",
        "# Re-check\n",
        "print(\"\\n\")\n",
        "print(\"Column's names:\",dataset_data.columns)"
      ]
    },
    {
      "cell_type": "code",
      "execution_count": 11,
      "metadata": {
        "colab": {
          "base_uri": "https://localhost:8080/"
        },
        "id": "wRRQ8h0AKJDO",
        "outputId": "1093514e-8a00-4528-a977-c045cfe24d2f"
      },
      "outputs": [
        {
          "output_type": "stream",
          "name": "stdout",
          "text": [
            "Duplicate sample number: 0\n"
          ]
        }
      ],
      "source": [
        "# Check and remove duplicate values (if any)\n",
        "print(\"Duplicate sample number:\", dataset_data.duplicated().sum())"
      ]
    },
    {
      "cell_type": "code",
      "execution_count": 12,
      "metadata": {
        "id": "6euCltEeEdiX"
      },
      "outputs": [],
      "source": [
        "dataset_data['URL'] = dataset_data['URL'].str.replace('http://localhost:8080', '', regex=False)"
      ]
    },
    {
      "cell_type": "markdown",
      "metadata": {
        "id": "yjHXYEstwKau"
      },
      "source": [
        "## 2.2. Feature extraction and encoding\n",
        "**Goal**: Convert text data (URL, payload, headers) into numeric form that can be processed by machine learning models."
      ]
    },
    {
      "cell_type": "code",
      "execution_count": 13,
      "metadata": {
        "colab": {
          "base_uri": "https://localhost:8080/"
        },
        "id": "AWbgcpj8wCiu",
        "outputId": "5c831b1a-c684-4b8c-abd3-b8c087735eb3"
      },
      "outputs": [
        {
          "output_type": "stream",
          "name": "stdout",
          "text": [
            "PFeature Distribution by Class:\n",
            "                url_length  url_special_chars  url_malicious_keywords  \\\n",
            "classification                                                          \n",
            "0                57.985944           6.930694                1.290833   \n",
            "1                85.611769          11.273050                2.087133   \n",
            "\n",
            "                url_params_count  content_length  content_special_chars  \\\n",
            "classification                                                            \n",
            "0                       1.166667       23.458167               2.875139   \n",
            "1                       2.233034       50.990824               7.418033   \n",
            "\n",
            "                content_malicious_keywords  \n",
            "classification                              \n",
            "0                                 0.513056  \n",
            "1                                 1.123399  \n",
            "Feature Distribution was saved!\n"
          ]
        }
      ],
      "source": [
        "#------------- Feature extraction -----------\n",
        "# Define malicious keywords\n",
        "malicious_keywords = [\n",
        "    'SELECT', 'UNION', 'DROP', 'DELETE', 'FROM', 'WHERE', 'OR', 'LIKE', 'AND', '1=1', '--', '\\'',\n",
        "    'SCRIPT', 'javascript', 'alert', 'iframe', 'src=', 'onerror', 'prompt', 'confirm', 'eval', 'onload',\n",
        "    'mouseover', 'onunload', 'document.', 'window.', 'xmlhttprequest', 'xhr', 'cookie',\n",
        "    'tamper', 'vaciar', 'carrito', 'incorrect', 'pwd', 'login', 'password', 'id',\n",
        "    '%0D', '%0A', '.php', '.js', 'admin', 'administrator'\n",
        "]\n",
        "\n",
        "# Feature extraction from URL\n",
        "dataset_data['url_length'] = dataset_data['URL'].apply(len)\n",
        "dataset_data['url_special_chars'] = dataset_data['URL'].apply(lambda x: len(re.findall(r'[%;=<>\\/&\\'\"()\\[\\]#\\-\\+]', x)))\n",
        "dataset_data['url_malicious_keywords'] = dataset_data['URL'].apply(lambda x: sum(1 for kw in malicious_keywords if kw.lower() in x.lower()))\n",
        "dataset_data['url_params_count'] = dataset_data['URL'].apply(lambda x: x.count('&') + 1 if '?' in x else 0)\n",
        "\n",
        "# Feature extraction from content\n",
        "dataset_data['content_length'] = dataset_data['content'].fillna('').apply(len)\n",
        "dataset_data['content_special_chars'] = dataset_data['content'].fillna('').apply(lambda x: len(re.findall(r'[%;=<>\\/&\\'\"()\\[\\]#\\-\\+]', x)))\n",
        "dataset_data['content_malicious_keywords'] = dataset_data['content'].fillna('').apply(lambda x: sum(1 for kw in malicious_keywords if kw.lower() in x.lower()))\n",
        "\n",
        "# Check Feature Distribution\n",
        "print(\"PFeature Distribution by Class:\")\n",
        "print(dataset_data.groupby('classification')[['url_length', 'url_special_chars', 'url_malicious_keywords', 'url_params_count',\n",
        "                                            'content_length', 'content_special_chars', 'content_malicious_keywords']].mean())\n",
        "\n",
        "# Save Feature contribution\n",
        "dataset_data.to_csv('dataset_with_features.csv', index=False)\n",
        "print(\"Feature Distribution was saved!\")"
      ]
    },
    {
      "cell_type": "code",
      "execution_count": 14,
      "metadata": {
        "colab": {
          "base_uri": "https://localhost:8080/",
          "height": 472
        },
        "id": "b1YD3FVrKJI3",
        "outputId": "e7f8cd5c-f0a4-474e-a804-e65f7c6259ae"
      },
      "outputs": [
        {
          "output_type": "display_data",
          "data": {
            "text/plain": [
              "<Figure size 640x480 with 1 Axes>"
            ],
            "image/png": "[encoded data removed]"
          },
          "metadata": {}
        }
      ],
      "source": [
        "# Feature Distribution visuallization\n",
        "sns.boxplot(x='classification', y='url_malicious_keywords', data=dataset_data)\n",
        "plt.title('url_malicious_keywords distribution by class')\n",
        "plt.show()"
      ]
    },
    {
      "cell_type": "code",
      "execution_count": 15,
      "metadata": {
        "colab": {
          "base_uri": "https://localhost:8080/"
        },
        "id": "O9UMLfiXTwTT",
        "outputId": "6e8c4256-09eb-4af1-f849-e4a29a866cf3"
      },
      "outputs": [
        {
          "output_type": "stream",
          "name": "stdout",
          "text": [
            "Column's names: Index(['Method', 'User-Agent', 'Pragma', 'Cache-Control', 'Accept',\n",
            "       'Accept-encoding', 'Accept-charset', 'language', 'host', 'cookie',\n",
            "       'content-type', 'connection', 'lenght', 'content', 'classification',\n",
            "       'URL', 'is_post', 'url_length', 'url_special_chars',\n",
            "       'url_malicious_keywords', 'url_params_count', 'content_length',\n",
            "       'content_special_chars', 'content_malicious_keywords'],\n",
            "      dtype='object')\n"
          ]
        }
      ],
      "source": [
        "print(\"Column's names:\",dataset_data.columns)"
      ]
    },
    {
      "cell_type": "code",
      "execution_count": 16,
      "metadata": {
        "colab": {
          "base_uri": "https://localhost:8080/"
        },
        "id": "aThR3yK8KJKw",
        "outputId": "b4a2fbce-94cd-453f-fc5c-d2fd51d729e3"
      },
      "outputs": [
        {
          "output_type": "stream",
          "name": "stdout",
          "text": [
            "TF-IDF URL matrix size: (61065, 1000)\n",
            "Some words in the URL vocabulary: ['0' '09390' '1' '10' '100' '102' '103' '104' '105' '106']\n"
          ]
        }
      ],
      "source": [
        "# Encode URLs and content using TF-IDF\n",
        "\n",
        "# Missing values in content\n",
        "dataset_data['content'] = dataset_data['content'].fillna('')\n",
        "\n",
        "# Generate TF-IDF for URL\n",
        "url_tfidf = TfidfVectorizer(max_features=1000, lowercase=True, token_pattern=r'(?u)\\b\\w+\\b')\n",
        "url_features = url_tfidf.fit_transform(dataset_data['URL']).toarray()\n",
        "url_feature_names = url_tfidf.get_feature_names_out()\n",
        "print(\"TF-IDF URL matrix size:\", url_features.shape)\n",
        "print(\"Some words in the URL vocabulary:\", url_feature_names[:10])\n",
        "\n"
      ]
    },
    {
      "cell_type": "code",
      "execution_count": 17,
      "metadata": {
        "id": "OBe_XUdmFbQh"
      },
      "outputs": [],
      "source": [
        "### Convert NumPy array to DataFrame using the TF-IDF feature names as column headers\n",
        "##url_features_dfcsv = pd.DataFrame(url_features, columns=url_feature_names)\n",
        "\n",
        "### Save to CSV\n",
        "##url_features_dfcsv.to_csv('url_features_dfcsv.csv', index=False)"
      ]
    },
    {
      "cell_type": "code",
      "execution_count": 18,
      "metadata": {
        "colab": {
          "base_uri": "https://localhost:8080/",
          "height": 236
        },
        "id": "gbpswQ1YZBJG",
        "outputId": "51e3838e-fff7-4d4c-f4f3-3c56839407b1"
      },
      "outputs": [
        {
          "output_type": "execute_result",
          "data": {
            "text/plain": [
              "     0  09390         1   10       100  102  103  104  105  106  ...  xmlfile  \\\n",
              "0  0.0    0.0  0.390760  0.0  0.000000  0.0  0.0  0.0  0.0  0.0  ...      0.0   \n",
              "1  0.0    0.0  0.110316  0.0  0.293999  0.0  0.0  0.0  0.0  0.0  ...      0.0   \n",
              "2  0.0    0.0  0.421966  0.0  0.000000  0.0  0.0  0.0  0.0  0.0  ...      0.0   \n",
              "3  0.0    0.0  0.150600  0.0  0.000000  0.0  0.0  0.0  0.0  0.0  ...      0.0   \n",
              "4  0.0    0.0  0.421169  0.0  0.000000  0.0  0.0  0.0  0.0  0.0  ...      0.0   \n",
              "\n",
              "     y   ye   yu  zamora  zaragoza  zarauz   zm   zr   zw  \n",
              "0  0.0  0.0  0.0     0.0       0.0     0.0  0.0  0.0  0.0  \n",
              "1  0.0  0.0  0.0     0.0       0.0     0.0  0.0  0.0  0.0  \n",
              "2  0.0  0.0  0.0     0.0       0.0     0.0  0.0  0.0  0.0  \n",
              "3  0.0  0.0  0.0     0.0       0.0     0.0  0.0  0.0  0.0  \n",
              "4  0.0  0.0  0.0     0.0       0.0     0.0  0.0  0.0  0.0  \n",
              "\n",
              "[5 rows x 1000 columns]"
            ],
            "text/html": [
              "\n",
              "  <div id=\"df-d87131f9-2681-4e40-91d1-8e3e0cee770c\" class=\"colab-df-container\">\n",
              "    <div>\n",
              "<style scoped>\n",
              "    .dataframe tbody tr th:only-of-type {\n",
              "        vertical-align: middle;\n",
              "    }\n",
              "\n",
              "    .dataframe tbody tr th {\n",
              "        vertical-align: top;\n",
              "    }\n",
              "\n",
              "    .dataframe thead th {\n",
              "        text-align: right;\n",
              "    }\n",
              "</style>\n",
              "<table border=\"1\" class=\"dataframe\">\n",
              "  <thead>\n",
              "    <tr style=\"text-align: right;\">\n",
              "      <th></th>\n",
              "      <th>0</th>\n",
              "      <th>09390</th>\n",
              "      <th>1</th>\n",
              "      <th>10</th>\n",
              "      <th>100</th>\n",
              "      <th>102</th>\n",
              "      <th>103</th>\n",
              "      <th>104</th>\n",
              "      <th>105</th>\n",
              "      <th>106</th>\n",
              "      <th>...</th>\n",
              "      <th>xmlfile</th>\n",
              "      <th>y</th>\n",
              "      <th>ye</th>\n",
              "      <th>yu</th>\n",
              "      <th>zamora</th>\n",
              "      <th>zaragoza</th>\n",
              "      <th>zarauz</th>\n",
              "      <th>zm</th>\n",
              "      <th>zr</th>\n",
              "      <th>zw</th>\n",
              "    </tr>\n",
              "  </thead>\n",
              "  <tbody>\n",
              "    <tr>\n",
              "      <th>0</th>\n",
              "      <td>0.0</td>\n",
              "      <td>0.0</td>\n",
              "      <td>0.390760</td>\n",
              "      <td>0.0</td>\n",
              "      <td>0.000000</td>\n",
              "      <td>0.0</td>\n",
              "      <td>0.0</td>\n",
              "      <td>0.0</td>\n",
              "      <td>0.0</td>\n",
              "      <td>0.0</td>\n",
              "      <td>...</td>\n",
              "      <td>0.0</td>\n",
              "      <td>0.0</td>\n",
              "      <td>0.0</td>\n",
              "      <td>0.0</td>\n",
              "      <td>0.0</td>\n",
              "      <td>0.0</td>\n",
              "      <td>0.0</td>\n",
              "      <td>0.0</td>\n",
              "      <td>0.0</td>\n",
              "      <td>0.0</td>\n",
              "    </tr>\n",
              "    <tr>\n",
              "      <th>1</th>\n",
              "      <td>0.0</td>\n",
              "      <td>0.0</td>\n",
              "      <td>0.110316</td>\n",
              "      <td>0.0</td>\n",
              "      <td>0.293999</td>\n",
              "      <td>0.0</td>\n",
              "      <td>0.0</td>\n",
              "      <td>0.0</td>\n",
              "      <td>0.0</td>\n",
              "      <td>0.0</td>\n",
              "      <td>...</td>\n",
              "      <td>0.0</td>\n",
              "      <td>0.0</td>\n",
              "      <td>0.0</td>\n",
              "      <td>0.0</td>\n",
              "      <td>0.0</td>\n",
              "      <td>0.0</td>\n",
              "      <td>0.0</td>\n",
              "      <td>0.0</td>\n",
              "      <td>0.0</td>\n",
              "      <td>0.0</td>\n",
              "    </tr>\n",
              "    <tr>\n",
              "      <th>2</th>\n",
              "      <td>0.0</td>\n",
              "      <td>0.0</td>\n",
              "      <td>0.421966</td>\n",
              "      <td>0.0</td>\n",
              "      <td>0.000000</td>\n",
              "      <td>0.0</td>\n",
              "      <td>0.0</td>\n",
              "      <td>0.0</td>\n",
              "      <td>0.0</td>\n",
              "      <td>0.0</td>\n",
              "      <td>...</td>\n",
              "      <td>0.0</td>\n",
              "      <td>0.0</td>\n",
              "      <td>0.0</td>\n",
              "      <td>0.0</td>\n",
              "      <td>0.0</td>\n",
              "      <td>0.0</td>\n",
              "      <td>0.0</td>\n",
              "      <td>0.0</td>\n",
              "      <td>0.0</td>\n",
              "      <td>0.0</td>\n",
              "    </tr>\n",
              "    <tr>\n",
              "      <th>3</th>\n",
              "      <td>0.0</td>\n",
              "      <td>0.0</td>\n",
              "      <td>0.150600</td>\n",
              "      <td>0.0</td>\n",
              "      <td>0.000000</td>\n",
              "      <td>0.0</td>\n",
              "      <td>0.0</td>\n",
              "      <td>0.0</td>\n",
              "      <td>0.0</td>\n",
              "      <td>0.0</td>\n",
              "      <td>...</td>\n",
              "      <td>0.0</td>\n",
              "      <td>0.0</td>\n",
              "      <td>0.0</td>\n",
              "      <td>0.0</td>\n",
              "      <td>0.0</td>\n",
              "      <td>0.0</td>\n",
              "      <td>0.0</td>\n",
              "      <td>0.0</td>\n",
              "      <td>0.0</td>\n",
              "      <td>0.0</td>\n",
              "    </tr>\n",
              "    <tr>\n",
              "      <th>4</th>\n",
              "      <td>0.0</td>\n",
              "      <td>0.0</td>\n",
              "      <td>0.421169</td>\n",
              "      <td>0.0</td>\n",
              "      <td>0.000000</td>\n",
              "      <td>0.0</td>\n",
              "      <td>0.0</td>\n",
              "      <td>0.0</td>\n",
              "      <td>0.0</td>\n",
              "      <td>0.0</td>\n",
              "      <td>...</td>\n",
              "      <td>0.0</td>\n",
              "      <td>0.0</td>\n",
              "      <td>0.0</td>\n",
              "      <td>0.0</td>\n",
              "      <td>0.0</td>\n",
              "      <td>0.0</td>\n",
              "      <td>0.0</td>\n",
              "      <td>0.0</td>\n",
              "      <td>0.0</td>\n",
              "      <td>0.0</td>\n",
              "    </tr>\n",
              "  </tbody>\n",
              "</table>\n",
              "<p>5 rows × 1000 columns</p>\n",
              "</div>\n",
              "    <div class=\"colab-df-buttons\">\n",
              "\n",
              "  <div class=\"colab-df-container\">\n",
              "    <button class=\"colab-df-convert\" onclick=\"convertToInteractive('df-d87131f9-2681-4e40-91d1-8e3e0cee770c')\"\n",
              "            title=\"Convert this dataframe to an interactive table.\"\n",
              "            style=\"display:none;\">\n",
              "\n",
              "  <svg xmlns=\"http://www.w3.org/2000/svg\" height=\"24px\" viewBox=\"0 -960 960 960\">\n",
              "    <path d=\"M120-120v-720h720v720H120Zm60-500h600v-160H180v160Zm220 220h160v-160H400v160Zm0 220h160v-160H400v160ZM180-400h160v-160H180v160Zm440 0h160v-160H620v160ZM180-180h160v-160H180v160Zm440 0h160v-160H620v160Z\"/>\n",
              "  </svg>\n",
              "    </button>\n",
              "\n",
              "  <style>\n",
              "    .colab-df-container {\n",
              "      display:flex;\n",
              "      gap: 12px;\n",
              "    }\n",
              "\n",
              "    .colab-df-convert {\n",
              "      background-color: #E8F0FE;\n",
              "      border: none;\n",
              "      border-radius: 50%;\n",
              "      cursor: pointer;\n",
              "      display: none;\n",
              "      fill: #1967D2;\n",
              "      height: 32px;\n",
              "      padding: 0 0 0 0;\n",
              "      width: 32px;\n",
              "    }\n",
              "\n",
              "    .colab-df-convert:hover {\n",
              "      background-color: #E2EBFA;\n",
              "      box-shadow: 0px 1px 2px rgba(60, 64, 67, 0.3), 0px 1px 3px 1px rgba(60, 64, 67, 0.15);\n",
              "      fill: #174EA6;\n",
              "    }\n",
              "\n",
              "    .colab-df-buttons div {\n",
              "      margin-bottom: 4px;\n",
              "    }\n",
              "\n",
              "    [theme=dark] .colab-df-convert {\n",
              "      background-color: #3B4455;\n",
              "      fill: #D2E3FC;\n",
              "    }\n",
              "\n",
              "    [theme=dark] .colab-df-convert:hover {\n",
              "      background-color: #434B5C;\n",
              "      box-shadow: 0px 1px 3px 1px rgba(0, 0, 0, 0.15);\n",
              "      filter: drop-shadow(0px 1px 2px rgba(0, 0, 0, 0.3));\n",
              "      fill: #FFFFFF;\n",
              "    }\n",
              "  </style>\n",
              "\n",
              "    <script>\n",
              "      const buttonEl =\n",
              "        document.querySelector('#df-d87131f9-2681-4e40-91d1-8e3e0cee770c button.colab-df-convert');\n",
              "      buttonEl.style.display =\n",
              "        google.colab.kernel.accessAllowed ? 'block' : 'none';\n",
              "\n",
              "      async function convertToInteractive(key) {\n",
              "        const element = document.querySelector('#df-d87131f9-2681-4e40-91d1-8e3e0cee770c');\n",
              "        const dataTable =\n",
              "          await google.colab.kernel.invokeFunction('convertToInteractive',\n",
              "                                                    [key], {});\n",
              "        if (!dataTable) return;\n",
              "\n",
              "        const docLinkHtml = 'Like what you see? Visit the ' +\n",
              "          '<a target=\"_blank\" href=https://colab.research.google.com/notebooks/data_table.ipynb>data table notebook</a>'\n",
              "          + ' to learn more about interactive tables.';\n",
              "        element.innerHTML = '';\n",
              "        dataTable['output_type'] = 'display_data';\n",
              "        await google.colab.output.renderOutput(dataTable, element);\n",
              "        const docLink = document.createElement('div');\n",
              "        docLink.innerHTML = docLinkHtml;\n",
              "        element.appendChild(docLink);\n",
              "      }\n",
              "    </script>\n",
              "  </div>\n",
              "\n",
              "\n",
              "    <div id=\"df-4029bdfd-128f-4923-a7c9-f0389f2e73be\">\n",
              "      <button class=\"colab-df-quickchart\" onclick=\"quickchart('df-4029bdfd-128f-4923-a7c9-f0389f2e73be')\"\n",
              "                title=\"Suggest charts\"\n",
              "                style=\"display:none;\">\n",
              "\n",
              "<svg xmlns=\"http://www.w3.org/2000/svg\" height=\"24px\"viewBox=\"0 0 24 24\"\n",
              "     width=\"24px\">\n",
              "    <g>\n",
              "        <path d=\"M19 3H5c-1.1 0-2 .9-2 2v14c0 1.1.9 2 2 2h14c1.1 0 2-.9 2-2V5c0-1.1-.9-2-2-2zM9 17H7v-7h2v7zm4 0h-2V7h2v10zm4 0h-2v-4h2v4z\"/>\n",
              "    </g>\n",
              "</svg>\n",
              "      </button>\n",
              "\n",
              "<style>\n",
              "  .colab-df-quickchart {\n",
              "      --bg-color: #E8F0FE;\n",
              "      --fill-color: #1967D2;\n",
              "      --hover-bg-color: #E2EBFA;\n",
              "      --hover-fill-color: #174EA6;\n",
              "      --disabled-fill-color: #AAA;\n",
              "      --disabled-bg-color: #DDD;\n",
              "  }\n",
              "\n",
              "  [theme=dark] .colab-df-quickchart {\n",
              "      --bg-color: #3B4455;\n",
              "      --fill-color: #D2E3FC;\n",
              "      --hover-bg-color: #434B5C;\n",
              "      --hover-fill-color: #FFFFFF;\n",
              "      --disabled-bg-color: #3B4455;\n",
              "      --disabled-fill-color: #666;\n",
              "  }\n",
              "\n",
              "  .colab-df-quickchart {\n",
              "    background-color: var(--bg-color);\n",
              "    border: none;\n",
              "    border-radius: 50%;\n",
              "    cursor: pointer;\n",
              "    display: none;\n",
              "    fill: var(--fill-color);\n",
              "    height: 32px;\n",
              "    padding: 0;\n",
              "    width: 32px;\n",
              "  }\n",
              "\n",
              "  .colab-df-quickchart:hover {\n",
              "    background-color: var(--hover-bg-color);\n",
              "    box-shadow: 0 1px 2px rgba(60, 64, 67, 0.3), 0 1px 3px 1px rgba(60, 64, 67, 0.15);\n",
              "    fill: var(--button-hover-fill-color);\n",
              "  }\n",
              "\n",
              "  .colab-df-quickchart-complete:disabled,\n",
              "  .colab-df-quickchart-complete:disabled:hover {\n",
              "    background-color: var(--disabled-bg-color);\n",
              "    fill: var(--disabled-fill-color);\n",
              "    box-shadow: none;\n",
              "  }\n",
              "\n",
              "  .colab-df-spinner {\n",
              "    border: 2px solid var(--fill-color);\n",
              "    border-color: transparent;\n",
              "    border-bottom-color: var(--fill-color);\n",
              "    animation:\n",
              "      spin 1s steps(1) infinite;\n",
              "  }\n",
              "\n",
              "  @keyframes spin {\n",
              "    0% {\n",
              "      border-color: transparent;\n",
              "      border-bottom-color: var(--fill-color);\n",
              "      border-left-color: var(--fill-color);\n",
              "    }\n",
              "    20% {\n",
              "      border-color: transparent;\n",
              "      border-left-color: var(--fill-color);\n",
              "      border-top-color: var(--fill-color);\n",
              "    }\n",
              "    30% {\n",
              "      border-color: transparent;\n",
              "      border-left-color: var(--fill-color);\n",
              "      border-top-color: var(--fill-color);\n",
              "      border-right-color: var(--fill-color);\n",
              "    }\n",
              "    40% {\n",
              "      border-color: transparent;\n",
              "      border-right-color: var(--fill-color);\n",
              "      border-top-color: var(--fill-color);\n",
              "    }\n",
              "    60% {\n",
              "      border-color: transparent;\n",
              "      border-right-color: var(--fill-color);\n",
              "    }\n",
              "    80% {\n",
              "      border-color: transparent;\n",
              "      border-right-color: var(--fill-color);\n",
              "      border-bottom-color: var(--fill-color);\n",
              "    }\n",
              "    90% {\n",
              "      border-color: transparent;\n",
              "      border-bottom-color: var(--fill-color);\n",
              "    }\n",
              "  }\n",
              "</style>\n",
              "\n",
              "      <script>\n",
              "        async function quickchart(key) {\n",
              "          const quickchartButtonEl =\n",
              "            document.querySelector('#' + key + ' button');\n",
              "          quickchartButtonEl.disabled = true;  // To prevent multiple clicks.\n",
              "          quickchartButtonEl.classList.add('colab-df-spinner');\n",
              "          try {\n",
              "            const charts = await google.colab.kernel.invokeFunction(\n",
              "                'suggestCharts', [key], {});\n",
              "          } catch (error) {\n",
              "            console.error('Error during call to suggestCharts:', error);\n",
              "          }\n",
              "          quickchartButtonEl.classList.remove('colab-df-spinner');\n",
              "          quickchartButtonEl.classList.add('colab-df-quickchart-complete');\n",
              "        }\n",
              "        (() => {\n",
              "          let quickchartButtonEl =\n",
              "            document.querySelector('#df-4029bdfd-128f-4923-a7c9-f0389f2e73be button');\n",
              "          quickchartButtonEl.style.display =\n",
              "            google.colab.kernel.accessAllowed ? 'block' : 'none';\n",
              "        })();\n",
              "      </script>\n",
              "    </div>\n",
              "\n",
              "    </div>\n",
              "  </div>\n"
            ],
            "application/vnd.google.colaboratory.intrinsic+json": {
              "type": "dataframe"
            }
          },
          "metadata": {},
          "execution_count": 18
        }
      ],
      "source": [
        "pd.DataFrame(url_features, columns=url_feature_names).head()"
      ]
    },
    {
      "cell_type": "code",
      "execution_count": 19,
      "metadata": {
        "colab": {
          "base_uri": "https://localhost:8080/"
        },
        "id": "L6gHA8KcGPpd",
        "outputId": "729663f5-97c8-4826-8c32-3e9cf775b965"
      },
      "outputs": [
        {
          "output_type": "stream",
          "name": "stdout",
          "text": [
            "0                              /tienda1/index.jsp HTTP/1.1\n",
            "1        /tienda1/publico/anadir.jsp?id=3&nombre=Vino+R...\n",
            "2                     /tienda1/publico/anadir.jsp HTTP/1.1\n",
            "3        /tienda1/publico/autenticar.jsp?modo=entrar&lo...\n",
            "4                 /tienda1/publico/autenticar.jsp HTTP/1.1\n",
            "                               ...                        \n",
            "61060    /tienda1/miembros/editar.jsp?modo=registro&log...\n",
            "61061                /tienda1/miembros/editar.jsp HTTP/1.1\n",
            "61062            /tienda1/miembros/editar.jsp.bak HTTP/1.1\n",
            "61063                    /tienda1/imagenes/3.gif/ HTTP/1.1\n",
            "61064     /tienda1/imagenes/nuestratierra.jpg.BAK HTTP/1.1\n",
            "Name: URL, Length: 61065, dtype: object\n"
          ]
        }
      ],
      "source": [
        "print(dataset_data['URL'])\n"
      ]
    },
    {
      "cell_type": "code",
      "execution_count": 20,
      "metadata": {
        "colab": {
          "base_uri": "https://localhost:8080/"
        },
        "id": "LLSiMkUcKJOu",
        "outputId": "59a18a9b-782a-4532-9c0d-457dab639087"
      },
      "outputs": [
        {
          "output_type": "stream",
          "name": "stdout",
          "text": [
            "TF-IDF content matrix size: (61065, 1000)\n",
            "Some words in content vocabulary: ['0' '09390' '1' '10' '100' '102' '103' '104' '105' '106']\n"
          ]
        }
      ],
      "source": [
        "# Generate TF-IDF for content\n",
        "content_tfidf = TfidfVectorizer(max_features=1000, lowercase=True, token_pattern=r'(?u)\\b\\w+\\b')\n",
        "content_features = content_tfidf.fit_transform(dataset_data['content']).toarray()\n",
        "content_feature_names = content_tfidf.get_feature_names_out()\n",
        "print(\"TF-IDF content matrix size:\", content_features.shape)\n",
        "print(\"Some words in content vocabulary:\", content_feature_names[:10])\n"
      ]
    },
    {
      "cell_type": "code",
      "execution_count": 21,
      "metadata": {
        "colab": {
          "base_uri": "https://localhost:8080/"
        },
        "id": "A50mExFhSW2h",
        "outputId": "48cdd623-b1b3-4b05-a114-081ad58ea1dd"
      },
      "outputs": [
        {
          "output_type": "stream",
          "name": "stdout",
          "text": [
            "تم حفظ TF-IDF Vectorizers.\n"
          ]
        }
      ],
      "source": [
        "import joblib\n",
        "\n",
        "# حفظ الـ TfidfVectorizer للـ URL\n",
        "joblib.dump(url_tfidf, 'url_vectorizer.pkl')\n",
        "\n",
        "# حفظ الـ TfidfVectorizer للـ Content\n",
        "joblib.dump(content_tfidf, 'content_vectorizer.pkl')\n",
        "\n",
        "print(\"تم حفظ TF-IDF Vectorizers.\")\n"
      ]
    },
    {
      "cell_type": "code",
      "execution_count": 22,
      "metadata": {
        "colab": {
          "base_uri": "https://localhost:8080/"
        },
        "id": "tHJDzQ_sMB1z",
        "outputId": "da8e84a5-5ade-490e-eb1c-963e7d35c46b"
      },
      "outputs": [
        {
          "output_type": "stream",
          "name": "stdout",
          "text": [
            "columns: Index(['Method', 'User-Agent', 'Pragma', 'Cache-Control', 'Accept',\n",
            "       'Accept-encoding', 'Accept-charset', 'language', 'host', 'cookie',\n",
            "       'content-type', 'connection', 'lenght', 'content', 'classification',\n",
            "       'URL', 'is_post', 'url_length', 'url_special_chars',\n",
            "       'url_malicious_keywords', 'url_params_count', 'content_length',\n",
            "       'content_special_chars', 'content_malicious_keywords'],\n",
            "      dtype='object')\n"
          ]
        }
      ],
      "source": [
        "print(\"columns:\", dataset_data.columns)"
      ]
    },
    {
      "cell_type": "code",
      "execution_count": 23,
      "metadata": {
        "colab": {
          "base_uri": "https://localhost:8080/"
        },
        "id": "jroorR7SKJQj",
        "outputId": "db8f5624-d123-405e-9e25-8b564797d428"
      },
      "outputs": [
        {
          "output_type": "stream",
          "name": "stdout",
          "text": [
            "After encryption: Index(['User-Agent', 'Pragma', 'Cache-Control', 'Accept', 'Accept-encoding',\n",
            "       'Accept-charset', 'language', 'host', 'cookie', 'connection', 'lenght',\n",
            "       'content', 'classification', 'URL', 'is_post', 'url_length',\n",
            "       'url_special_chars', 'url_malicious_keywords', 'url_params_count',\n",
            "       'content_length', 'content_special_chars', 'content_malicious_keywords',\n",
            "       'Method_POST', 'Method_PUT',\n",
            "       'content-type_application/x-www-form-urlencoded'],\n",
            "      dtype='object')\n"
          ]
        }
      ],
      "source": [
        "# Encode category columns using One-Hot Encoding\n",
        "# Encoding Method and content-type\n",
        "dataset_data = pd.get_dummies(dataset_data, columns=['Method', 'content-type'], prefix=['Method', 'content-type'], drop_first=True)\n",
        "print(\"After encryption:\", dataset_data.columns)\n"
      ]
    },
    {
      "cell_type": "code",
      "execution_count": 24,
      "metadata": {
        "colab": {
          "base_uri": "https://localhost:8080/",
          "height": 236
        },
        "id": "bPZtDMZbITtL",
        "outputId": "5dcde2ce-1d28-454a-c567-a2e0d6323a22"
      },
      "outputs": [
        {
          "output_type": "execute_result",
          "data": {
            "text/plain": [
              "     0  09390    1   10       100  102  103  104  105  106  ...    y  yago  \\\n",
              "0  0.0    0.0  0.0  0.0  0.000000  0.0  0.0  0.0  0.0  0.0  ...  0.0   0.0   \n",
              "1  0.0    0.0  0.0  0.0  0.000000  0.0  0.0  0.0  0.0  0.0  ...  0.0   0.0   \n",
              "2  0.0    0.0  0.0  0.0  0.300976  0.0  0.0  0.0  0.0  0.0  ...  0.0   0.0   \n",
              "3  0.0    0.0  0.0  0.0  0.000000  0.0  0.0  0.0  0.0  0.0  ...  0.0   0.0   \n",
              "4  0.0    0.0  0.0  0.0  0.000000  0.0  0.0  0.0  0.0  0.0  ...  0.0   0.0   \n",
              "\n",
              "    ye   yu  zabala  zamora  zaragoza   zm   zr   zw  \n",
              "0  0.0  0.0     0.0     0.0       0.0  0.0  0.0  0.0  \n",
              "1  0.0  0.0     0.0     0.0       0.0  0.0  0.0  0.0  \n",
              "2  0.0  0.0     0.0     0.0       0.0  0.0  0.0  0.0  \n",
              "3  0.0  0.0     0.0     0.0       0.0  0.0  0.0  0.0  \n",
              "4  0.0  0.0     0.0     0.0       0.0  0.0  0.0  0.0  \n",
              "\n",
              "[5 rows x 1000 columns]"
            ],
            "text/html": [
              "\n",
              "  <div id=\"df-ff7cdb5a-23de-48bb-a1f1-17933394a931\" class=\"colab-df-container\">\n",
              "    <div>\n",
              "<style scoped>\n",
              "    .dataframe tbody tr th:only-of-type {\n",
              "        vertical-align: middle;\n",
              "    }\n",
              "\n",
              "    .dataframe tbody tr th {\n",
              "        vertical-align: top;\n",
              "    }\n",
              "\n",
              "    .dataframe thead th {\n",
              "        text-align: right;\n",
              "    }\n",
              "</style>\n",
              "<table border=\"1\" class=\"dataframe\">\n",
              "  <thead>\n",
              "    <tr style=\"text-align: right;\">\n",
              "      <th></th>\n",
              "      <th>0</th>\n",
              "      <th>09390</th>\n",
              "      <th>1</th>\n",
              "      <th>10</th>\n",
              "      <th>100</th>\n",
              "      <th>102</th>\n",
              "      <th>103</th>\n",
              "      <th>104</th>\n",
              "      <th>105</th>\n",
              "      <th>106</th>\n",
              "      <th>...</th>\n",
              "      <th>y</th>\n",
              "      <th>yago</th>\n",
              "      <th>ye</th>\n",
              "      <th>yu</th>\n",
              "      <th>zabala</th>\n",
              "      <th>zamora</th>\n",
              "      <th>zaragoza</th>\n",
              "      <th>zm</th>\n",
              "      <th>zr</th>\n",
              "      <th>zw</th>\n",
              "    </tr>\n",
              "  </thead>\n",
              "  <tbody>\n",
              "    <tr>\n",
              "      <th>0</th>\n",
              "      <td>0.0</td>\n",
              "      <td>0.0</td>\n",
              "      <td>0.0</td>\n",
              "      <td>0.0</td>\n",
              "      <td>0.000000</td>\n",
              "      <td>0.0</td>\n",
              "      <td>0.0</td>\n",
              "      <td>0.0</td>\n",
              "      <td>0.0</td>\n",
              "      <td>0.0</td>\n",
              "      <td>...</td>\n",
              "      <td>0.0</td>\n",
              "      <td>0.0</td>\n",
              "      <td>0.0</td>\n",
              "      <td>0.0</td>\n",
              "      <td>0.0</td>\n",
              "      <td>0.0</td>\n",
              "      <td>0.0</td>\n",
              "      <td>0.0</td>\n",
              "      <td>0.0</td>\n",
              "      <td>0.0</td>\n",
              "    </tr>\n",
              "    <tr>\n",
              "      <th>1</th>\n",
              "      <td>0.0</td>\n",
              "      <td>0.0</td>\n",
              "      <td>0.0</td>\n",
              "      <td>0.0</td>\n",
              "      <td>0.000000</td>\n",
              "      <td>0.0</td>\n",
              "      <td>0.0</td>\n",
              "      <td>0.0</td>\n",
              "      <td>0.0</td>\n",
              "      <td>0.0</td>\n",
              "      <td>...</td>\n",
              "      <td>0.0</td>\n",
              "      <td>0.0</td>\n",
              "      <td>0.0</td>\n",
              "      <td>0.0</td>\n",
              "      <td>0.0</td>\n",
              "      <td>0.0</td>\n",
              "      <td>0.0</td>\n",
              "      <td>0.0</td>\n",
              "      <td>0.0</td>\n",
              "      <td>0.0</td>\n",
              "    </tr>\n",
              "    <tr>\n",
              "      <th>2</th>\n",
              "      <td>0.0</td>\n",
              "      <td>0.0</td>\n",
              "      <td>0.0</td>\n",
              "      <td>0.0</td>\n",
              "      <td>0.300976</td>\n",
              "      <td>0.0</td>\n",
              "      <td>0.0</td>\n",
              "      <td>0.0</td>\n",
              "      <td>0.0</td>\n",
              "      <td>0.0</td>\n",
              "      <td>...</td>\n",
              "      <td>0.0</td>\n",
              "      <td>0.0</td>\n",
              "      <td>0.0</td>\n",
              "      <td>0.0</td>\n",
              "      <td>0.0</td>\n",
              "      <td>0.0</td>\n",
              "      <td>0.0</td>\n",
              "      <td>0.0</td>\n",
              "      <td>0.0</td>\n",
              "      <td>0.0</td>\n",
              "    </tr>\n",
              "    <tr>\n",
              "      <th>3</th>\n",
              "      <td>0.0</td>\n",
              "      <td>0.0</td>\n",
              "      <td>0.0</td>\n",
              "      <td>0.0</td>\n",
              "      <td>0.000000</td>\n",
              "      <td>0.0</td>\n",
              "      <td>0.0</td>\n",
              "      <td>0.0</td>\n",
              "      <td>0.0</td>\n",
              "      <td>0.0</td>\n",
              "      <td>...</td>\n",
              "      <td>0.0</td>\n",
              "      <td>0.0</td>\n",
              "      <td>0.0</td>\n",
              "      <td>0.0</td>\n",
              "      <td>0.0</td>\n",
              "      <td>0.0</td>\n",
              "      <td>0.0</td>\n",
              "      <td>0.0</td>\n",
              "      <td>0.0</td>\n",
              "      <td>0.0</td>\n",
              "    </tr>\n",
              "    <tr>\n",
              "      <th>4</th>\n",
              "      <td>0.0</td>\n",
              "      <td>0.0</td>\n",
              "      <td>0.0</td>\n",
              "      <td>0.0</td>\n",
              "      <td>0.000000</td>\n",
              "      <td>0.0</td>\n",
              "      <td>0.0</td>\n",
              "      <td>0.0</td>\n",
              "      <td>0.0</td>\n",
              "      <td>0.0</td>\n",
              "      <td>...</td>\n",
              "      <td>0.0</td>\n",
              "      <td>0.0</td>\n",
              "      <td>0.0</td>\n",
              "      <td>0.0</td>\n",
              "      <td>0.0</td>\n",
              "      <td>0.0</td>\n",
              "      <td>0.0</td>\n",
              "      <td>0.0</td>\n",
              "      <td>0.0</td>\n",
              "      <td>0.0</td>\n",
              "    </tr>\n",
              "  </tbody>\n",
              "</table>\n",
              "<p>5 rows × 1000 columns</p>\n",
              "</div>\n",
              "    <div class=\"colab-df-buttons\">\n",
              "\n",
              "  <div class=\"colab-df-container\">\n",
              "    <button class=\"colab-df-convert\" onclick=\"convertToInteractive('df-ff7cdb5a-23de-48bb-a1f1-17933394a931')\"\n",
              "            title=\"Convert this dataframe to an interactive table.\"\n",
              "            style=\"display:none;\">\n",
              "\n",
              "  <svg xmlns=\"http://www.w3.org/2000/svg\" height=\"24px\" viewBox=\"0 -960 960 960\">\n",
              "    <path d=\"M120-120v-720h720v720H120Zm60-500h600v-160H180v160Zm220 220h160v-160H400v160Zm0 220h160v-160H400v160ZM180-400h160v-160H180v160Zm440 0h160v-160H620v160ZM180-180h160v-160H180v160Zm440 0h160v-160H620v160Z\"/>\n",
              "  </svg>\n",
              "    </button>\n",
              "\n",
              "  <style>\n",
              "    .colab-df-container {\n",
              "      display:flex;\n",
              "      gap: 12px;\n",
              "    }\n",
              "\n",
              "    .colab-df-convert {\n",
              "      background-color: #E8F0FE;\n",
              "      border: none;\n",
              "      border-radius: 50%;\n",
              "      cursor: pointer;\n",
              "      display: none;\n",
              "      fill: #1967D2;\n",
              "      height: 32px;\n",
              "      padding: 0 0 0 0;\n",
              "      width: 32px;\n",
              "    }\n",
              "\n",
              "    .colab-df-convert:hover {\n",
              "      background-color: #E2EBFA;\n",
              "      box-shadow: 0px 1px 2px rgba(60, 64, 67, 0.3), 0px 1px 3px 1px rgba(60, 64, 67, 0.15);\n",
              "      fill: #174EA6;\n",
              "    }\n",
              "\n",
              "    .colab-df-buttons div {\n",
              "      margin-bottom: 4px;\n",
              "    }\n",
              "\n",
              "    [theme=dark] .colab-df-convert {\n",
              "      background-color: #3B4455;\n",
              "      fill: #D2E3FC;\n",
              "    }\n",
              "\n",
              "    [theme=dark] .colab-df-convert:hover {\n",
              "      background-color: #434B5C;\n",
              "      box-shadow: 0px 1px 3px 1px rgba(0, 0, 0, 0.15);\n",
              "      filter: drop-shadow(0px 1px 2px rgba(0, 0, 0, 0.3));\n",
              "      fill: #FFFFFF;\n",
              "    }\n",
              "  </style>\n",
              "\n",
              "    <script>\n",
              "      const buttonEl =\n",
              "        document.querySelector('#df-ff7cdb5a-23de-48bb-a1f1-17933394a931 button.colab-df-convert');\n",
              "      buttonEl.style.display =\n",
              "        google.colab.kernel.accessAllowed ? 'block' : 'none';\n",
              "\n",
              "      async function convertToInteractive(key) {\n",
              "        const element = document.querySelector('#df-ff7cdb5a-23de-48bb-a1f1-17933394a931');\n",
              "        const dataTable =\n",
              "          await google.colab.kernel.invokeFunction('convertToInteractive',\n",
              "                                                    [key], {});\n",
              "        if (!dataTable) return;\n",
              "\n",
              "        const docLinkHtml = 'Like what you see? Visit the ' +\n",
              "          '<a target=\"_blank\" href=https://colab.research.google.com/notebooks/data_table.ipynb>data table notebook</a>'\n",
              "          + ' to learn more about interactive tables.';\n",
              "        element.innerHTML = '';\n",
              "        dataTable['output_type'] = 'display_data';\n",
              "        await google.colab.output.renderOutput(dataTable, element);\n",
              "        const docLink = document.createElement('div');\n",
              "        docLink.innerHTML = docLinkHtml;\n",
              "        element.appendChild(docLink);\n",
              "      }\n",
              "    </script>\n",
              "  </div>\n",
              "\n",
              "\n",
              "    <div id=\"df-b7da9d17-8932-4f3e-8511-28c2dadc9115\">\n",
              "      <button class=\"colab-df-quickchart\" onclick=\"quickchart('df-b7da9d17-8932-4f3e-8511-28c2dadc9115')\"\n",
              "                title=\"Suggest charts\"\n",
              "                style=\"display:none;\">\n",
              "\n",
              "<svg xmlns=\"http://www.w3.org/2000/svg\" height=\"24px\"viewBox=\"0 0 24 24\"\n",
              "     width=\"24px\">\n",
              "    <g>\n",
              "        <path d=\"M19 3H5c-1.1 0-2 .9-2 2v14c0 1.1.9 2 2 2h14c1.1 0 2-.9 2-2V5c0-1.1-.9-2-2-2zM9 17H7v-7h2v7zm4 0h-2V7h2v10zm4 0h-2v-4h2v4z\"/>\n",
              "    </g>\n",
              "</svg>\n",
              "      </button>\n",
              "\n",
              "<style>\n",
              "  .colab-df-quickchart {\n",
              "      --bg-color: #E8F0FE;\n",
              "      --fill-color: #1967D2;\n",
              "      --hover-bg-color: #E2EBFA;\n",
              "      --hover-fill-color: #174EA6;\n",
              "      --disabled-fill-color: #AAA;\n",
              "      --disabled-bg-color: #DDD;\n",
              "  }\n",
              "\n",
              "  [theme=dark] .colab-df-quickchart {\n",
              "      --bg-color: #3B4455;\n",
              "      --fill-color: #D2E3FC;\n",
              "      --hover-bg-color: #434B5C;\n",
              "      --hover-fill-color: #FFFFFF;\n",
              "      --disabled-bg-color: #3B4455;\n",
              "      --disabled-fill-color: #666;\n",
              "  }\n",
              "\n",
              "  .colab-df-quickchart {\n",
              "    background-color: var(--bg-color);\n",
              "    border: none;\n",
              "    border-radius: 50%;\n",
              "    cursor: pointer;\n",
              "    display: none;\n",
              "    fill: var(--fill-color);\n",
              "    height: 32px;\n",
              "    padding: 0;\n",
              "    width: 32px;\n",
              "  }\n",
              "\n",
              "  .colab-df-quickchart:hover {\n",
              "    background-color: var(--hover-bg-color);\n",
              "    box-shadow: 0 1px 2px rgba(60, 64, 67, 0.3), 0 1px 3px 1px rgba(60, 64, 67, 0.15);\n",
              "    fill: var(--button-hover-fill-color);\n",
              "  }\n",
              "\n",
              "  .colab-df-quickchart-complete:disabled,\n",
              "  .colab-df-quickchart-complete:disabled:hover {\n",
              "    background-color: var(--disabled-bg-color);\n",
              "    fill: var(--disabled-fill-color);\n",
              "    box-shadow: none;\n",
              "  }\n",
              "\n",
              "  .colab-df-spinner {\n",
              "    border: 2px solid var(--fill-color);\n",
              "    border-color: transparent;\n",
              "    border-bottom-color: var(--fill-color);\n",
              "    animation:\n",
              "      spin 1s steps(1) infinite;\n",
              "  }\n",
              "\n",
              "  @keyframes spin {\n",
              "    0% {\n",
              "      border-color: transparent;\n",
              "      border-bottom-color: var(--fill-color);\n",
              "      border-left-color: var(--fill-color);\n",
              "    }\n",
              "    20% {\n",
              "      border-color: transparent;\n",
              "      border-left-color: var(--fill-color);\n",
              "      border-top-color: var(--fill-color);\n",
              "    }\n",
              "    30% {\n",
              "      border-color: transparent;\n",
              "      border-left-color: var(--fill-color);\n",
              "      border-top-color: var(--fill-color);\n",
              "      border-right-color: var(--fill-color);\n",
              "    }\n",
              "    40% {\n",
              "      border-color: transparent;\n",
              "      border-right-color: var(--fill-color);\n",
              "      border-top-color: var(--fill-color);\n",
              "    }\n",
              "    60% {\n",
              "      border-color: transparent;\n",
              "      border-right-color: var(--fill-color);\n",
              "    }\n",
              "    80% {\n",
              "      border-color: transparent;\n",
              "      border-right-color: var(--fill-color);\n",
              "      border-bottom-color: var(--fill-color);\n",
              "    }\n",
              "    90% {\n",
              "      border-color: transparent;\n",
              "      border-bottom-color: var(--fill-color);\n",
              "    }\n",
              "  }\n",
              "</style>\n",
              "\n",
              "      <script>\n",
              "        async function quickchart(key) {\n",
              "          const quickchartButtonEl =\n",
              "            document.querySelector('#' + key + ' button');\n",
              "          quickchartButtonEl.disabled = true;  // To prevent multiple clicks.\n",
              "          quickchartButtonEl.classList.add('colab-df-spinner');\n",
              "          try {\n",
              "            const charts = await google.colab.kernel.invokeFunction(\n",
              "                'suggestCharts', [key], {});\n",
              "          } catch (error) {\n",
              "            console.error('Error during call to suggestCharts:', error);\n",
              "          }\n",
              "          quickchartButtonEl.classList.remove('colab-df-spinner');\n",
              "          quickchartButtonEl.classList.add('colab-df-quickchart-complete');\n",
              "        }\n",
              "        (() => {\n",
              "          let quickchartButtonEl =\n",
              "            document.querySelector('#df-b7da9d17-8932-4f3e-8511-28c2dadc9115 button');\n",
              "          quickchartButtonEl.style.display =\n",
              "            google.colab.kernel.accessAllowed ? 'block' : 'none';\n",
              "        })();\n",
              "      </script>\n",
              "    </div>\n",
              "\n",
              "    </div>\n",
              "  </div>\n"
            ],
            "application/vnd.google.colaboratory.intrinsic+json": {
              "type": "dataframe"
            }
          },
          "metadata": {},
          "execution_count": 24
        }
      ],
      "source": [
        "pd.DataFrame(content_features, columns=content_feature_names).head()"
      ]
    },
    {
      "cell_type": "code",
      "execution_count": 25,
      "metadata": {
        "colab": {
          "base_uri": "https://localhost:8080/"
        },
        "id": "OfmqsVA0KJT_",
        "outputId": "066f36b0-a704-400a-9f37-32cdacaba012"
      },
      "outputs": [
        {
          "output_type": "stream",
          "name": "stdout",
          "text": [
            "Total feature matrix size: (61065, 2008)\n",
            "Is there any NaN in the matrix? 0\n",
            "The first 10 of feature samples: [27.  3.  1.  0.  4.  0.  0.  0.  0.  0.]\n"
          ]
        }
      ],
      "source": [
        "# Feature Combination\n",
        "# Manually Features selection\n",
        "manual_features = dataset_data[['url_length', 'url_special_chars', 'url_malicious_keywords', 'url_params_count',\n",
        "                               'content_length', 'content_special_chars', 'content_malicious_keywords',\n",
        "                               'is_post']]\n",
        "\n",
        "one_hot_features = dataset_data.filter(like='Method_|content-type_')\n",
        "\n",
        "feature_matrix = np.hstack([manual_features.values, one_hot_features.values, url_features, content_features])\n",
        "print(\"Total feature matrix size:\", feature_matrix.shape)\n",
        "\n",
        "# Save feature matrix and labels\n",
        "np.save('feature_matrix.npy', feature_matrix)\n",
        "np.save('labels.npy', dataset_data['classification'].values)\n",
        "##labels_df = pd.DataFrame(dataset_data['classification'].values, columns=['label'])\n",
        "# Save to CSV\n",
        "##labels_df.to_csv('labels.csv', index=False)\n",
        "# Re-check\n",
        "print(\"Is there any NaN in the matrix?\", np.isnan(feature_matrix).sum())\n",
        "print(\"The first 10 of feature samples:\", feature_matrix[0, :10])"
      ]
    },
    {
      "cell_type": "code",
      "execution_count": 26,
      "metadata": {
        "colab": {
          "base_uri": "https://localhost:8080/"
        },
        "id": "lEcZYAzhYTHt",
        "outputId": "c41c10bc-e5c8-4c8b-ed63-7179b4f3eb83"
      },
      "outputs": [
        {
          "output_type": "stream",
          "name": "stdout",
          "text": [
            "One-hot feature shape: (61065, 0)\n",
            "One-hot feature shape: Empty DataFrame\n",
            "Columns: []\n",
            "Index: [0, 1, 2, 3, 4, 5, 6, 7, 8, 9, 10, 11, 12, 13, 14, 15, 16, 17, 18, 19, 20, 21, 22, 23, 24, 25, 26, 27, 28, 29, 30, 31, 32, 33, 34, 35, 36, 37, 38, 39, 40, 41, 42, 43, 44, 45, 46, 47, 48, 49, 50, 51, 52, 53, 54, 55, 56, 57, 58, 59, 60, 61, 62, 63, 64, 65, 66, 67, 68, 69, 70, 71, 72, 73, 74, 75, 76, 77, 78, 79, 80, 81, 82, 83, 84, 85, 86, 87, 88, 89, 90, 91, 92, 93, 94, 95, 96, 97, 98, 99, ...]\n",
            "\n",
            "[61065 rows x 0 columns]\n"
          ]
        }
      ],
      "source": [
        "print(\"One-hot feature shape:\", one_hot_features.shape)\n",
        "print(\"One-hot feature shape:\", one_hot_features)"
      ]
    },
    {
      "cell_type": "code",
      "execution_count": 27,
      "metadata": {
        "colab": {
          "base_uri": "https://localhost:8080/"
        },
        "id": "zzRFNBKrhto4",
        "outputId": "ba43535e-24c2-4768-beb5-ef3080b51c20"
      },
      "outputs": [
        {
          "output_type": "stream",
          "name": "stdout",
          "text": [
            "First 3 rows of the feature matrix:\n",
            " [[ 27.   3.   1. ...   0.   0.   0.]\n",
            " [105.  17.   3. ...   0.   0.   0.]\n",
            " [ 36.   4.   1. ...   0.   0.   0.]]\n"
          ]
        }
      ],
      "source": [
        "# Show the first 3 rows of the full feature matrix\n",
        "print(\"First 3 rows of the feature matrix:\\n\", feature_matrix[:3])\n"
      ]
    },
    {
      "cell_type": "code",
      "execution_count": 28,
      "metadata": {
        "colab": {
          "base_uri": "https://localhost:8080/"
        },
        "id": "WnJXi5Rsh0pf",
        "outputId": "17c4e669-8cdf-4b26-9283-cc58eb549014"
      },
      "outputs": [
        {
          "output_type": "stream",
          "name": "stdout",
          "text": [
            "    0     1     2     3     4     5     6     7     8     9     ...  1998  \\\n",
            "0   27.0   3.0   1.0   0.0   4.0   0.0   0.0   0.0   0.0   0.0  ...   0.0   \n",
            "1  105.0  17.0   3.0   5.0   4.0   0.0   0.0   0.0   0.0   0.0  ...   0.0   \n",
            "2   36.0   4.0   1.0   0.0  68.0  13.0   2.0   1.0   0.0   0.0  ...   0.0   \n",
            "\n",
            "   1999  2000  2001  2002  2003  2004  2005  2006  2007  \n",
            "0   0.0   0.0   0.0   0.0   0.0   0.0   0.0   0.0   0.0  \n",
            "1   0.0   0.0   0.0   0.0   0.0   0.0   0.0   0.0   0.0  \n",
            "2   0.0   0.0   0.0   0.0   0.0   0.0   0.0   0.0   0.0  \n",
            "\n",
            "[3 rows x 2008 columns]\n"
          ]
        }
      ],
      "source": [
        "# Convert to DataFrame to see it clearly\n",
        "feature_df = pd.DataFrame(feature_matrix)\n",
        "\n",
        "# Show first 3 rows\n",
        "print(feature_df.head(3))"
      ]
    },
    {
      "cell_type": "code",
      "execution_count": 29,
      "metadata": {
        "id": "61J5uwj8iZ7X"
      },
      "outputs": [],
      "source": [
        "\n",
        "\n",
        "### Save the DataFrame to a CSV file\n",
        "##feature_df.to_csv('feature_matrix.csv', index=False)\n",
        "\n",
        "##print(\"Feature matrix has been saved as 'feature_matrix.csv'\")\n",
        "\n",
        "\n"
      ]
    },
    {
      "cell_type": "code",
      "execution_count": 29,
      "metadata": {
        "id": "zU6HKRVUGPi_"
      },
      "outputs": [],
      "source": []
    },
    {
      "cell_type": "markdown",
      "metadata": {
        "id": "7UDueqXUxGWd"
      },
      "source": [
        "## 2.3. Data normalization"
      ]
    },
    {
      "cell_type": "code",
      "execution_count": 30,
      "metadata": {
        "colab": {
          "base_uri": "https://localhost:8080/"
        },
        "id": "2VzHD85UxHlU",
        "outputId": "2077a12e-748d-4c83-a368-e2c86e9c8587"
      },
      "outputs": [
        {
          "output_type": "stream",
          "name": "stdout",
          "text": [
            "Number of NaN values ​​in the matrix: 0\n"
          ]
        }
      ],
      "source": [
        "#-------- Data normalization ------------\n",
        "# Check before normalizing\n",
        "print(\"Number of NaN values ​​in the matrix:\", np.isnan(feature_matrix).sum())\n",
        "if np.isnan(feature_matrix).sum() > 0:\n",
        "    # Replace NaN with 0 (or mean if needed)\n",
        "    feature_matrix = np.nan_to_num(feature_matrix, nan=0.0)"
      ]
    },
    {
      "cell_type": "code",
      "execution_count": 31,
      "metadata": {
        "colab": {
          "base_uri": "https://localhost:8080/"
        },
        "id": "BAk7s9kTxHsT",
        "outputId": "bb17e864-19b0-4d6a-9172-b41bbc296cf3"
      },
      "outputs": [
        {
          "output_type": "stream",
          "name": "stdout",
          "text": [
            "Matrix size after normalization: (61065, 2008)\n",
            "Sample value after normalization: [-0.56025611 -0.50971368 -0.3964348  -0.4469256  -0.41297921 -0.42000477\n",
            " -0.54358599 -0.63582807 -0.03534143 -0.01452829]\n"
          ]
        }
      ],
      "source": [
        "# Data normalization\n",
        "scaler = StandardScaler()\n",
        "feature_matrix_scaled = scaler.fit_transform(feature_matrix)\n",
        "print(\"Matrix size after normalization:\", feature_matrix_scaled.shape)\n",
        "print(\"Sample value after normalization:\", feature_matrix_scaled[0, :10])"
      ]
    },
    {
      "cell_type": "code",
      "execution_count": 32,
      "metadata": {
        "colab": {
          "base_uri": "https://localhost:8080/",
          "height": 452
        },
        "id": "3X3byyyjxHxU",
        "outputId": "f9b79770-8b0a-46ee-dfba-5d0e5350f314"
      },
      "outputs": [
        {
          "output_type": "display_data",
          "data": {
            "text/plain": [
              "<Figure size 640x480 with 1 Axes>"
            ],
            "image/png": "[encoded data removed]"
          },
          "metadata": {}
        }
      ],
      "source": [
        "# Save after Normalization\n",
        "np.save('feature_matrix_scaled.npy', feature_matrix_scaled)\n",
        "np.save('labels.npy', dataset_data['classification'].values)\n",
        "\n",
        "joblib.dump(scaler, 'scaler.pkl')\n",
        "\n",
        "# Re-check & Visualization\n",
        "plt.hist(feature_matrix_scaled[:, 0], bins=50)\n",
        "plt.title('Feature distribution after Normalization.')\n",
        "plt.show()"
      ]
    },
    {
      "cell_type": "markdown",
      "metadata": {
        "id": "WbqOxgRk1GgI"
      },
      "source": [
        "## 2.4. Data Balancing\n",
        "* **Problem**: Currently valid:toxic sample ratio (~36,000:25,000, ratio ~59:41).\n",
        "* **Resolution**: Need to perform data balance"
      ]
    },
    {
      "cell_type": "code",
      "execution_count": 33,
      "metadata": {
        "colab": {
          "base_uri": "https://localhost:8080/"
        },
        "id": "y7JKE_wBxH2E",
        "outputId": "881e444f-ac0f-4b02-c423-41fcc64c974a"
      },
      "outputs": [
        {
          "output_type": "stream",
          "name": "stdout",
          "text": [
            "Label distribution before SMOTE:\n",
            "classification\n",
            "0    36000\n",
            "1    25065\n",
            "Name: count, dtype: int64\n"
          ]
        }
      ],
      "source": [
        "# Check befor Balancing by SMOTE\n",
        "print(\"Label distribution before SMOTE:\")\n",
        "print(pd.Series(dataset_data['classification']).value_counts())"
      ]
    },
    {
      "cell_type": "code",
      "execution_count": 34,
      "metadata": {
        "id": "ikKeIrq6xH6E",
        "colab": {
          "base_uri": "https://localhost:8080/"
        },
        "outputId": "1b984d2c-24dc-4375-cf3d-68eb9477c9d1"
      },
      "outputs": [
        {
          "output_type": "stream",
          "name": "stdout",
          "text": [
            "\n",
            "Label distribution after SMOTE:\n",
            "classification\n",
            "0    36000\n",
            "1    36000\n",
            "Name: count, dtype: int64\n"
          ]
        }
      ],
      "source": [
        "# Data balancing by SMOTE\n",
        "smote = SMOTE(random_state=42, sampling_strategy='auto')  # sampling_strategy='auto' để cân bằng 50:50\n",
        "X_resampled, y_resampled = smote.fit_resample(feature_matrix_scaled, dataset_data['classification'])\n",
        "\n",
        "# Check after SMOTE\n",
        "print(\"\\nLabel distribution after SMOTE:\")\n",
        "print(pd.Series(y_resampled).value_counts())"
      ]
    },
    {
      "cell_type": "code",
      "execution_count": 35,
      "metadata": {
        "colab": {
          "base_uri": "https://localhost:8080/"
        },
        "id": "7WLHev9Z1LKh",
        "outputId": "762c541b-68e4-4d19-f6fb-8bb161b8ecc8"
      },
      "outputs": [
        {
          "output_type": "stream",
          "name": "stdout",
          "text": [
            "Saved successful!\n"
          ]
        }
      ],
      "source": [
        "# Save balanced Data\n",
        "np.save('X_resampled.npy', X_resampled)\n",
        "np.save('y_resampled.npy', y_resampled)\n",
        "print(\"Saved successful!\")"
      ]
    },
    {
      "cell_type": "code",
      "execution_count": 36,
      "metadata": {
        "colab": {
          "base_uri": "https://localhost:8080/",
          "height": 472
        },
        "id": "TBveLa5E1LNa",
        "outputId": "b61b3077-5fb2-4006-d05c-c3bff69819fb"
      },
      "outputs": [
        {
          "output_type": "display_data",
          "data": {
            "text/plain": [
              "<Figure size 640x480 with 1 Axes>"
            ],
            "image/png": "[encoded data removed]"
          },
          "metadata": {}
        }
      ],
      "source": [
        "# Balanced Data visualization\n",
        "sns.countplot(x=y_resampled)\n",
        "plt.title('Balanced label distribution after SMOTE')\n",
        "plt.xlabel('Classification (0: Normal, 1: Anomalous)')\n",
        "plt.ylabel('Sample number')\n",
        "plt.show()"
      ]
    },
    {
      "cell_type": "markdown",
      "metadata": {
        "id": "x5ITySb71QIC"
      },
      "source": [
        "## 2.5. Split training data\n",
        "**Goal**: Split into train (70%), val (10%), test (20%) for training and evaluation"
      ]
    },
    {
      "cell_type": "code",
      "execution_count": 37,
      "metadata": {
        "colab": {
          "base_uri": "https://localhost:8080/"
        },
        "id": "Iy61JnjlPJjc",
        "outputId": "fd293b52-5d23-4400-daf8-42f5b070c6df"
      },
      "outputs": [
        {
          "output_type": "stream",
          "name": "stdout",
          "text": [
            "Train: (50400, 2008) Val: (7128, 2008) Test: (14472, 2008)\n"
          ]
        }
      ],
      "source": [
        "# Train:Val:Test theo tỷ lệ 7:2:1\n",
        "X_train, X_temp, y_train, y_temp = train_test_split(X_resampled, y_resampled, test_size=0.3, random_state=42)\n",
        "X_val, X_test, y_val, y_test = train_test_split(X_temp, y_temp, test_size=0.67, random_state=42)\n",
        "print(\"Train:\", X_train.shape, \"Val:\", X_val.shape, \"Test:\", X_test.shape)\n",
        "\n",
        "# Save training data\n",
        "np.save('X_train.npy', X_train)\n",
        "np.save('y_train.npy', y_train)\n",
        "np.save('X_val.npy', X_val)\n",
        "np.save('y_val.npy', y_val)\n",
        "np.save('X_test.npy', X_test)\n",
        "np.save('y_test.npy', y_test)"
      ]
    },
    {
      "cell_type": "markdown",
      "metadata": {
        "id": "Qqj3f9T2b58a"
      },
      "source": []
    },
    {
      "cell_type": "markdown",
      "metadata": {
        "id": "W-B8f_YJPJjc"
      },
      "source": [
        "# 3. MODEL TRAINING\n",
        "## 3.1. Preparing data and shared functions"
      ]
    },
    {
      "cell_type": "code",
      "execution_count": 38,
      "metadata": {
        "colab": {
          "base_uri": "https://localhost:8080/"
        },
        "id": "4uDQNKBJb7HL",
        "outputId": "39d3148f-e3e2-4b4d-81e8-abd00b3f606b"
      },
      "outputs": [
        {
          "output_type": "stream",
          "name": "stdout",
          "text": [
            "Size of train set: (50400, 2008) (50400,)\n",
            "Size of val set: (7128, 2008) (7128,)\n",
            "Size of test set: (14472, 2008) (14472,)\n"
          ]
        }
      ],
      "source": [
        "# Load saved training data\n",
        "X_train = np.load('X_train.npy')\n",
        "y_train = np.load('y_train.npy')\n",
        "X_val = np.load('X_val.npy')\n",
        "y_val = np.load('y_val.npy')\n",
        "X_test = np.load('X_test.npy')\n",
        "y_test = np.load('y_test.npy')\n",
        "\n",
        "# Check data size\n",
        "print(\"Size of train set:\", X_train.shape, y_train.shape)\n",
        "print(\"Size of val set:\", X_val.shape, y_val.shape)\n",
        "print(\"Size of test set:\", X_test.shape, y_test.shape)"
      ]
    },
    {
      "cell_type": "markdown",
      "metadata": {
        "id": "Q7o9Ctu3cj0J"
      },
      "source": [
        "#Random Forest Model"
      ]
    },
    {
      "cell_type": "code",
      "execution_count": 39,
      "metadata": {
        "colab": {
          "base_uri": "https://localhost:8080/",
          "height": 601
        },
        "id": "AyAo3hHQg8ml",
        "outputId": "c9d50769-61d7-4599-9a54-ac1c1b988e19"
      },
      "outputs": [
        {
          "output_type": "display_data",
          "data": {
            "text/plain": [
              "<Figure size 600x400 with 2 Axes>"
            ],
            "image/png": "[encoded data removed]"
          },
          "metadata": {}
        },
        {
          "output_type": "stream",
          "name": "stdout",
          "text": [
            "Classification Report (Random Forest):\n",
            "              precision    recall  f1-score   support\n",
            "\n",
            "      Normal       0.96      0.96      0.96      7277\n",
            "   Anomalous       0.96      0.96      0.96      7195\n",
            "\n",
            "    accuracy                           0.96     14472\n",
            "   macro avg       0.96      0.96      0.96     14472\n",
            "weighted avg       0.96      0.96      0.96     14472\n",
            "\n",
            "Model saved as 'random_forest_model.pkl'\n"
          ]
        }
      ],
      "source": [
        "\n",
        "from sklearn.metrics import  classification_report\n",
        "\n",
        "\n",
        "# Initialize and train model\n",
        "rf_model = RandomForestClassifier(n_estimators=100, random_state=42, n_jobs=-1)\n",
        "rf_model.fit(X_train, y_train)\n",
        "\n",
        "# Predict on test set\n",
        "y_test_pred = rf_model.predict(X_test)\n",
        "\n",
        "# Confusion Matrix\n",
        "cm = confusion_matrix(y_test, y_test_pred)\n",
        "plt.figure(figsize=(6, 4))\n",
        "sns.heatmap(cm, annot=True, fmt='d', cmap='Blues', xticklabels=['Normal', 'Anomalous'], yticklabels=['Normal', 'Anomalous'])\n",
        "plt.title('Confusion Matrix (Random Forest)')\n",
        "plt.xlabel('Prediction')\n",
        "plt.ylabel('Reality')\n",
        "plt.show()\n",
        "\n",
        "# Classification Report\n",
        "print(\"Classification Report (Random Forest):\")\n",
        "print(classification_report(y_test, y_test_pred, target_names=['Normal', 'Anomalous']))\n",
        "# Save the trained model\n",
        "joblib.dump(rf_model, 'random_forest_model.pkl')\n",
        "print(\"Model saved as 'random_forest_model.pkl'\")\n"
      ]
    },
    {
      "cell_type": "markdown",
      "metadata": {
        "id": "_XBKviRG0YZx"
      },
      "source": [
        "#Naive Bayes"
      ]
    },
    {
      "cell_type": "code",
      "execution_count": 40,
      "metadata": {
        "colab": {
          "base_uri": "https://localhost:8080/",
          "height": 601
        },
        "id": "XxaJqE2Nwx_h",
        "outputId": "d28af531-0480-4de7-ae4a-473406ed5f78"
      },
      "outputs": [
        {
          "output_type": "display_data",
          "data": {
            "text/plain": [
              "<Figure size 600x400 with 2 Axes>"
            ],
            "image/png": "[encoded data removed]"
          },
          "metadata": {}
        },
        {
          "output_type": "stream",
          "name": "stdout",
          "text": [
            "Classification Report (Naive Bayes):\n",
            "              precision    recall  f1-score   support\n",
            "\n",
            "      Normal       0.86      0.97      0.92      7277\n",
            "   Anomalous       0.97      0.84      0.90      7195\n",
            "\n",
            "    accuracy                           0.91     14472\n",
            "   macro avg       0.92      0.91      0.91     14472\n",
            "weighted avg       0.92      0.91      0.91     14472\n",
            "\n",
            "Model saved as 'naive_bayes_model.pkl'\n"
          ]
        }
      ],
      "source": [
        "# Initialize and train Naive Bayes model\n",
        "nb_model = GaussianNB()  # You can change to another Naive Bayes model if needed\n",
        "nb_model.fit(X_train, y_train)\n",
        "\n",
        "# Predict on test set\n",
        "y_test_pred = nb_model.predict(X_test)\n",
        "\n",
        "# Confusion Matrix\n",
        "cm = confusion_matrix(y_test, y_test_pred)\n",
        "plt.figure(figsize=(6, 4))\n",
        "sns.heatmap(cm, annot=True, fmt='d', cmap='Blues', xticklabels=['Normal', 'Anomalous'], yticklabels=['Normal', 'Anomalous'])\n",
        "plt.title('Confusion Matrix (Naive Bayes)')\n",
        "plt.xlabel('Prediction')\n",
        "plt.ylabel('Reality')\n",
        "plt.show()\n",
        "\n",
        "# Classification Report\n",
        "print(\"Classification Report (Naive Bayes):\")\n",
        "print(classification_report(y_test, y_test_pred, target_names=['Normal', 'Anomalous']))\n",
        "\n",
        "# Save the trained model\n",
        "joblib.dump(nb_model, 'naive_bayes_model.pkl')\n",
        "print(\"Model saved as 'naive_bayes_model.pkl'\")"
      ]
    },
    {
      "cell_type": "markdown",
      "metadata": {
        "id": "NYf23w1f0T9K"
      },
      "source": [
        "#DecisionTreeClassifier"
      ]
    },
    {
      "cell_type": "code",
      "execution_count": 41,
      "metadata": {
        "colab": {
          "base_uri": "https://localhost:8080/",
          "height": 601
        },
        "id": "4gzEMfS4wyCv",
        "outputId": "efa3d7c3-460a-4e58-af94-f708f7523bab"
      },
      "outputs": [
        {
          "output_type": "display_data",
          "data": {
            "text/plain": [
              "<Figure size 600x400 with 2 Axes>"
            ],
            "image/png": "[encoded data removed]"
          },
          "metadata": {}
        },
        {
          "output_type": "stream",
          "name": "stdout",
          "text": [
            "Classification Report (Decision Tree):\n",
            "              precision    recall  f1-score   support\n",
            "\n",
            "      Normal       0.95      0.96      0.96      7277\n",
            "   Anomalous       0.96      0.95      0.95      7195\n",
            "\n",
            "    accuracy                           0.95     14472\n",
            "   macro avg       0.95      0.95      0.95     14472\n",
            "weighted avg       0.95      0.95      0.95     14472\n",
            "\n",
            "Model saved as 'decision_tree_model.pkl'\n"
          ]
        }
      ],
      "source": [
        "# Initialize and train Decision Tree model\n",
        "dt_model = DecisionTreeClassifier(random_state=42)  # Initialize the Decision Tree model\n",
        "dt_model.fit(X_train, y_train)\n",
        "\n",
        "# Predict on test set\n",
        "y_test_pred = dt_model.predict(X_test)\n",
        "\n",
        "# Confusion Matrix\n",
        "cm = confusion_matrix(y_test, y_test_pred)\n",
        "plt.figure(figsize=(6, 4))\n",
        "sns.heatmap(cm, annot=True, fmt='d', cmap='Blues', xticklabels=['Normal', 'Anomalous'], yticklabels=['Normal', 'Anomalous'])\n",
        "plt.title('Confusion Matrix (Decision Tree)')\n",
        "plt.xlabel('Prediction')\n",
        "plt.ylabel('Reality')\n",
        "plt.show()\n",
        "\n",
        "# Classification Report\n",
        "print(\"Classification Report (Decision Tree):\")\n",
        "print(classification_report(y_test, y_test_pred, target_names=['Normal', 'Anomalous']))\n",
        "\n",
        "# Save the trained model\n",
        "joblib.dump(dt_model, 'decision_tree_model.pkl')\n",
        "print(\"Model saved as 'decision_tree_model.pkl'\")"
      ]
    },
    {
      "cell_type": "markdown",
      "metadata": {
        "id": "_VaKwUKH0QLQ"
      },
      "source": [
        "#KNeighborsClassifier"
      ]
    },
    {
      "cell_type": "code",
      "execution_count": 42,
      "metadata": {
        "colab": {
          "base_uri": "https://localhost:8080/",
          "height": 601
        },
        "id": "hm21g7R9wyFD",
        "outputId": "8c31e77e-ded1-4937-8497-23b8f88febe1"
      },
      "outputs": [
        {
          "output_type": "display_data",
          "data": {
            "text/plain": [
              "<Figure size 600x400 with 2 Axes>"
            ],
            "image/png": "[encoded data removed]"
          },
          "metadata": {}
        },
        {
          "output_type": "stream",
          "name": "stdout",
          "text": [
            "Classification Report (KNN):\n",
            "              precision    recall  f1-score   support\n",
            "\n",
            "      Normal       0.95      0.89      0.92      7277\n",
            "   Anomalous       0.90      0.96      0.93      7195\n",
            "\n",
            "    accuracy                           0.92     14472\n",
            "   macro avg       0.93      0.92      0.92     14472\n",
            "weighted avg       0.93      0.92      0.92     14472\n",
            "\n",
            "Model saved as 'knn_model.pkl'\n"
          ]
        }
      ],
      "source": [
        "# Initialize and train KNN model\n",
        "knn_model = KNeighborsClassifier(n_neighbors=5)  # Initialize KNN with 5 neighbors\n",
        "knn_model.fit(X_train, y_train)\n",
        "\n",
        "# Predict on test set\n",
        "y_test_pred = knn_model.predict(X_test)\n",
        "\n",
        "# Confusion Matrix\n",
        "cm = confusion_matrix(y_test, y_test_pred)\n",
        "plt.figure(figsize=(6, 4))\n",
        "sns.heatmap(cm, annot=True, fmt='d', cmap='Blues', xticklabels=['Normal', 'Anomalous'], yticklabels=['Normal', 'Anomalous'])\n",
        "plt.title('Confusion Matrix (KNN)')\n",
        "plt.xlabel('Prediction')\n",
        "plt.ylabel('Reality')\n",
        "plt.show()\n",
        "\n",
        "# Classification Report\n",
        "print(\"Classification Report (KNN):\")\n",
        "print(classification_report(y_test, y_test_pred, target_names=['Normal', 'Anomalous']))\n",
        "\n",
        "# Save the trained model\n",
        "joblib.dump(knn_model, 'knn_model.pkl')\n",
        "print(\"Model saved as 'knn_model.pkl'\")"
      ]
    },
    {
      "cell_type": "markdown",
      "metadata": {
        "id": "S_YIUwfi0Jjb"
      },
      "source": [
        "#XGBClassifier\n",
        "\n",
        "\n",
        "\n"
      ]
    },
    {
      "cell_type": "code",
      "execution_count": 43,
      "metadata": {
        "colab": {
          "base_uri": "https://localhost:8080/",
          "height": 601
        },
        "id": "fBEtMC7SwyIY",
        "outputId": "0cb2d282-d043-4927-d0b3-cb77ba2a1679"
      },
      "outputs": [
        {
          "output_type": "display_data",
          "data": {
            "text/plain": [
              "<Figure size 600x400 with 2 Axes>"
            ],
            "image/png": "[encoded data removed]"
          },
          "metadata": {}
        },
        {
          "output_type": "stream",
          "name": "stdout",
          "text": [
            "Classification Report (XGBoost):\n",
            "              precision    recall  f1-score   support\n",
            "\n",
            "      Normal       0.95      0.98      0.96      7277\n",
            "   Anomalous       0.97      0.95      0.96      7195\n",
            "\n",
            "    accuracy                           0.96     14472\n",
            "   macro avg       0.96      0.96      0.96     14472\n",
            "weighted avg       0.96      0.96      0.96     14472\n",
            "\n",
            "Model saved as 'xgb_model.pkl'\n"
          ]
        }
      ],
      "source": [
        "# Initialize and train XGBoost model\n",
        "xgb_model = XGBClassifier(n_estimators=100, random_state=42, n_jobs=-1)  # Initialize XGBoost model\n",
        "xgb_model.fit(X_train, y_train)\n",
        "\n",
        "# Predict on test set\n",
        "y_test_pred = xgb_model.predict(X_test)\n",
        "\n",
        "# Confusion Matrix\n",
        "cm = confusion_matrix(y_test, y_test_pred)\n",
        "plt.figure(figsize=(6, 4))\n",
        "sns.heatmap(cm, annot=True, fmt='d', cmap='Blues', xticklabels=['Normal', 'Anomalous'], yticklabels=['Normal', 'Anomalous'])\n",
        "plt.title('Confusion Matrix (XGBoost)')\n",
        "plt.xlabel('Prediction')\n",
        "plt.ylabel('Reality')\n",
        "plt.show()\n",
        "\n",
        "# Classification Report\n",
        "print(\"Classification Report (XGBoost):\")\n",
        "print(classification_report(y_test, y_test_pred, target_names=['Normal', 'Anomalous']))\n",
        "\n",
        "# Save the trained model\n",
        "joblib.dump(xgb_model, 'xgb_model.pkl')\n",
        "print(\"Model saved as 'xgb_model.pkl'\")"
      ]
    },
    {
      "cell_type": "markdown",
      "metadata": {
        "id": "QstnKYg8GJgo"
      },
      "source": [
        "#LSTM model"
      ]
    },
    {
      "cell_type": "code",
      "execution_count": 44,
      "metadata": {
        "colab": {
          "base_uri": "https://localhost:8080/",
          "height": 1000
        },
        "id": "WGLU1thLL1BI",
        "outputId": "a79a2208-5606-412f-975f-193bbbb57b58"
      },
      "outputs": [
        {
          "output_type": "stream",
          "name": "stderr",
          "text": [
            "/usr/local/lib/python3.11/dist-packages/keras/src/layers/rnn/rnn.py:200: UserWarning: Do not pass an `input_shape`/`input_dim` argument to a layer. When using Sequential models, prefer using an `Input(shape)` object as the first layer in the model instead.\n",
            "  super().__init__(**kwargs)\n"
          ]
        },
        {
          "output_type": "stream",
          "name": "stdout",
          "text": [
            "Epoch 1/20\n",
            "\u001b[1m315/315\u001b[0m \u001b[32m━━━━━━━━━━━━━━━━━━━━\u001b[0m\u001b[37m\u001b[0m \u001b[1m8s\u001b[0m 18ms/step - accuracy: 0.8294 - loss: 0.3463 - val_accuracy: 0.9400 - val_loss: 0.1397\n",
            "Epoch 2/20\n",
            "\u001b[1m315/315\u001b[0m \u001b[32m━━━━━━━━━━━━━━━━━━━━\u001b[0m\u001b[37m\u001b[0m \u001b[1m7s\u001b[0m 23ms/step - accuracy: 0.9650 - loss: 0.1081 - val_accuracy: 0.9554 - val_loss: 0.1131\n",
            "Epoch 3/20\n",
            "\u001b[1m315/315\u001b[0m \u001b[32m━━━━━━━━━━━━━━━━━━━━\u001b[0m\u001b[37m\u001b[0m \u001b[1m10s\u001b[0m 20ms/step - accuracy: 0.9830 - loss: 0.0612 - val_accuracy: 0.9574 - val_loss: 0.1171\n",
            "Epoch 4/20\n",
            "\u001b[1m315/315\u001b[0m \u001b[32m━━━━━━━━━━━━━━━━━━━━\u001b[0m\u001b[37m\u001b[0m \u001b[1m5s\u001b[0m 17ms/step - accuracy: 0.9853 - loss: 0.0510 - val_accuracy: 0.9595 - val_loss: 0.1235\n",
            "Epoch 5/20\n",
            "\u001b[1m315/315\u001b[0m \u001b[32m━━━━━━━━━━━━━━━━━━━━\u001b[0m\u001b[37m\u001b[0m \u001b[1m11s\u001b[0m 19ms/step - accuracy: 0.9869 - loss: 0.0458 - val_accuracy: 0.9598 - val_loss: 0.1312\n",
            "Epoch 6/20\n",
            "\u001b[1m315/315\u001b[0m \u001b[32m━━━━━━━━━━━━━━━━━━━━\u001b[0m\u001b[37m\u001b[0m \u001b[1m10s\u001b[0m 20ms/step - accuracy: 0.9873 - loss: 0.0445 - val_accuracy: 0.9603 - val_loss: 0.1320\n",
            "Epoch 7/20\n",
            "\u001b[1m315/315\u001b[0m \u001b[32m━━━━━━━━━━━━━━━━━━━━\u001b[0m\u001b[37m\u001b[0m \u001b[1m9s\u001b[0m 16ms/step - accuracy: 0.9885 - loss: 0.0425 - val_accuracy: 0.9601 - val_loss: 0.1379\n",
            "Epoch 8/20\n",
            "\u001b[1m315/315\u001b[0m \u001b[32m━━━━━━━━━━━━━━━━━━━━\u001b[0m\u001b[37m\u001b[0m \u001b[1m10s\u001b[0m 16ms/step - accuracy: 0.9888 - loss: 0.0411 - val_accuracy: 0.9599 - val_loss: 0.1442\n",
            "Epoch 9/20\n",
            "\u001b[1m315/315\u001b[0m \u001b[32m━━━━━━━━━━━━━━━━━━━━\u001b[0m\u001b[37m\u001b[0m \u001b[1m10s\u001b[0m 17ms/step - accuracy: 0.9891 - loss: 0.0404 - val_accuracy: 0.9609 - val_loss: 0.1487\n",
            "Epoch 10/20\n",
            "\u001b[1m315/315\u001b[0m \u001b[32m━━━━━━━━━━━━━━━━━━━━\u001b[0m\u001b[37m\u001b[0m \u001b[1m10s\u001b[0m 17ms/step - accuracy: 0.9885 - loss: 0.0404 - val_accuracy: 0.9616 - val_loss: 0.1483\n",
            "Epoch 11/20\n",
            "\u001b[1m315/315\u001b[0m \u001b[32m━━━━━━━━━━━━━━━━━━━━\u001b[0m\u001b[37m\u001b[0m \u001b[1m11s\u001b[0m 19ms/step - accuracy: 0.9888 - loss: 0.0402 - val_accuracy: 0.9618 - val_loss: 0.1533\n",
            "Epoch 12/20\n",
            "\u001b[1m315/315\u001b[0m \u001b[32m━━━━━━━━━━━━━━━━━━━━\u001b[0m\u001b[37m\u001b[0m \u001b[1m5s\u001b[0m 16ms/step - accuracy: 0.9897 - loss: 0.0383 - val_accuracy: 0.9605 - val_loss: 0.1559\n",
            "Epoch 13/20\n",
            "\u001b[1m315/315\u001b[0m \u001b[32m━━━━━━━━━━━━━━━━━━━━\u001b[0m\u001b[37m\u001b[0m \u001b[1m6s\u001b[0m 20ms/step - accuracy: 0.9892 - loss: 0.0392 - val_accuracy: 0.9603 - val_loss: 0.1660\n",
            "Epoch 14/20\n",
            "\u001b[1m315/315\u001b[0m \u001b[32m━━━━━━━━━━━━━━━━━━━━\u001b[0m\u001b[37m\u001b[0m \u001b[1m5s\u001b[0m 16ms/step - accuracy: 0.9887 - loss: 0.0416 - val_accuracy: 0.9602 - val_loss: 0.1680\n",
            "Epoch 15/20\n",
            "\u001b[1m315/315\u001b[0m \u001b[32m━━━━━━━━━━━━━━━━━━━━\u001b[0m\u001b[37m\u001b[0m \u001b[1m7s\u001b[0m 22ms/step - accuracy: 0.9896 - loss: 0.0374 - val_accuracy: 0.9610 - val_loss: 0.1703\n",
            "Epoch 16/20\n",
            "\u001b[1m315/315\u001b[0m \u001b[32m━━━━━━━━━━━━━━━━━━━━\u001b[0m\u001b[37m\u001b[0m \u001b[1m8s\u001b[0m 16ms/step - accuracy: 0.9888 - loss: 0.0402 - val_accuracy: 0.9607 - val_loss: 0.1782\n",
            "Epoch 17/20\n",
            "\u001b[1m315/315\u001b[0m \u001b[32m━━━━━━━━━━━━━━━━━━━━\u001b[0m\u001b[37m\u001b[0m \u001b[1m6s\u001b[0m 20ms/step - accuracy: 0.9895 - loss: 0.0372 - val_accuracy: 0.9590 - val_loss: 0.1894\n",
            "Epoch 18/20\n",
            "\u001b[1m315/315\u001b[0m \u001b[32m━━━━━━━━━━━━━━━━━━━━\u001b[0m\u001b[37m\u001b[0m \u001b[1m10s\u001b[0m 20ms/step - accuracy: 0.9897 - loss: 0.0381 - val_accuracy: 0.9609 - val_loss: 0.1729\n",
            "Epoch 19/20\n",
            "\u001b[1m315/315\u001b[0m \u001b[32m━━━━━━━━━━━━━━━━━━━━\u001b[0m\u001b[37m\u001b[0m \u001b[1m9s\u001b[0m 16ms/step - accuracy: 0.9893 - loss: 0.0384 - val_accuracy: 0.9596 - val_loss: 0.1846\n",
            "Epoch 20/20\n",
            "\u001b[1m315/315\u001b[0m \u001b[32m━━━━━━━━━━━━━━━━━━━━\u001b[0m\u001b[37m\u001b[0m \u001b[1m6s\u001b[0m 20ms/step - accuracy: 0.9889 - loss: 0.0395 - val_accuracy: 0.9597 - val_loss: 0.1892\n",
            "\u001b[1m453/453\u001b[0m \u001b[32m━━━━━━━━━━━━━━━━━━━━\u001b[0m\u001b[37m\u001b[0m \u001b[1m2s\u001b[0m 3ms/step\n"
          ]
        },
        {
          "output_type": "display_data",
          "data": {
            "text/plain": [
              "<Figure size 600x400 with 2 Axes>"
            ],
            "image/png": "[encoded data removed]"
          },
          "metadata": {}
        },
        {
          "output_type": "stream",
          "name": "stderr",
          "text": [
            "WARNING:absl:You are saving your model as an HDF5 file via `model.save()` or `keras.saving.save_model(model)`. This file format is considered legacy. We recommend using instead the native Keras format, e.g. `model.save('my_model.keras')` or `keras.saving.save_model(model, 'my_model.keras')`. \n"
          ]
        },
        {
          "output_type": "stream",
          "name": "stdout",
          "text": [
            "Classification Report (LSTM):\n",
            "              precision    recall  f1-score   support\n",
            "\n",
            "      Normal       0.96      0.97      0.96      7277\n",
            "   Anomalous       0.96      0.96      0.96      7195\n",
            "\n",
            "    accuracy                           0.96     14472\n",
            "   macro avg       0.96      0.96      0.96     14472\n",
            "weighted avg       0.96      0.96      0.96     14472\n",
            "\n",
            "LSTM model saved as 'lstm_model.h5'\n"
          ]
        }
      ],
      "source": [
        "import numpy as np\n",
        "import tensorflow as tf\n",
        "from tensorflow.keras.models import Sequential\n",
        "from tensorflow.keras.layers import LSTM, Dense, Dropout\n",
        "from sklearn.metrics import classification_report, confusion_matrix\n",
        "import seaborn as sns\n",
        "import matplotlib.pyplot as plt\n",
        "\n",
        "# Reshape TF-IDF features to fit LSTM: (samples, timesteps=1, features)\n",
        "X_train_lstm = X_train.reshape((X_train.shape[0], 1, X_train.shape[1]))\n",
        "X_test_lstm = X_test.reshape((X_test.shape[0], 1, X_test.shape[1]))\n",
        "\n",
        "# Ensure y labels are in correct format (0/1)\n",
        "y_train = np.array(y_train)\n",
        "y_test = np.array(y_test)\n",
        "\n",
        "# Build LSTM Model\n",
        "model = Sequential([\n",
        "    LSTM(64, input_shape=(1, X_train.shape[1]), return_sequences=False),\n",
        "    Dropout(0.3),\n",
        "    Dense(32, activation='relu'),\n",
        "    Dense(1, activation='sigmoid')  # binary classification\n",
        "])\n",
        "\n",
        "model.compile(loss='binary_crossentropy', optimizer='adam', metrics=['accuracy'])\n",
        "\n",
        "# Train the model\n",
        "history = model.fit(X_train_lstm, y_train, epochs=20, batch_size=128, validation_split=0.2)\n",
        "\n",
        "# Predict\n",
        "y_pred_prob = model.predict(X_test_lstm)\n",
        "y_pred = (y_pred_prob > 0.5).astype(\"int32\")\n",
        "\n",
        "# Confusion Matrix\n",
        "cm = confusion_matrix(y_test, y_pred)\n",
        "plt.figure(figsize=(6, 4))\n",
        "sns.heatmap(cm, annot=True, fmt='d', cmap='Blues', xticklabels=['Normal', 'Anomalous'], yticklabels=['Normal', 'Anomalous'])\n",
        "plt.title('Confusion Matrix (LSTM)')\n",
        "plt.xlabel('Prediction')\n",
        "plt.ylabel('Reality')\n",
        "plt.show()\n",
        "\n",
        "# Classification Report\n",
        "print(\"Classification Report (LSTM):\")\n",
        "print(classification_report(y_test, y_pred, target_names=['Normal', 'Anomalous']))\n",
        "\n",
        "# Save model\n",
        "model.save(\"lstm_model.h5\")\n",
        "print(\"LSTM model saved as 'lstm_model.h5'\")\n"
      ]
    },
    {
      "cell_type": "markdown",
      "metadata": {
        "id": "-aPu1dwbGdLC"
      },
      "source": [
        "#DNN_Model"
      ]
    },
    {
      "cell_type": "code",
      "execution_count": 45,
      "metadata": {
        "colab": {
          "base_uri": "https://localhost:8080/",
          "height": 1000
        },
        "id": "mAxgPgsONkBf",
        "outputId": "b2e906e8-545f-4e78-c986-0bb753f75f9a"
      },
      "outputs": [
        {
          "output_type": "stream",
          "name": "stderr",
          "text": [
            "/usr/local/lib/python3.11/dist-packages/keras/src/layers/core/dense.py:87: UserWarning: Do not pass an `input_shape`/`input_dim` argument to a layer. When using Sequential models, prefer using an `Input(shape)` object as the first layer in the model instead.\n",
            "  super().__init__(activity_regularizer=activity_regularizer, **kwargs)\n"
          ]
        },
        {
          "output_type": "stream",
          "name": "stdout",
          "text": [
            "Epoch 1/20\n",
            "\u001b[1m315/315\u001b[0m \u001b[32m━━━━━━━━━━━━━━━━━━━━\u001b[0m\u001b[37m\u001b[0m \u001b[1m12s\u001b[0m 33ms/step - accuracy: 0.8379 - loss: 0.3568 - val_accuracy: 0.9414 - val_loss: 0.1353\n",
            "Epoch 2/20\n",
            "\u001b[1m315/315\u001b[0m \u001b[32m━━━━━━━━━━━━━━━━━━━━\u001b[0m\u001b[37m\u001b[0m \u001b[1m20s\u001b[0m 33ms/step - accuracy: 0.9562 - loss: 0.1155 - val_accuracy: 0.9520 - val_loss: 0.1156\n",
            "Epoch 3/20\n",
            "\u001b[1m315/315\u001b[0m \u001b[32m━━━━━━━━━━━━━━━━━━━━\u001b[0m\u001b[37m\u001b[0m \u001b[1m20s\u001b[0m 31ms/step - accuracy: 0.9717 - loss: 0.0834 - val_accuracy: 0.9571 - val_loss: 0.1119\n",
            "Epoch 4/20\n",
            "\u001b[1m315/315\u001b[0m \u001b[32m━━━━━━━━━━━━━━━━━━━━\u001b[0m\u001b[37m\u001b[0m \u001b[1m11s\u001b[0m 32ms/step - accuracy: 0.9792 - loss: 0.0675 - val_accuracy: 0.9572 - val_loss: 0.1312\n",
            "Epoch 5/20\n",
            "\u001b[1m315/315\u001b[0m \u001b[32m━━━━━━━━━━━━━━━━━━━━\u001b[0m\u001b[37m\u001b[0m \u001b[1m10s\u001b[0m 33ms/step - accuracy: 0.9823 - loss: 0.0572 - val_accuracy: 0.9605 - val_loss: 0.1331\n",
            "Epoch 6/20\n",
            "\u001b[1m315/315\u001b[0m \u001b[32m━━━━━━━━━━━━━━━━━━━━\u001b[0m\u001b[37m\u001b[0m \u001b[1m11s\u001b[0m 36ms/step - accuracy: 0.9845 - loss: 0.0524 - val_accuracy: 0.9573 - val_loss: 0.1506\n",
            "Epoch 7/20\n",
            "\u001b[1m315/315\u001b[0m \u001b[32m━━━━━━━━━━━━━━━━━━━━\u001b[0m\u001b[37m\u001b[0m \u001b[1m20s\u001b[0m 34ms/step - accuracy: 0.9852 - loss: 0.0488 - val_accuracy: 0.9570 - val_loss: 0.1768\n",
            "Epoch 8/20\n",
            "\u001b[1m315/315\u001b[0m \u001b[32m━━━━━━━━━━━━━━━━━━━━\u001b[0m\u001b[37m\u001b[0m \u001b[1m21s\u001b[0m 35ms/step - accuracy: 0.9862 - loss: 0.0464 - val_accuracy: 0.9596 - val_loss: 0.1753\n",
            "Epoch 9/20\n",
            "\u001b[1m315/315\u001b[0m \u001b[32m━━━━━━━━━━━━━━━━━━━━\u001b[0m\u001b[37m\u001b[0m \u001b[1m19s\u001b[0m 31ms/step - accuracy: 0.9873 - loss: 0.0459 - val_accuracy: 0.9583 - val_loss: 0.1930\n",
            "Epoch 10/20\n",
            "\u001b[1m315/315\u001b[0m \u001b[32m━━━━━━━━━━━━━━━━━━━━\u001b[0m\u001b[37m\u001b[0m \u001b[1m12s\u001b[0m 35ms/step - accuracy: 0.9868 - loss: 0.0449 - val_accuracy: 0.9608 - val_loss: 0.1627\n",
            "Epoch 11/20\n",
            "\u001b[1m315/315\u001b[0m \u001b[32m━━━━━━━━━━━━━━━━━━━━\u001b[0m\u001b[37m\u001b[0m \u001b[1m11s\u001b[0m 35ms/step - accuracy: 0.9876 - loss: 0.0445 - val_accuracy: 0.9600 - val_loss: 0.1923\n",
            "Epoch 12/20\n",
            "\u001b[1m315/315\u001b[0m \u001b[32m━━━━━━━━━━━━━━━━━━━━\u001b[0m\u001b[37m\u001b[0m \u001b[1m20s\u001b[0m 32ms/step - accuracy: 0.9887 - loss: 0.0411 - val_accuracy: 0.9601 - val_loss: 0.1948\n",
            "Epoch 13/20\n",
            "\u001b[1m315/315\u001b[0m \u001b[32m━━━━━━━━━━━━━━━━━━━━\u001b[0m\u001b[37m\u001b[0m \u001b[1m10s\u001b[0m 32ms/step - accuracy: 0.9875 - loss: 0.0448 - val_accuracy: 0.9591 - val_loss: 0.2032\n",
            "Epoch 14/20\n",
            "\u001b[1m315/315\u001b[0m \u001b[32m━━━━━━━━━━━━━━━━━━━━\u001b[0m\u001b[37m\u001b[0m \u001b[1m11s\u001b[0m 35ms/step - accuracy: 0.9880 - loss: 0.0439 - val_accuracy: 0.9613 - val_loss: 0.2160\n",
            "Epoch 15/20\n",
            "\u001b[1m315/315\u001b[0m \u001b[32m━━━━━━━━━━━━━━━━━━━━\u001b[0m\u001b[37m\u001b[0m \u001b[1m11s\u001b[0m 34ms/step - accuracy: 0.9886 - loss: 0.0443 - val_accuracy: 0.9581 - val_loss: 0.2348\n",
            "Epoch 16/20\n",
            "\u001b[1m315/315\u001b[0m \u001b[32m━━━━━━━━━━━━━━━━━━━━\u001b[0m\u001b[37m\u001b[0m \u001b[1m20s\u001b[0m 32ms/step - accuracy: 0.9879 - loss: 0.0428 - val_accuracy: 0.9612 - val_loss: 0.1871\n",
            "Epoch 17/20\n",
            "\u001b[1m315/315\u001b[0m \u001b[32m━━━━━━━━━━━━━━━━━━━━\u001b[0m\u001b[37m\u001b[0m \u001b[1m10s\u001b[0m 31ms/step - accuracy: 0.9879 - loss: 0.0404 - val_accuracy: 0.9605 - val_loss: 0.2168\n",
            "Epoch 18/20\n",
            "\u001b[1m315/315\u001b[0m \u001b[32m━━━━━━━━━━━━━━━━━━━━\u001b[0m\u001b[37m\u001b[0m \u001b[1m11s\u001b[0m 34ms/step - accuracy: 0.9895 - loss: 0.0381 - val_accuracy: 0.9599 - val_loss: 0.2420\n",
            "Epoch 19/20\n",
            "\u001b[1m315/315\u001b[0m \u001b[32m━━━━━━━━━━━━━━━━━━━━\u001b[0m\u001b[37m\u001b[0m \u001b[1m10s\u001b[0m 32ms/step - accuracy: 0.9878 - loss: 0.0430 - val_accuracy: 0.9593 - val_loss: 0.2583\n",
            "Epoch 20/20\n",
            "\u001b[1m315/315\u001b[0m \u001b[32m━━━━━━━━━━━━━━━━━━━━\u001b[0m\u001b[37m\u001b[0m \u001b[1m11s\u001b[0m 34ms/step - accuracy: 0.9893 - loss: 0.0399 - val_accuracy: 0.9590 - val_loss: 0.2315\n",
            "\u001b[1m453/453\u001b[0m \u001b[32m━━━━━━━━━━━━━━━━━━━━\u001b[0m\u001b[37m\u001b[0m \u001b[1m2s\u001b[0m 4ms/step\n"
          ]
        },
        {
          "output_type": "stream",
          "name": "stderr",
          "text": [
            "WARNING:absl:You are saving your model as an HDF5 file via `model.save()` or `keras.saving.save_model(model)`. This file format is considered legacy. We recommend using instead the native Keras format, e.g. `model.save('my_model.keras')` or `keras.saving.save_model(model, 'my_model.keras')`. \n"
          ]
        },
        {
          "output_type": "stream",
          "name": "stdout",
          "text": [
            "Model 1 - DNN Classification Report:\n",
            "               precision    recall  f1-score   support\n",
            "\n",
            "      Normal       0.96      0.97      0.96      7277\n",
            "   Anomalous       0.97      0.96      0.96      7195\n",
            "\n",
            "    accuracy                           0.96     14472\n",
            "   macro avg       0.96      0.96      0.96     14472\n",
            "weighted avg       0.96      0.96      0.96     14472\n",
            "\n",
            "CNN model saved as 'Dnn_model.h5'\n"
          ]
        },
        {
          "output_type": "display_data",
          "data": {
            "text/plain": [
              "<Figure size 640x480 with 2 Axes>"
            ],
            "image/png": "[encoded data removed]"
          },
          "metadata": {}
        }
      ],
      "source": [
        "from tensorflow.keras.models import Sequential\n",
        "from tensorflow.keras.layers import Dense, Dropout\n",
        "from sklearn.metrics import classification_report, confusion_matrix\n",
        "\n",
        "\n",
        "# Model 1: DNN\n",
        "model1 = Sequential([\n",
        "    Dense(512, activation='relu', input_shape=(X_train.shape[1],)),\n",
        "    Dropout(0.4),\n",
        "    Dense(256, activation='relu'),\n",
        "    Dropout(0.3),\n",
        "    Dense(64, activation='relu'),\n",
        "    Dense(1, activation='sigmoid')\n",
        "])\n",
        "model1.compile(optimizer='adam', loss='binary_crossentropy', metrics=['accuracy'])\n",
        "model1.fit(X_train, y_train, epochs=20, batch_size=128, validation_split=0.2)\n",
        "\n",
        "# Evaluation\n",
        "y_pred1 = (model1.predict(X_test) > 0.5).astype(\"int32\")\n",
        "cm1 = confusion_matrix(y_test, y_pred1)\n",
        "print(\"Model 1 - DNN Classification Report:\\n\", classification_report(y_test, y_pred1, target_names=['Normal', 'Anomalous']))\n",
        "\n",
        "model1.save('Dnn_model.h5')\n",
        "print(\"CNN model saved as 'Dnn_model.h5'\")\n",
        "\n",
        "sns.heatmap(cm1, annot=True, fmt='d', cmap='Blues')\n",
        "plt.title(\"Model 1 - DNN Confusion Matrix\")\n",
        "plt.xlabel(\"Predicted\")\n",
        "plt.ylabel(\"Actual\")\n",
        "plt.show()\n"
      ]
    },
    {
      "cell_type": "markdown",
      "metadata": {
        "id": "fMa7BbytGmlU"
      },
      "source": [
        "#1D CNN_Model"
      ]
    },
    {
      "cell_type": "code",
      "source": [
        "from tensorflow.keras.models import Sequential\n",
        "from tensorflow.keras.layers import Conv1D, MaxPooling1D, Dropout, Flatten, Dense\n",
        "from tensorflow.keras.optimizers import Adam\n",
        "\n",
        "# Ensure input data is float32\n",
        "X_train = X_train.astype('float32')\n",
        "X_test = X_test.astype('float32')\n",
        "\n",
        "# Reshape input data to (samples, steps, features) for 1D CNN\n",
        "X_train_cnn = X_train.reshape((X_train.shape[0], X_train.shape[1], 1))\n",
        "X_test_cnn = X_test.reshape((X_test.shape[0], X_test.shape[1], 1))\n",
        "\n",
        "# Define CNN model\n",
        "model2 = Sequential([\n",
        "    Conv1D(filters=64, kernel_size=3, activation='relu', input_shape=(X_train_cnn.shape[1], 1)),\n",
        "    MaxPooling1D(pool_size=2),\n",
        "    Dropout(0.3),\n",
        "    Flatten(),\n",
        "    Dense(64, activation='relu'),\n",
        "    Dense(1, activation='sigmoid')  # For binary classification\n",
        "])\n",
        "\n",
        "# Compile the model\n",
        "model2.compile(optimizer=Adam(), loss='binary_crossentropy', metrics=['accuracy'])\n",
        "\n",
        "# Train the model\n",
        "history = model2.fit(X_train_cnn, y_train, epochs=5, batch_size=128, validation_split=0.2, verbose=1)\n",
        "\n",
        "# Predict on test set\n",
        "y_pred2 = (model2.predict(X_test_cnn) > 0.5).astype(\"int32\")\n",
        "\n",
        "# Classification report and confusion matrix\n",
        "cm2 = confusion_matrix(y_test, y_pred2)\n",
        "print(\"\\nModel 2 - CNN Classification Report:\\n\", classification_report(y_test, y_pred2, target_names=['Normal', 'Anomalous']))\n",
        "\n",
        "# Save model\n",
        "model2.save('cnn_model_N.h5')\n",
        "print(\"✅ CNN model saved as 'cnn_model.h5'\")\n",
        "\n",
        "# Plot confusion matrix\n",
        "sns.heatmap(cm2, annot=True, fmt='d', cmap='Blues')\n",
        "plt.title(\"Model 2 - CNN Confusion Matrix\")\n",
        "plt.xlabel(\"Predicted\")\n",
        "plt.ylabel(\"Actual\")\n",
        "plt.show()\n",
        "\n",
        "# Optional: Plot accuracy and loss\n",
        "plt.figure(figsize=(12, 4))\n",
        "plt.subplot(1, 2, 1)\n",
        "plt.plot(history.history['accuracy'], label='Train Accuracy')\n",
        "plt.plot(history.history['val_accuracy'], label='Val Accuracy')\n",
        "plt.title('Model Accuracy')\n",
        "plt.xlabel('Epoch')\n",
        "plt.ylabel('Accuracy')\n",
        "plt.legend()\n",
        "\n",
        "plt.subplot(1, 2, 2)\n",
        "plt.plot(history.history['loss'], label='Train Loss')\n",
        "plt.plot(history.history['val_loss'], label='Val Loss')\n",
        "plt.title('Model Loss')\n",
        "plt.xlabel('Epoch')\n",
        "plt.ylabel('Loss')\n",
        "plt.legend()\n",
        "\n",
        "plt.tight_layout()\n",
        "plt.show()\n"
      ],
      "metadata": {
        "colab": {
          "base_uri": "https://localhost:8080/",
          "height": 1000
        },
        "id": "LJPAZoyMWADZ",
        "outputId": "0186a371-a8f1-4a34-e337-5b74d7dba565"
      },
      "execution_count": 47,
      "outputs": [
        {
          "output_type": "stream",
          "name": "stdout",
          "text": [
            "Epoch 1/5\n",
            "\u001b[1m315/315\u001b[0m \u001b[32m━━━━━━━━━━━━━━━━━━━━\u001b[0m\u001b[37m\u001b[0m \u001b[1m189s\u001b[0m 582ms/step - accuracy: 0.8568 - loss: 0.3094 - val_accuracy: 0.9277 - val_loss: 0.1608\n",
            "Epoch 2/5\n",
            "\u001b[1m315/315\u001b[0m \u001b[32m━━━━━━━━━━━━━━━━━━━━\u001b[0m\u001b[37m\u001b[0m \u001b[1m179s\u001b[0m 514ms/step - accuracy: 0.9470 - loss: 0.1315 - val_accuracy: 0.9442 - val_loss: 0.1501\n",
            "Epoch 3/5\n",
            "\u001b[1m315/315\u001b[0m \u001b[32m━━━━━━━━━━━━━━━━━━━━\u001b[0m\u001b[37m\u001b[0m \u001b[1m162s\u001b[0m 514ms/step - accuracy: 0.9691 - loss: 0.0925 - val_accuracy: 0.9490 - val_loss: 0.1442\n",
            "Epoch 4/5\n",
            "\u001b[1m315/315\u001b[0m \u001b[32m━━━━━━━━━━━━━━━━━━━━\u001b[0m\u001b[37m\u001b[0m \u001b[1m160s\u001b[0m 509ms/step - accuracy: 0.9797 - loss: 0.0643 - val_accuracy: 0.9535 - val_loss: 0.1571\n",
            "Epoch 5/5\n",
            "\u001b[1m315/315\u001b[0m \u001b[32m━━━━━━━━━━━━━━━━━━━━\u001b[0m\u001b[37m\u001b[0m \u001b[1m200s\u001b[0m 502ms/step - accuracy: 0.9834 - loss: 0.0568 - val_accuracy: 0.9570 - val_loss: 0.1562\n",
            "\u001b[1m453/453\u001b[0m \u001b[32m━━━━━━━━━━━━━━━━━━━━\u001b[0m\u001b[37m\u001b[0m \u001b[1m11s\u001b[0m 25ms/step\n"
          ]
        },
        {
          "output_type": "stream",
          "name": "stderr",
          "text": [
            "WARNING:absl:You are saving your model as an HDF5 file via `model.save()` or `keras.saving.save_model(model)`. This file format is considered legacy. We recommend using instead the native Keras format, e.g. `model.save('my_model.keras')` or `keras.saving.save_model(model, 'my_model.keras')`. \n"
          ]
        },
        {
          "output_type": "stream",
          "name": "stdout",
          "text": [
            "\n",
            "Model 2 - CNN Classification Report:\n",
            "               precision    recall  f1-score   support\n",
            "\n",
            "      Normal       0.96      0.96      0.96      7277\n",
            "   Anomalous       0.96      0.96      0.96      7195\n",
            "\n",
            "    accuracy                           0.96     14472\n",
            "   macro avg       0.96      0.96      0.96     14472\n",
            "weighted avg       0.96      0.96      0.96     14472\n",
            "\n",
            "✅ CNN model saved as 'cnn_model.h5'\n"
          ]
        },
        {
          "output_type": "display_data",
          "data": {
            "text/plain": [
              "<Figure size 640x480 with 2 Axes>"
            ],
            "image/png": "[encoded data removed]"
          },
          "metadata": {}
        },
        {
          "output_type": "display_data",
          "data": {
            "text/plain": [
              "<Figure size 1200x400 with 2 Axes>"
            ],
            "image/png": "[encoded data removed]"
          },
          "metadata": {}
        }
      ]
    },
    {
      "cell_type": "code",
      "execution_count": 48,
      "metadata": {
        "colab": {
          "base_uri": "https://localhost:8080/",
          "height": 926
        },
        "id": "pboeDR3QOSWh",
        "outputId": "00a013e8-feca-4644-85a6-2f8c9dff4511"
      },
      "outputs": [
        {
          "output_type": "stream",
          "name": "stderr",
          "text": [
            "/usr/local/lib/python3.11/dist-packages/keras/src/layers/convolutional/base_conv.py:107: UserWarning: Do not pass an `input_shape`/`input_dim` argument to a layer. When using Sequential models, prefer using an `Input(shape)` object as the first layer in the model instead.\n",
            "  super().__init__(activity_regularizer=activity_regularizer, **kwargs)\n"
          ]
        },
        {
          "output_type": "stream",
          "name": "stdout",
          "text": [
            "Epoch 1/5\n",
            "\u001b[1m315/315\u001b[0m \u001b[32m━━━━━━━━━━━━━━━━━━━━\u001b[0m\u001b[37m\u001b[0m \u001b[1m177s\u001b[0m 555ms/step - accuracy: 0.8666 - loss: 0.3035 - val_accuracy: 0.9265 - val_loss: 0.1659\n",
            "Epoch 2/5\n",
            "\u001b[1m315/315\u001b[0m \u001b[32m━━━━━━━━━━━━━━━━━━━━\u001b[0m\u001b[37m\u001b[0m \u001b[1m194s\u001b[0m 529ms/step - accuracy: 0.9491 - loss: 0.1299 - val_accuracy: 0.9443 - val_loss: 0.1446\n",
            "Epoch 3/5\n",
            "\u001b[1m315/315\u001b[0m \u001b[32m━━━━━━━━━━━━━━━━━━━━\u001b[0m\u001b[37m\u001b[0m \u001b[1m202s\u001b[0m 530ms/step - accuracy: 0.9685 - loss: 0.0936 - val_accuracy: 0.9482 - val_loss: 0.1431\n",
            "Epoch 4/5\n",
            "\u001b[1m315/315\u001b[0m \u001b[32m━━━━━━━━━━━━━━━━━━━━\u001b[0m\u001b[37m\u001b[0m \u001b[1m202s\u001b[0m 531ms/step - accuracy: 0.9769 - loss: 0.0743 - val_accuracy: 0.9500 - val_loss: 0.1516\n",
            "Epoch 5/5\n",
            "\u001b[1m315/315\u001b[0m \u001b[32m━━━━━━━━━━━━━━━━━━━━\u001b[0m\u001b[37m\u001b[0m \u001b[1m195s\u001b[0m 511ms/step - accuracy: 0.9829 - loss: 0.0607 - val_accuracy: 0.9554 - val_loss: 0.1563\n",
            "\u001b[1m453/453\u001b[0m \u001b[32m━━━━━━━━━━━━━━━━━━━━\u001b[0m\u001b[37m\u001b[0m \u001b[1m12s\u001b[0m 26ms/step\n"
          ]
        },
        {
          "output_type": "stream",
          "name": "stderr",
          "text": [
            "WARNING:absl:You are saving your model as an HDF5 file via `model.save()` or `keras.saving.save_model(model)`. This file format is considered legacy. We recommend using instead the native Keras format, e.g. `model.save('my_model.keras')` or `keras.saving.save_model(model, 'my_model.keras')`. \n"
          ]
        },
        {
          "output_type": "stream",
          "name": "stdout",
          "text": [
            "Model 2 - CNN Classification Report:\n",
            "               precision    recall  f1-score   support\n",
            "\n",
            "      Normal       0.96      0.96      0.96      7277\n",
            "   Anomalous       0.96      0.95      0.96      7195\n",
            "\n",
            "    accuracy                           0.96     14472\n",
            "   macro avg       0.96      0.96      0.96     14472\n",
            "weighted avg       0.96      0.96      0.96     14472\n",
            "\n",
            "CNN model saved as 'cnn_model.h5'\n"
          ]
        },
        {
          "output_type": "display_data",
          "data": {
            "text/plain": [
              "<Figure size 640x480 with 2 Axes>"
            ],
            "image/png": "[encoded data removed]"
          },
          "metadata": {}
        }
      ],
      "source": [
        "from tensorflow.keras.layers import Conv1D, MaxPooling1D, Flatten, Reshape\n",
        "\n",
        "# Reshape for 1D CNN (samples, steps, features)\n",
        "X_train_cnn = X_train.reshape((X_train.shape[0], X_train.shape[1], 1))\n",
        "X_test_cnn = X_test.reshape((X_test.shape[0], X_test.shape[1], 1))\n",
        "\n",
        "# Model 2: CNN\n",
        "model2 = Sequential([\n",
        "    Conv1D(64, 3, activation='relu', input_shape=(X_train.shape[1], 1)),\n",
        "    MaxPooling1D(pool_size=2),\n",
        "    Dropout(0.3),\n",
        "    Flatten(),\n",
        "    Dense(64, activation='relu'),\n",
        "    Dense(1, activation='sigmoid')\n",
        "])\n",
        "model2.compile(optimizer='adam', loss='binary_crossentropy', metrics=['accuracy'])\n",
        "model2.fit(X_train_cnn, y_train, epochs=5, batch_size=128, validation_split=0.2)\n",
        "\n",
        "# Evaluation\n",
        "y_pred2 = (model2.predict(X_test_cnn) > 0.5).astype(\"int32\")\n",
        "cm2 = confusion_matrix(y_test, y_pred2)\n",
        "print(\"Model 2 - CNN Classification Report:\\n\", classification_report(y_test, y_pred2, target_names=['Normal', 'Anomalous']))\n",
        "\n",
        "model2.save('cnn_model.h5')\n",
        "print(\"CNN model saved as 'cnn_model.h5'\")\n",
        "\n",
        "sns.heatmap(cm2, annot=True, fmt='d', cmap='Blues')\n",
        "plt.title(\"Model 2 - CNN Confusion Matrix\")\n",
        "plt.xlabel(\"Predicted\")\n",
        "plt.ylabel(\"Actual\")\n",
        "plt.show()\n"
      ]
    },
    {
      "cell_type": "markdown",
      "source": [
        "#COMPARASION"
      ],
      "metadata": {
        "id": "SVmy5L9ykGTn"
      }
    },
    {
      "cell_type": "code",
      "source": [
        "import pandas as pd\n",
        "import matplotlib.pyplot as plt\n",
        "import joblib\n",
        "from tensorflow.keras.models import load_model\n",
        "from sklearn.metrics import accuracy_score\n",
        "\n",
        "# Load traditional ML models\n",
        "ml_models = {\n",
        "    'Decision Tree': joblib.load('decision_tree_model.pkl'),\n",
        "    'Random Forest': joblib.load('random_forest_model.pkl'),\n",
        "    'Naive Bayes': joblib.load('naive_bayes_model.pkl'),\n",
        "    'KNN': joblib.load('knn_model.pkl'),\n",
        "    'XGB': joblib.load('xgb_model.pkl'),\n",
        "}\n",
        "\n",
        "# Load deep learning models\n",
        "dnn_model = load_model('Dnn_model.h5')\n",
        "cnn_model = load_model('cnn_model.h5')\n",
        "lstm_model = load_model('lstm_model.h5')\n",
        "\n",
        "# Evaluate models\n",
        "results = []\n",
        "\n",
        "# Machine Learning Models\n",
        "for name, model in ml_models.items():\n",
        "    y_pred = model.predict(X_test)\n",
        "    acc = accuracy_score(y_test, y_pred)\n",
        "    results.append({'Model': name, 'Accuracy': acc})\n",
        "\n",
        "# Deep Learning Models\n",
        "y_pred_dnn = (dnn_model.predict(X_test) > 0.5).astype(\"int32\")\n",
        "results.append({'Model': 'DNN', 'Accuracy': accuracy_score(y_test, y_pred_dnn)})\n",
        "\n",
        "y_pred_cnn = (cnn_model.predict(X_test_cnn) > 0.5).astype(\"int32\")\n",
        "results.append({'Model': 'CNN', 'Accuracy': accuracy_score(y_test, y_pred_cnn)})\n",
        "\n",
        "y_pred_lstm = (lstm_model.predict(X_test_lstm) > 0.5).astype(\"int32\")\n",
        "results.append({'Model': 'LSTM', 'Accuracy': accuracy_score(y_test, y_pred_lstm)})\n",
        "\n",
        "# Create DataFrame\n",
        "results_df = pd.DataFrame(results)\n",
        "results_df = results_df.sort_values(by='Accuracy', ascending=False)\n",
        "\n",
        "# Print best model\n",
        "best_model = results_df.iloc[0]\n",
        "print(f\"🏆 Best Model: {best_model['Model']} with Accuracy = {best_model['Accuracy']:.4f}\")\n",
        "\n",
        "# Plot accuracy comparison\n",
        "plt.figure(figsize=(10,6))\n",
        "plt.bar(results_df['Model'], results_df['Accuracy'], color='skyblue')\n",
        "plt.title('Model Accuracy Comparison (ML vs DL)')\n",
        "plt.ylabel('Accuracy')\n",
        "plt.ylim(0, 1)\n",
        "plt.grid(axis='y')\n",
        "plt.xticks(rotation=45)\n",
        "for i, acc in enumerate(results_df['Accuracy']):\n",
        "    plt.text(i, acc + 0.01, f\"{acc:.2f}\", ha='center', fontweight='bold')\n",
        "plt.tight_layout()\n",
        "plt.show()"
      ],
      "metadata": {
        "colab": {
          "base_uri": "https://localhost:8080/",
          "height": 729
        },
        "id": "zTXroESSEcZw",
        "outputId": "108e7314-6b2b-4056-821e-ac56aa491a86"
      },
      "execution_count": 50,
      "outputs": [
        {
          "output_type": "stream",
          "name": "stderr",
          "text": [
            "WARNING:absl:Compiled the loaded model, but the compiled metrics have yet to be built. `model.compile_metrics` will be empty until you train or evaluate the model.\n",
            "WARNING:absl:Compiled the loaded model, but the compiled metrics have yet to be built. `model.compile_metrics` will be empty until you train or evaluate the model.\n",
            "WARNING:absl:Compiled the loaded model, but the compiled metrics have yet to be built. `model.compile_metrics` will be empty until you train or evaluate the model.\n"
          ]
        },
        {
          "output_type": "stream",
          "name": "stdout",
          "text": [
            "\u001b[1m453/453\u001b[0m \u001b[32m━━━━━━━━━━━━━━━━━━━━\u001b[0m\u001b[37m\u001b[0m \u001b[1m3s\u001b[0m 5ms/step\n",
            "\u001b[1m453/453\u001b[0m \u001b[32m━━━━━━━━━━━━━━━━━━━━\u001b[0m\u001b[37m\u001b[0m \u001b[1m11s\u001b[0m 25ms/step\n",
            "\u001b[1m453/453\u001b[0m \u001b[32m━━━━━━━━━━━━━━━━━━━━\u001b[0m\u001b[37m\u001b[0m \u001b[1m2s\u001b[0m 4ms/step\n",
            "🏆 Best Model: DNN with Accuracy = 0.9625\n"
          ]
        },
        {
          "output_type": "display_data",
          "data": {
            "text/plain": [
              "<Figure size 1000x600 with 1 Axes>"
            ],
            "image/png": "[encoded data removed]"
          },
          "metadata": {}
        }
      ]
    },
    {
      "cell_type": "markdown",
      "metadata": {
        "id": "_rF-RTGFHcFi"
      },
      "source": [
        "#fine_tuned_csic_Model"
      ]
    },
    {
      "cell_type": "markdown",
      "metadata": {
        "id": "5JLQfqOPH1tI"
      },
      "source": [
        "#REAL"
      ]
    },
    {
      "cell_type": "code",
      "execution_count": null,
      "metadata": {
        "id": "r7geZRs0hbBo"
      },
      "outputs": [],
      "source": [
        "\n",
        "import os\n",
        "os.environ[\"KERAS_BACKEND\"] = \"tensorflow\"\n",
        "\n",
        "from tensorflow.keras.models import load_model\n",
        "from tensorflow.keras.layers import GRU\n",
        "from sentence_transformers import SentenceTransformer\n",
        "from huggingface_hub import hf_hub_download\n",
        "\n",
        "# Fix GRU time_major issue\n",
        "class CustomGRU(GRU):\n",
        "    def __init__(self, *args, **kwargs):\n",
        "        kwargs.pop(\"time_major\", None)  # Safely remove unsupported kwarg\n",
        "        super().__init__(*args, **kwargs)\n",
        "\n",
        "# Load model from HuggingFace\n",
        "def load_modeler():\n",
        "    local_model_path = hf_hub_download(\n",
        "        repo_id=\"noobpk/web-attack-detection\",\n",
        "        filename=\"model.h5\"\n",
        "    )\n",
        "    return load_model(local_model_path, custom_objects={\"GRU\": CustomGRU})\n",
        "\n",
        "model = load_modeler()\n",
        "\n",
        "# Load encoder\n",
        "def load_encoder():\n",
        "    model_name_or_path = os.environ.get(\"model_name_or_path\", \"sentence-transformers/all-MiniLM-L6-v2\")\n",
        "    return SentenceTransformer(model_name_or_path)\n",
        "\n",
        "encoder = load_encoder()\n",
        "\n",
        "# Main input loop\n",
        "if __name__ == \"__main__\":\n",
        "    payload = input(\"Enter payload: \")\n",
        "    print(\"Processing...\")\n",
        "\n",
        "    embeddings = encoder.encode(payload).reshape((1, 384))\n",
        "    prediction = model.predict(embeddings)\n",
        "    accuracy = float(prediction[0][0] * 100)\n",
        "    print(f\"Accuracy: {accuracy:.2f}%\")\n",
        "\n"
      ]
    },
    {
      "cell_type": "code",
      "execution_count": null,
      "metadata": {
        "id": "gXnYCYOyIOYw"
      },
      "outputs": [],
      "source": [
        "model.summary()"
      ]
    },
    {
      "cell_type": "markdown",
      "metadata": {
        "id": "qnSFb6o6IQIP"
      },
      "source": [
        "#NEW"
      ]
    },
    {
      "cell_type": "code",
      "source": [
        "import os\n",
        "import pandas as pd\n",
        "import numpy as np\n",
        "from sklearn.model_selection import train_test_split\n",
        "from tensorflow.keras.models import load_model\n",
        "from tensorflow.keras.layers import GRU\n",
        "from tensorflow.keras.optimizers import Adam\n",
        "from sentence_transformers import SentenceTransformer\n",
        "from huggingface_hub import hf_hub_download\n",
        "\n",
        "# Handle GRU issue\n",
        "class CustomGRU(GRU):\n",
        "    def __init__(self, *args, **kwargs):\n",
        "        kwargs.pop(\"time_major\", None)\n",
        "        super().__init__(*args, **kwargs)\n",
        "\n",
        "# Load model from HuggingFace\n",
        "def load_modeler():\n",
        "    local_model_path = hf_hub_download(\n",
        "        repo_id=\"noobpk/web-attack-detection\",\n",
        "        filename=\"model.h5\"\n",
        "    )\n",
        "    return load_model(local_model_path, custom_objects={\"GRU\": CustomGRU})\n",
        "\n",
        "# Load sentence encoder\n",
        "def load_encoder():\n",
        "    model_name_or_path = \"sentence-transformers/all-MiniLM-L6-v2\"\n",
        "    return SentenceTransformer(model_name_or_path)\n",
        "\n",
        "# Load and process dataset\n",
        "def load_data(csv_path):\n",
        "    df = pd.read_csv(csv_path)\n",
        "\n",
        "    # Combine all features into one string per sample (excluding the label)\n",
        "    feature_cols = [col for col in df.columns if col != 'classification']\n",
        "    df['combined'] = df[feature_cols].astype(str).agg(' '.join, axis=1)\n",
        "\n",
        "    texts = df['combined'].tolist()\n",
        "    labels = df['classification'].astype(int).tolist()\n",
        "\n",
        "    return texts, labels\n",
        "\n",
        "# Fine-tune the model\n",
        "def fine_tune(model, encoder, texts, labels, epochs=5, batch_size=32):\n",
        "    print(\"Encoding payloads...\")\n",
        "    embeddings = encoder.encode(texts, convert_to_numpy=True)\n",
        "    embeddings = embeddings.reshape((len(texts), 384, 1))\n",
        "\n",
        "    labels = np.array(labels)\n",
        "\n",
        "    X_train, X_val, y_train, y_val = train_test_split(embeddings, labels, test_size=0.2, random_state=42)\n",
        "\n",
        "    model.compile(optimizer=Adam(learning_rate=1e-4), loss='binary_crossentropy', metrics=['accuracy'])\n",
        "\n",
        "    print(\"Starting fine-tuning...\")\n",
        "    model.fit(X_train, y_train, validation_data=(X_val, y_val), epochs=epochs, batch_size=batch_size)\n",
        "\n",
        "    print(\"Training done. Saving model...\")\n",
        "    model.save(\"fine_tuned_csic_model.h5\")\n",
        "    print(\"Model saved as fine_tuned_csic_model.h5\")\n",
        "\n",
        "    # Predict on validation set\n",
        "    y_pred_probs = model.predict(X_val)\n",
        "    y_pred = (y_pred_probs > 0.5).astype(int).flatten()\n",
        "\n",
        "    # Print classification report\n",
        "    print(\"Classification Report:\\n\", classification_report(y_val, y_pred, target_names=['Normal', 'Anomalous']))\n",
        "\n",
        "    # Compute confusion matrix\n",
        "    cm = confusion_matrix(y_val, y_pred)\n",
        "\n",
        "    # Plot confusion matrix\n",
        "    plt.figure(figsize=(6,4))\n",
        "    sns.heatmap(cm, annot=True, fmt='d', cmap='Blues', xticklabels=['Normal', 'Anomalous'], yticklabels=['Normal', 'Anomalous'])\n",
        "    plt.title(\"Fine-Tuned CSIC Model Confusion Matrix\")\n",
        "    plt.xlabel(\"Predicted\")\n",
        "    plt.ylabel(\"Actual\")\n",
        "    plt.show()\n",
        "\n",
        "if __name__ == \"__main__\":\n",
        "    model = load_modeler()\n",
        "    encoder = load_encoder()\n",
        "\n",
        "\n",
        "    texts, labels = load_data(\"/content/csic_database.csv\")  # <-- Make sure this file exists\n",
        "    fine_tune(model, encoder, texts, labels, epochs=3)\n"
      ],
      "metadata": {
        "id": "fFwy4O08KVjb"
      },
      "execution_count": null,
      "outputs": []
    },
    {
      "cell_type": "markdown",
      "metadata": {
        "id": "204Hby17BKhK"
      },
      "source": [
        "#1D_CNN_Model_in_cleaned_requests.**jason**"
      ]
    },
    {
      "cell_type": "code",
      "execution_count": 52,
      "metadata": {
        "id": "HnwDjE-0xTS7",
        "colab": {
          "base_uri": "https://localhost:8080/"
        },
        "outputId": "f3acd266-fa78-4ca8-957e-3347e105f6c1"
      },
      "outputs": [
        {
          "output_type": "stream",
          "name": "stderr",
          "text": [
            "WARNING:absl:Compiled the loaded model, but the compiled metrics have yet to be built. `model.compile_metrics` will be empty until you train or evaluate the model.\n"
          ]
        },
        {
          "output_type": "stream",
          "name": "stdout",
          "text": [
            "\u001b[1m1/1\u001b[0m \u001b[32m━━━━━━━━━━━━━━━━━━━━\u001b[0m\u001b[37m\u001b[0m \u001b[1m0s\u001b[0m 115ms/step\n",
            "[0] URL: http://127.0.0.1:8000/ | Prediction: 0 ✅ Normal\n",
            "\u001b[1m1/1\u001b[0m \u001b[32m━━━━━━━━━━━━━━━━━━━━\u001b[0m\u001b[37m\u001b[0m \u001b[1m0s\u001b[0m 45ms/step\n",
            "[1] URL: http://127.0.0.1:8000/products | Prediction: 0 ✅ Normal\n",
            "\u001b[1m1/1\u001b[0m \u001b[32m━━━━━━━━━━━━━━━━━━━━\u001b[0m\u001b[37m\u001b[0m \u001b[1m0s\u001b[0m 52ms/step\n",
            "[2] URL: http://127.0.0.1:8000/ | Prediction: 0 ✅ Normal\n",
            "\u001b[1m1/1\u001b[0m \u001b[32m━━━━━━━━━━━━━━━━━━━━\u001b[0m\u001b[37m\u001b[0m \u001b[1m0s\u001b[0m 46ms/step\n",
            "[3] URL: http://127.0.0.1:8000/ | Prediction: 0 ✅ Normal\n",
            "\u001b[1m1/1\u001b[0m \u001b[32m━━━━━━━━━━━━━━━━━━━━\u001b[0m\u001b[37m\u001b[0m \u001b[1m0s\u001b[0m 44ms/step\n",
            "[4] URL: http://127.0.0.1:8000/user=ali | Prediction: 0 ✅ Normal\n",
            "\u001b[1m1/1\u001b[0m \u001b[32m━━━━━━━━━━━━━━━━━━━━\u001b[0m\u001b[37m\u001b[0m \u001b[1m0s\u001b[0m 57ms/step\n",
            "[5] URL: http://127.0.0.1:8000/ | Prediction: 0 ✅ Normal\n",
            "\u001b[1m1/1\u001b[0m \u001b[32m━━━━━━━━━━━━━━━━━━━━\u001b[0m\u001b[37m\u001b[0m \u001b[1m0s\u001b[0m 44ms/step\n",
            "[6] URL: http://127.0.0.1:8000/products | Prediction: 0 ✅ Normal\n",
            "\u001b[1m1/1\u001b[0m \u001b[32m━━━━━━━━━━━━━━━━━━━━\u001b[0m\u001b[37m\u001b[0m \u001b[1m0s\u001b[0m 48ms/step\n",
            "[7] URL: http://127.0.0.1:8000/sales | Prediction: 0 ✅ Normal\n",
            "\u001b[1m1/1\u001b[0m \u001b[32m━━━━━━━━━━━━━━━━━━━━\u001b[0m\u001b[37m\u001b[0m \u001b[1m0s\u001b[0m 71ms/step\n",
            "[8] URL: http://127.0.0.1:8000/sales | Prediction: 0 ✅ Normal\n",
            "\u001b[1m1/1\u001b[0m \u001b[32m━━━━━━━━━━━━━━━━━━━━\u001b[0m\u001b[37m\u001b[0m \u001b[1m0s\u001b[0m 74ms/step\n",
            "[9] URL: http://127.0.0.1:8000/sales | Prediction: 0 ✅ Normal\n",
            "\u001b[1m1/1\u001b[0m \u001b[32m━━━━━━━━━━━━━━━━━━━━\u001b[0m\u001b[37m\u001b[0m \u001b[1m0s\u001b[0m 64ms/step\n",
            "[10] URL: http://127.0.0.1:8000/ | Prediction: 0 ✅ Normal\n",
            "\u001b[1m1/1\u001b[0m \u001b[32m━━━━━━━━━━━━━━━━━━━━\u001b[0m\u001b[37m\u001b[0m \u001b[1m0s\u001b[0m 73ms/step\n",
            "[11] URL: http://127.0.0.1:8000/ | Prediction: 0 ✅ Normal\n",
            "\u001b[1m1/1\u001b[0m \u001b[32m━━━━━━━━━━━━━━━━━━━━\u001b[0m\u001b[37m\u001b[0m \u001b[1m0s\u001b[0m 63ms/step\n",
            "[12] URL: http://127.0.0.1:8000/sales | Prediction: 0 ✅ Normal\n",
            "\u001b[1m1/1\u001b[0m \u001b[32m━━━━━━━━━━━━━━━━━━━━\u001b[0m\u001b[37m\u001b[0m \u001b[1m0s\u001b[0m 62ms/step\n",
            "[13] URL: http://127.0.0.1:8000/sales/10/edit | Prediction: 0 ✅ Normal\n",
            "\u001b[1m1/1\u001b[0m \u001b[32m━━━━━━━━━━━━━━━━━━━━\u001b[0m\u001b[37m\u001b[0m \u001b[1m0s\u001b[0m 64ms/step\n",
            "[14] URL: http://127.0.0.1:8000/sales | Prediction: 0 ✅ Normal\n",
            "\u001b[1m1/1\u001b[0m \u001b[32m━━━━━━━━━━━━━━━━━━━━\u001b[0m\u001b[37m\u001b[0m \u001b[1m0s\u001b[0m 68ms/step\n",
            "[15] URL: http://127.0.0.1:8000/sales | Prediction: 0 ✅ Normal\n",
            "\u001b[1m1/1\u001b[0m \u001b[32m━━━━━━━━━━━━━━━━━━━━\u001b[0m\u001b[37m\u001b[0m \u001b[1m0s\u001b[0m 65ms/step\n",
            "[16] URL: http://127.0.0.1:8000/sales | Prediction: 0 ✅ Normal\n",
            "\u001b[1m1/1\u001b[0m \u001b[32m━━━━━━━━━━━━━━━━━━━━\u001b[0m\u001b[37m\u001b[0m \u001b[1m0s\u001b[0m 63ms/step\n",
            "[17] URL: http://127.0.0.1:8000/installments | Prediction: 0 ✅ Normal\n",
            "\u001b[1m1/1\u001b[0m \u001b[32m━━━━━━━━━━━━━━━━━━━━\u001b[0m\u001b[37m\u001b[0m \u001b[1m0s\u001b[0m 60ms/step\n",
            "[18] URL: http://127.0.0.1:8000/sales | Prediction: 0 ✅ Normal\n",
            "\u001b[1m1/1\u001b[0m \u001b[32m━━━━━━━━━━━━━━━━━━━━\u001b[0m\u001b[37m\u001b[0m \u001b[1m0s\u001b[0m 62ms/step\n",
            "[19] URL: http://127.0.0.1:8000/sales | Prediction: 0 ✅ Normal\n",
            "\u001b[1m1/1\u001b[0m \u001b[32m━━━━━━━━━━━━━━━━━━━━\u001b[0m\u001b[37m\u001b[0m \u001b[1m0s\u001b[0m 64ms/step\n",
            "[20] URL: http://127.0.0.1:8000/sales | Prediction: 0 ✅ Normal\n",
            "\u001b[1m1/1\u001b[0m \u001b[32m━━━━━━━━━━━━━━━━━━━━\u001b[0m\u001b[37m\u001b[0m \u001b[1m0s\u001b[0m 78ms/step\n",
            "[21] URL: http://127.0.0.1:8000/sales | Prediction: 0 ✅ Normal\n",
            "\u001b[1m1/1\u001b[0m \u001b[32m━━━━━━━━━━━━━━━━━━━━\u001b[0m\u001b[37m\u001b[0m \u001b[1m0s\u001b[0m 61ms/step\n",
            "[22] URL: http://127.0.0.1:8000/sales | Prediction: 0 ✅ Normal\n",
            "\u001b[1m1/1\u001b[0m \u001b[32m━━━━━━━━━━━━━━━━━━━━\u001b[0m\u001b[37m\u001b[0m \u001b[1m0s\u001b[0m 63ms/step\n",
            "[23] URL: http://127.0.0.1:8000/sales | Prediction: 0 ✅ Normal\n",
            "\u001b[1m1/1\u001b[0m \u001b[32m━━━━━━━━━━━━━━━━━━━━\u001b[0m\u001b[37m\u001b[0m \u001b[1m0s\u001b[0m 57ms/step\n",
            "[24] URL: http://127.0.0.1:8000/sales | Prediction: 0 ✅ Normal\n",
            "\u001b[1m1/1\u001b[0m \u001b[32m━━━━━━━━━━━━━━━━━━━━\u001b[0m\u001b[37m\u001b[0m \u001b[1m0s\u001b[0m 46ms/step\n",
            "[25] URL: http://127.0.0.1:8000/sales/10/edit | Prediction: 0 ✅ Normal\n",
            "\u001b[1m1/1\u001b[0m \u001b[32m━━━━━━━━━━━━━━━━━━━━\u001b[0m\u001b[37m\u001b[0m \u001b[1m0s\u001b[0m 44ms/step\n",
            "[26] URL: http://127.0.0.1:8000/sales/10 | Prediction: 0 ✅ Normal\n",
            "\u001b[1m1/1\u001b[0m \u001b[32m━━━━━━━━━━━━━━━━━━━━\u001b[0m\u001b[37m\u001b[0m \u001b[1m0s\u001b[0m 50ms/step\n",
            "[27] URL: http://127.0.0.1:8000/sales | Prediction: 0 ✅ Normal\n",
            "\u001b[1m1/1\u001b[0m \u001b[32m━━━━━━━━━━━━━━━━━━━━\u001b[0m\u001b[37m\u001b[0m \u001b[1m0s\u001b[0m 44ms/step\n",
            "[28] URL: http://127.0.0.1:8000/sales | Prediction: 0 ✅ Normal\n",
            "\u001b[1m1/1\u001b[0m \u001b[32m━━━━━━━━━━━━━━━━━━━━\u001b[0m\u001b[37m\u001b[0m \u001b[1m0s\u001b[0m 46ms/step\n",
            "[29] URL: http://127.0.0.1:8000/sales/10/edit | Prediction: 0 ✅ Normal\n",
            "\u001b[1m1/1\u001b[0m \u001b[32m━━━━━━━━━━━━━━━━━━━━\u001b[0m\u001b[37m\u001b[0m \u001b[1m0s\u001b[0m 47ms/step\n",
            "[30] URL: http://127.0.0.1:8000/sales/10 | Prediction: 0 ✅ Normal\n",
            "\u001b[1m1/1\u001b[0m \u001b[32m━━━━━━━━━━━━━━━━━━━━\u001b[0m\u001b[37m\u001b[0m \u001b[1m0s\u001b[0m 46ms/step\n",
            "[31] URL: http://127.0.0.1:8000/sales | Prediction: 0 ✅ Normal\n",
            "\u001b[1m1/1\u001b[0m \u001b[32m━━━━━━━━━━━━━━━━━━━━\u001b[0m\u001b[37m\u001b[0m \u001b[1m0s\u001b[0m 48ms/step\n",
            "[32] URL: http://127.0.0.1:8000/ | Prediction: 0 ✅ Normal\n",
            "\u001b[1m1/1\u001b[0m \u001b[32m━━━━━━━━━━━━━━━━━━━━\u001b[0m\u001b[37m\u001b[0m \u001b[1m0s\u001b[0m 45ms/step\n",
            "[33] URL: http://127.0.0.1:8000/sales | Prediction: 0 ✅ Normal\n",
            "\u001b[1m1/1\u001b[0m \u001b[32m━━━━━━━━━━━━━━━━━━━━\u001b[0m\u001b[37m\u001b[0m \u001b[1m0s\u001b[0m 48ms/step\n",
            "[34] URL: http://127.0.0.1:8000/sales | Prediction: 0 ✅ Normal\n",
            "\u001b[1m1/1\u001b[0m \u001b[32m━━━━━━━━━━━━━━━━━━━━\u001b[0m\u001b[37m\u001b[0m \u001b[1m0s\u001b[0m 49ms/step\n",
            "[35] URL: http://127.0.0.1:8000/sales | Prediction: 0 ✅ Normal\n",
            "\u001b[1m1/1\u001b[0m \u001b[32m━━━━━━━━━━━━━━━━━━━━\u001b[0m\u001b[37m\u001b[0m \u001b[1m0s\u001b[0m 48ms/step\n",
            "[36] URL: http://127.0.0.1:8000/sales | Prediction: 0 ✅ Normal\n",
            "\u001b[1m1/1\u001b[0m \u001b[32m━━━━━━━━━━━━━━━━━━━━\u001b[0m\u001b[37m\u001b[0m \u001b[1m0s\u001b[0m 45ms/step\n",
            "[37] URL: http://127.0.0.1:8000/sales | Prediction: 0 ✅ Normal\n",
            "\u001b[1m1/1\u001b[0m \u001b[32m━━━━━━━━━━━━━━━━━━━━\u001b[0m\u001b[37m\u001b[0m \u001b[1m0s\u001b[0m 61ms/step\n",
            "[38] URL: http://127.0.0.1:8000/sales | Prediction: 0 ✅ Normal\n",
            "\u001b[1m1/1\u001b[0m \u001b[32m━━━━━━━━━━━━━━━━━━━━\u001b[0m\u001b[37m\u001b[0m \u001b[1m0s\u001b[0m 44ms/step\n",
            "[39] URL: http://127.0.0.1:8000/sales | Prediction: 0 ✅ Normal\n",
            "\u001b[1m1/1\u001b[0m \u001b[32m━━━━━━━━━━━━━━━━━━━━\u001b[0m\u001b[37m\u001b[0m \u001b[1m0s\u001b[0m 45ms/step\n",
            "[40] URL: http://127.0.0.1:8000/sales | Prediction: 0 ✅ Normal\n",
            "\u001b[1m1/1\u001b[0m \u001b[32m━━━━━━━━━━━━━━━━━━━━\u001b[0m\u001b[37m\u001b[0m \u001b[1m0s\u001b[0m 48ms/step\n",
            "[41] URL: http://127.0.0.1:8000/sales | Prediction: 0 ✅ Normal\n",
            "\u001b[1m1/1\u001b[0m \u001b[32m━━━━━━━━━━━━━━━━━━━━\u001b[0m\u001b[37m\u001b[0m \u001b[1m0s\u001b[0m 48ms/step\n",
            "[42] URL: http://127.0.0.1:8000/sales | Prediction: 0 ✅ Normal\n",
            "\u001b[1m1/1\u001b[0m \u001b[32m━━━━━━━━━━━━━━━━━━━━\u001b[0m\u001b[37m\u001b[0m \u001b[1m0s\u001b[0m 47ms/step\n",
            "[43] URL: http://127.0.0.1:8000/sales | Prediction: 0 ✅ Normal\n",
            "\u001b[1m1/1\u001b[0m \u001b[32m━━━━━━━━━━━━━━━━━━━━\u001b[0m\u001b[37m\u001b[0m \u001b[1m0s\u001b[0m 44ms/step\n",
            "[44] URL: http://127.0.0.1:8000/sales | Prediction: 0 ✅ Normal\n",
            "\u001b[1m1/1\u001b[0m \u001b[32m━━━━━━━━━━━━━━━━━━━━\u001b[0m\u001b[37m\u001b[0m \u001b[1m0s\u001b[0m 42ms/step\n",
            "[45] URL: http://127.0.0.1:8000/sales | Prediction: 0 ✅ Normal\n",
            "\u001b[1m1/1\u001b[0m \u001b[32m━━━━━━━━━━━━━━━━━━━━\u001b[0m\u001b[37m\u001b[0m \u001b[1m0s\u001b[0m 43ms/step\n",
            "[46] URL: http://127.0.0.1:8000/ | Prediction: 0 ✅ Normal\n",
            "\u001b[1m1/1\u001b[0m \u001b[32m━━━━━━━━━━━━━━━━━━━━\u001b[0m\u001b[37m\u001b[0m \u001b[1m0s\u001b[0m 44ms/step\n",
            "[47] URL: http://127.0.0.1:8000/sales | Prediction: 0 ✅ Normal\n",
            "\u001b[1m1/1\u001b[0m \u001b[32m━━━━━━━━━━━━━━━━━━━━\u001b[0m\u001b[37m\u001b[0m \u001b[1m0s\u001b[0m 42ms/step\n",
            "[48] URL: http://127.0.0.1:8000/sales | Prediction: 0 ✅ Normal\n",
            "\u001b[1m1/1\u001b[0m \u001b[32m━━━━━━━━━━━━━━━━━━━━\u001b[0m\u001b[37m\u001b[0m \u001b[1m0s\u001b[0m 45ms/step\n",
            "[49] URL: http://127.0.0.1:8000/users | Prediction: 1 🚨 Anomalous\n",
            "\u001b[1m1/1\u001b[0m \u001b[32m━━━━━━━━━━━━━━━━━━━━\u001b[0m\u001b[37m\u001b[0m \u001b[1m0s\u001b[0m 49ms/step\n",
            "[50] URL: http://127.0.0.1:8000/users | Prediction: 1 🚨 Anomalous\n",
            "\u001b[1m1/1\u001b[0m \u001b[32m━━━━━━━━━━━━━━━━━━━━\u001b[0m\u001b[37m\u001b[0m \u001b[1m0s\u001b[0m 49ms/step\n",
            "[51] URL: http://127.0.0.1:8000/users?or%201=1 | Prediction: 0 ✅ Normal\n",
            "\u001b[1m1/1\u001b[0m \u001b[32m━━━━━━━━━━━━━━━━━━━━\u001b[0m\u001b[37m\u001b[0m \u001b[1m0s\u001b[0m 45ms/step\n",
            "[52] URL: http://127.0.0.1:8000/users?user=1 | Prediction: 0 ✅ Normal\n"
          ]
        }
      ],
      "source": [
        "import joblib\n",
        "import numpy as np\n",
        "import re\n",
        "import json\n",
        "from tensorflow.keras.models import load_model\n",
        "from urllib.parse import parse_qs\n",
        "\n",
        "# ---------------- Load Everything Needed ----------------\n",
        "cnn_model = load_model('cnn_model.h5')\n",
        "scaler = joblib.load('scaler.pkl')\n",
        "\n",
        "with open('url_vectorizer.pkl', 'rb') as f:\n",
        "    url_tfidf = joblib.load(f)\n",
        "\n",
        "with open('content_vectorizer.pkl', 'rb') as f:\n",
        "    content_tfidf = joblib.load(f)\n",
        "\n",
        "# ---------------- Feature Extraction Function ----------------\n",
        "def extract_features_for_entry(uri, method, payload_dict):\n",
        "    malicious_keywords = [\n",
        "        'SELECT', 'UNION', 'DROP', 'DELETE', 'FROM', 'WHERE', 'OR', 'LIKE', 'AND', '1=1', '--', '\\'',\n",
        "        'SCRIPT', 'javascript', 'alert', 'iframe', 'src=', 'onerror', 'prompt', 'confirm', 'eval', 'onload',\n",
        "        'mouseover', 'onunload', 'document.', 'window.', 'xmlhttprequest', 'xhr', 'cookie',\n",
        "        'tamper', 'vaciar', 'carrito', 'incorrect', 'pwd', 'login', 'password', 'id',\n",
        "        '%0D', '%0A', '.php', '.js', 'admin', 'administrator'\n",
        "    ]\n",
        "\n",
        "    uri = uri.replace('http://localhost:8080', '')\n",
        "\n",
        "    content = '&'.join([f\"{k}={v}\" for k, v in payload_dict.items()]) if payload_dict else \"\"\n",
        "\n",
        "    manual = [\n",
        "        len(uri),\n",
        "        len(re.findall(r'[%;=<>\\/&\\'\"()\\[\\]#\\-\\+]', uri)),\n",
        "        sum(1 for kw in malicious_keywords if kw.lower() in uri.lower()),\n",
        "        uri.count('&') + 1 if '?' in uri else 0,\n",
        "        len(content),\n",
        "        len(re.findall(r'[%;=<>\\/&\\'\"()\\[\\]#\\-\\+]', content)),\n",
        "        sum(1 for kw in malicious_keywords if kw.lower() in content.lower()),\n",
        "        1 if method == 'POST' else 0\n",
        "    ]\n",
        "\n",
        "    url_vec = url_tfidf.transform([uri]).toarray()\n",
        "    content_vec = content_tfidf.transform([content]).toarray()\n",
        "\n",
        "    full_feature = np.hstack([manual, url_vec[0], content_vec[0]])\n",
        "\n",
        "\n",
        "\n",
        "    return full_feature.reshape(1, -1)\n",
        "\n",
        "# ---------------- Main Execution ----------------\n",
        "with open('/content/cleaned_requests.json', 'r') as f:\n",
        "    data_entries = json.load(f)\n",
        "\n",
        "for idx, entry in enumerate(data_entries):\n",
        "    try:\n",
        "        if entry.get('type') != 'request':\n",
        "            continue\n",
        "\n",
        "        uri = entry.get('url', '') or entry.get('referrer', '') or entry.get('uri', '')\n",
        "        method = entry.get('method', 'GET')\n",
        "\n",
        "        content_raw = entry.get('content', {})\n",
        "        if isinstance(content_raw, str):\n",
        "            try:\n",
        "                content = json.loads(content_raw)\n",
        "            except:\n",
        "                content = {}\n",
        "        else:\n",
        "            content = content_raw\n",
        "\n",
        "        payload = content.get('payload', {})\n",
        "        if isinstance(payload, str):\n",
        "            payload = {k: v[0] if len(v) == 1 else v for k, v in parse_qs(payload).items()}\n",
        "\n",
        "        x_entry = extract_features_for_entry(uri, method, payload)\n",
        "        x_entry_scaled = scaler.transform(x_entry)\n",
        "\n",
        "        # Reshape for CNN: (batch_size, features, 1)\n",
        "        x_entry_reshaped = x_entry_scaled.reshape((x_entry_scaled.shape[0], x_entry_scaled.shape[1], 1))\n",
        "\n",
        "        prediction = cnn_model.predict(x_entry_reshaped)\n",
        "        prediction_class = int(prediction[0][0] > 0.5)  # Binary classification threshold\n",
        "\n",
        "        print(f\"[{idx}] URL: {uri} | Prediction: {prediction_class} {'🚨 Anomalous' if prediction_class == 1 else '✅ Normal'}\")\n",
        "\n",
        "    except Exception as e:\n",
        "        print(f\"[{idx}] Error processing entry: {e}\")\n"
      ]
    }
  ],
  "metadata": {
    "accelerator": "GPU",
    "colab": {
      "gpuType": "T4",
      "provenance": [],
      "authorship_tag": "ABX9TyO0wXa6BvireNXWFN69NSmJ",
      "include_colab_link": true
    },
    "kernelspec": {
      "display_name": "Python 3",
      "name": "python3"
    },
    "language_info": {
      "name": "python"
    }
  },
  "nbformat": 4,
  "nbformat_minor": 0
}